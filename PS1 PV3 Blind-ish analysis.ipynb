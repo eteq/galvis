{
 "cells": [
  {
   "cell_type": "code",
   "execution_count": null,
   "metadata": {
    "collapsed": true
   },
   "outputs": [],
   "source": [
    "from glob import glob\n",
    "\n",
    "import numpy as np\n",
    "from scipy import stats\n",
    "\n",
    "from astropy import units as u\n",
    "from astropy.coordinates import Distance\n",
    "from astropy.table import Table"
   ]
  },
  {
   "cell_type": "code",
   "execution_count": null,
   "metadata": {
    "collapsed": true
   },
   "outputs": [],
   "source": [
    "%matplotlib inline\n",
    "from matplotlib import style, pyplot as plt\n",
    "from mpl_toolkits.mplot3d import Axes3D\n",
    "\n",
    "plt.rcParams['image.cmap'] = 'viridis'\n",
    "plt.rcParams['image.origin'] = 'lower'\n",
    "plt.rcParams['axes.prop_cycle'] = style.library['seaborn-deep']['axes.prop_cycle']\n",
    "plt.rcParams['figure.figsize'] = (14, 8)\n",
    "plt.rcParams['axes.titlesize'] =  plt.rcParams['axes.labelsize'] = 16\n",
    "plt.rcParams['xtick.labelsize'] =  plt.rcParams['ytick.labelsize'] = 14"
   ]
  },
  {
   "cell_type": "code",
   "execution_count": null,
   "metadata": {
    "collapsed": false
   },
   "outputs": [],
   "source": [
    "# widens the nb to mostly fill the screen rather than being fixed-width\n",
    "from IPython.core.display import display, HTML\n",
    "display(HTML(\"<style>.container { width:90% !important; }</style>\"))"
   ]
  },
  {
   "cell_type": "markdown",
   "metadata": {},
   "source": [
    "# Load Data"
   ]
  },
  {
   "cell_type": "code",
   "execution_count": null,
   "metadata": {
    "collapsed": true
   },
   "outputs": [],
   "source": [
    "meanstack_fns = {'draco': ('draco_mean_db_jegpeek.fits.gz', 'stack_draco_jegpeek.fits.gz')}\n",
    "meanstack_fns[''] = ('Aquarius_mn_db_jegpeek.fit.gz', 'Aquarius_st_db_jegpeek.fit.gz')\n",
    "for i in range(len(glob('vdev_*_st_db_jegpeek.fit.gz'))):\n",
    "    mnfn = 'vdev_{:02.0f}_mn_db_jegpeek.fit.gz'.format(i)\n",
    "    stfn = 'vdev_{:02.0f}_st_db_jegpeek.fit.gz'.format(i)\n",
    "    meanstack_fns['vdev_{:02.0f}'.format(i)] = (mnfn, stfn)"
   ]
  },
  {
   "cell_type": "code",
   "execution_count": null,
   "metadata": {
    "collapsed": false
   },
   "outputs": [],
   "source": [
    "meanstack_tabs = {}\n",
    "for nm, (mean_fn, stack_fn) in meanstack_fns.items():\n",
    "    mean_tab = Table.read(mean_fn)\n",
    "    stack_tab = Table.read(stack_fn)\n",
    "    meanstack_tabs[nm] = (mean_tab, stack_tab)"
   ]
  },
  {
   "cell_type": "code",
   "execution_count": null,
   "metadata": {
    "collapsed": false
   },
   "outputs": [],
   "source": [
    "# informational, to know the distance modulii at various distances\n",
    "\n",
    "draco_d = Distance(80, u.kpc)\n",
    "Distance([200, 400, 1500], u.kpc).distmod - draco_d.distmod"
   ]
  },
  {
   "cell_type": "markdown",
   "metadata": {},
   "source": [
    "# Star/Galaxy Separation "
   ]
  },
  {
   "cell_type": "code",
   "execution_count": null,
   "metadata": {
    "collapsed": true
   },
   "outputs": [],
   "source": [
    "def stargalprob(r_kron, r_kron_err, r_ap, r_ap_err, r_psf, r_psf_err, width=.2):\n",
    "    kronpsferr = np.hypot(r_kron_err, r_psf_err)\n",
    "    appsferr = np.hypot(r_ap_err, r_psf_err)\n",
    "    \n",
    "    dkron = np.abs(r_kron-r_psf)/kronpsferr\n",
    "    dap = np.abs(r_ap-r_psf)/appsferr\n",
    "    dmean = (dkron + dap)/2\n",
    "    \n",
    "    #return stats.norm.cdf(-dap,0,1)*2\n",
    "    return stats.norm.cdf(-dap*appsferr,0, width)*2"
   ]
  },
  {
   "cell_type": "code",
   "execution_count": null,
   "metadata": {
    "collapsed": false
   },
   "outputs": [],
   "source": [
    "for mean_tab, stack_tab in meanstack_tabs.values():\n",
    "    mean_tab['starprob'] = stargalprob(mean_tab['m_rMeanKronMag'], mean_tab['m_rMeanKronMagErr'],\n",
    "                                       mean_tab['m_rMeanApMag'], mean_tab['m_rMeanApMagErr'],\n",
    "                                       mean_tab['m_rMeanPSFMag'], mean_tab['m_rMeanPSFMagErr'], width=.1)\n",
    "    stack_tab['starprob'] = stargalprob(stack_tab['st_rKronMag'], stack_tab['st_rKronMagErr'],\n",
    "                                        stack_tab['st_rApMag'], stack_tab['st_rApMagErr'],\n",
    "                                        stack_tab['st_rPSFMag'], stack_tab['st_rPSFMagErr'], width=.3)"
   ]
  },
  {
   "cell_type": "markdown",
   "metadata": {},
   "source": [
    "# Randomize and show "
   ]
  },
  {
   "cell_type": "code",
   "execution_count": null,
   "metadata": {
    "collapsed": true
   },
   "outputs": [],
   "source": [
    "oldstate = np.random.get_state()\n",
    "try:\n",
    "    np.random.seed(11235)\n",
    "    randomized_order = np.random.permutation(list(meanstack_tabs.keys()))\n",
    "finally:\n",
    "    np.random.set_state(oldstate)"
   ]
  },
  {
   "cell_type": "code",
   "execution_count": null,
   "metadata": {
    "collapsed": false,
    "scrolled": true
   },
   "outputs": [],
   "source": [
    "for i, nm in enumerate(randomized_order):\n",
    "    mean_tab, stack_tab = meanstack_tabs[nm]\n",
    "    \n",
    "    plt.figure()\n",
    "    \n",
    "    gmi_stack = stack_tab['st_gPSFMag'] - stack_tab['st_iPSFMag']\n",
    "    r_stack = stack_tab['st_rPSFMag']\n",
    "    starmsk_stack = stack_tab['starprob'] >0.5\n",
    "\n",
    "    gmi_mean = mean_tab['m_gMeanPSFMag'] - mean_tab['m_iMeanPSFMag']\n",
    "    r_mean = mean_tab['m_rMeanPSFMag']\n",
    "    starmsk_mean = mean_tab['starprob'] >0.5\n",
    "\n",
    "    fig, axs = plt.subplots(1, 2)\n",
    "    axs[0].scatter(gmi_mean[starmsk_mean], r_mean[starmsk_mean], alpha=.25, lw=0, s=2, c='r')\n",
    "    axs[0].scatter(gmi_mean[~starmsk_mean], r_mean[~starmsk_mean], alpha=.1, lw=0, s=1, c='k')\n",
    "    axs[1].scatter(gmi_stack[starmsk_stack], r_stack[starmsk_stack], alpha=.25, lw=0, s=2, c='b')\n",
    "    axs[1].scatter(gmi_stack[~starmsk_stack], r_stack[~starmsk_stack], alpha=.1, lw=0, s=1, c='k')\n",
    "\n",
    "    for ax in axs:\n",
    "        ax.set_xlim(-.5, 1.8)\n",
    "        ax.set_ylim(23.2, 15)\n",
    "\n",
    "        ax.set_xlabel('g-i')\n",
    "        ax.set_ylabel('r')\n",
    "\n",
    "    axs[0].set_title('mean, i={}'.format(i))\n",
    "    axs[1].set_title('stack, i={}'.format(i))\n",
    "    \n",
    "    \n",
    "print('#Paste this in the cell below for final judgements *before* revealing the names:')\n",
    "print('sat_present_idx = {}')\n",
    "for i in range(len(randomized_order)):\n",
    "    print(\"sat_present_idx[{}] = 'unknown' # 'yes', 'no', 'maybe'\".format(i))\n",
    "print('sat_present_idx')\n",
    "print(\"\"\"\n",
    "\n",
    "sat_present = {}\n",
    "for i, nm in  enumerate(randomized_order):\n",
    "    print(nm,':', sat_present_idx[i])\n",
    "    sat_present[nm] = sat_present_idx[i]\n",
    "\"\"\"[1:-1])"
   ]
  },
  {
   "cell_type": "code",
   "execution_count": null,
   "metadata": {
    "collapsed": false
   },
   "outputs": [],
   "source": [
    "sat_present_idx = {}\n",
    "sat_present_idx[0] = 'no' # 'yes', 'no', 'maybe'\n",
    "sat_present_idx[1] = 'no' # 'yes', 'no', 'maybe'\n",
    "sat_present_idx[2] = 'no' # 'yes', 'no', 'maybe'\n",
    "sat_present_idx[3] = 'no' # 'yes', 'no', 'maybe'\n",
    "sat_present_idx[4] = 'no' # 'yes', 'no', 'maybe'\n",
    "sat_present_idx[5] = 'yes' # 'yes', 'no', 'maybe'\n",
    "sat_present_idx[6] = 'no' # 'yes', 'no', 'maybe'\n",
    "sat_present_idx[7] = 'unknown' # 'yes', 'no', 'maybe'\n",
    "sat_present_idx[8] = 'maybe' # 'yes', 'no', 'maybe'\n",
    "sat_present_idx[9] = 'unknown' # 'yes', 'no', 'maybe'\n",
    "sat_present_idx[10] = 'unknown' # 'yes', 'no', 'maybe'\n",
    "sat_present_idx[11] = 'no' # 'yes', 'no', 'maybe'\n",
    "sat_present_idx[12] = 'no' # 'yes', 'no', 'maybe'\n",
    "\n",
    "sat_present = {}\n",
    "for i, nm in  enumerate(randomized_order):\n",
    "    sat_present[nm] = sat_present_idx[i]\n",
    "sat_present"
   ]
  },
  {
   "cell_type": "markdown",
   "metadata": {},
   "source": [
    "# Look more closely at maybe's/yes's "
   ]
  },
  {
   "cell_type": "code",
   "execution_count": null,
   "metadata": {
    "collapsed": false
   },
   "outputs": [],
   "source": [
    "def exam_plot(nm, rad=10*u.arcmin, alphascale=1, sizescale=1, bgcolor=None, show_far=True, inject=None, title=None):\n",
    "    mean_tab, stack_tab = meanstack_tabs[nm]\n",
    "\n",
    "    gmi_stack = stack_tab['st_gPSFMag'] - stack_tab['st_iPSFMag']\n",
    "    r_stack = stack_tab['st_rPSFMag']\n",
    "    starprob_stack = stack_tab['starprob']\n",
    "    starmsk_stack = starprob_stack >0.5\n",
    "    if rad:\n",
    "        ra0_stack = np.mean(stack_tab['st_raStack'])\n",
    "        dec0_stack = np.mean(stack_tab['st_decStack'])\n",
    "        near_stack = np.hypot((stack_tab['st_raStack']-ra0_stack)*np.cos(dec0_stack*u.deg), stack_tab['st_decStack']-dec0_stack)*u.deg < rad\n",
    "\n",
    "    gmi_mean = mean_tab['m_gMeanPSFMag'] - mean_tab['m_iMeanPSFMag']\n",
    "    r_mean = mean_tab['m_rMeanPSFMag']\n",
    "    starprob_mean = mean_tab['starprob']\n",
    "    starmsk_mean = starprob_mean >0.5\n",
    "    if rad:\n",
    "        ra0_mean = np.mean(mean_tab['o_raMean'])\n",
    "        dec0_mean = np.mean(mean_tab['o_decMean'])\n",
    "        near_mean = np.hypot((mean_tab['o_raMean']-ra0_mean)*np.cos(dec0_mean*u.deg), mean_tab['o_decMean']-dec0_mean)*u.deg < rad\n",
    "    \n",
    "    if inject:\n",
    "        gmi_inject, r_inject = inject\n",
    "        \n",
    "        gmi_stack = np.concatenate((gmi_stack, gmi_inject))\n",
    "        r_stack = np.concatenate((r_stack, r_inject))\n",
    "        starprob_stack = np.concatenate((starprob_stack, [1]*len(r_inject)))\n",
    "        starmsk_stack = np.concatenate((starmsk_stack, [True]*len(r_inject)))\n",
    "        if rad:\n",
    "            near_stack = np.concatenate((near_stack, [True]*len(r_inject)))\n",
    "        \n",
    "        gmi_mean = np.concatenate((gmi_mean, gmi_inject))\n",
    "        r_mean = np.concatenate((r_mean, r_inject))\n",
    "        starprob_mean = np.concatenate((starprob_mean, [1]*len(r_inject)))\n",
    "        starmsk_mean = np.concatenate((starmsk_mean, [True]*len(r_inject)))\n",
    "        if rad:\n",
    "            near_mean = np.concatenate((near_mean, [True]*len(r_inject)))\n",
    "\n",
    "    fig, axs = plt.subplots(2 if rad else 1, 2, figsize=(14,14 if rad else 7))\n",
    "\n",
    "    axs.flat[0].scatter(gmi_mean[starmsk_mean], r_mean[starmsk_mean], alpha=.2*alphascale, lw=0, s=2*sizescale, c='r')\n",
    "    axs.flat[0].scatter(gmi_mean[~starmsk_mean], r_mean[~starmsk_mean], alpha=.1, lw=0, s=1, c='k')\n",
    "\n",
    "    axs.flat[1].scatter(gmi_stack[starmsk_stack], r_stack[starmsk_stack], alpha=.2*alphascale, lw=0, s=2*sizescale, c='b')\n",
    "    axs.flat[1].scatter(gmi_stack[~starmsk_stack], r_stack[~starmsk_stack], alpha=.1, lw=0, s=1, c='k')\n",
    "\n",
    "    if rad:\n",
    "        sc = axs.flat[2].scatter(gmi_mean[near_mean], r_mean[near_mean], alpha=.5*alphascale, lw=0, s=1*sizescale, \n",
    "                                 c=1-starprob_mean[near_mean], vmin=0, vmax=1)\n",
    "        plt.colorbar(sc, orientation='vertical', ax=axs.flat[2]).set_label('$P_{gal}$')\n",
    "        if show_far:\n",
    "            axs.flat[2].scatter(gmi_mean[~near_mean], r_mean[~near_mean], alpha=.1, lw=0, s=1, c='k')\n",
    "\n",
    "        sc = axs.flat[3].scatter(gmi_stack[near_stack], r_stack[near_stack], alpha=.5*alphascale, lw=0, s=1*sizescale, \n",
    "                                 c=1-starmsk_stack[near_stack], vmin=0, vmax=1)\n",
    "        plt.colorbar(sc, orientation='vertical', ax=axs.flat[3]).set_label('$P_{gal}$')\n",
    "        if show_far:\n",
    "            axs.flat[3].scatter(gmi_stack[~near_stack], r_stack[~near_stack], alpha=.1, lw=0, s=1, c='k')\n",
    "\n",
    "    for ax in axs.flat:\n",
    "        if bgcolor is not None:\n",
    "            ax.set_axis_bgcolor(bgcolor)\n",
    "        ax.set_xlim(-.5, 1.8)\n",
    "        ax.set_ylim(23.2, 15)\n",
    "\n",
    "        ax.set_xlabel('g-i')\n",
    "        ax.set_ylabel('r')\n",
    "    \n",
    "    if title is None:\n",
    "        title = nm\n",
    "    axs.flat[0].set_title('mean, {}'.format(title))\n",
    "    axs.flat[1].set_title('stack, {}'.format(title))"
   ]
  },
  {
   "cell_type": "code",
   "execution_count": null,
   "metadata": {
    "collapsed": false
   },
   "outputs": [],
   "source": [
    "exam_plot('draco', 10*u.arcmin, bgcolor=None)"
   ]
  },
  {
   "cell_type": "code",
   "execution_count": null,
   "metadata": {
    "collapsed": false
   },
   "outputs": [],
   "source": [
    "exam_plot('vdev_00', 5*u.arcmin, bgcolor=None, alphascale=2, sizescale=3)"
   ]
  },
  {
   "cell_type": "markdown",
   "metadata": {},
   "source": [
    "# Injected signals"
   ]
  },
  {
   "cell_type": "code",
   "execution_count": null,
   "metadata": {
    "collapsed": true
   },
   "outputs": [],
   "source": [
    "#start with those that have *no* obvious signs of sats\n",
    "nosig = [nm for nm, val in sat_present.items() if val=='no']"
   ]
  },
  {
   "cell_type": "code",
   "execution_count": null,
   "metadata": {
    "collapsed": false
   },
   "outputs": [],
   "source": [
    "def simulate_dwarf_stars(Mstar, distance, sc_for_extinction=None):\n",
    "    if sc_for_extinction:\n",
    "        raise NotImplementedError\n",
    "    raise NotImplementedError\n",
    "    return None\n",
    "    return (gmi, r)"
   ]
  },
  {
   "cell_type": "code",
   "execution_count": null,
   "metadata": {
    "collapsed": false
   },
   "outputs": [],
   "source": [
    "Mstars = [1e3, 1e5, 1e7]*u.solMass\n",
    "distances = [50, 300, 1000]*u.kpc\n",
    "\n",
    "simulations = {}\n",
    "for Mstar in Mstars:\n",
    "    for dist in distances:\n",
    "        simulations[(Mstar, dist)] = simulate_dwarf_stars(Mstar, dist)"
   ]
  },
  {
   "cell_type": "code",
   "execution_count": null,
   "metadata": {
    "collapsed": false,
    "scrolled": true
   },
   "outputs": [],
   "source": [
    "for (Mstar, dist), sim in simulations.items():\n",
    "    nm = nosig[np.random.randint(len(nosig))]\n",
    "    exam_plot(nm, rad=None, inject=sim, title='{}, {}, {}'.format(nm, Mstar, dist))"
   ]
  },
  {
   "cell_type": "markdown",
   "metadata": {},
   "source": [
    "# Appendices"
   ]
  },
  {
   "cell_type": "markdown",
   "metadata": {},
   "source": [
    "# S/G separation checks"
   ]
  },
  {
   "cell_type": "code",
   "execution_count": null,
   "metadata": {
    "collapsed": false
   },
   "outputs": [],
   "source": [
    "appdx_sample = randomized_order[:4]\n",
    "if 'draco' not in appdx_sample:\n",
    "    appdx_sample[0] = 'draco'\n",
    "appdx_sample"
   ]
  },
  {
   "cell_type": "code",
   "execution_count": null,
   "metadata": {
    "collapsed": false
   },
   "outputs": [],
   "source": [
    "band = 'r'\n",
    "nmax = 100000"
   ]
  },
  {
   "cell_type": "markdown",
   "metadata": {},
   "source": [
    "## Ap "
   ]
  },
  {
   "cell_type": "code",
   "execution_count": null,
   "metadata": {
    "collapsed": false,
    "scrolled": false
   },
   "outputs": [],
   "source": [
    "for i, nm in enumerate(appdx_sample):\n",
    "    mean_tab, stack_tab = meanstack_tabs[nm]\n",
    "    \n",
    "    fig, axs = plt.subplots(1, 2)\n",
    "    \n",
    "    \n",
    "    mean_sample = np.random.permutation(len(mean_tab))[:nmax]\n",
    "    stack_sample = np.random.permutation(len(stack_tab))[:nmax]\n",
    "    \n",
    "    \n",
    "    other = mean_tab['m_{}MeanApMag'.format(band)][mean_sample]\n",
    "    psf = mean_tab['m_{}MeanPSFMag'.format(band)][mean_sample]\n",
    "    sc = axs[0].scatter(psf, psf-other, alpha=.2, lw=0, s=2, c=mean_tab['starprob'][mean_sample])\n",
    "\n",
    "    other = stack_tab['st_{}ApMag'.format(band)][stack_sample]\n",
    "    psf = stack_tab['st_{}PSFMag'.format(band)][stack_sample]\n",
    "    sc = axs[1].scatter(psf, psf-other, alpha=.2, lw=0, s=2, c=stack_tab['starprob'][stack_sample])\n",
    "    \n",
    "    axs[0].set_title('mean, {}'.format(nm))\n",
    "    axs[1].set_title('stack, {}'.format(nm))\n",
    "    \n",
    "    for ax in axs:\n",
    "        ax.set_xlabel('PSF')\n",
    "        ax.set_ylabel('PSF - Ap')\n",
    "        ax.set_ylim(-1.0, 1.0)\n",
    "        ax.set_xlim(15, 23)\n",
    "        \n",
    "    plt.colorbar(sc).set_label(r'$P_{\\rm star}$')"
   ]
  },
  {
   "cell_type": "markdown",
   "metadata": {},
   "source": [
    "## Kron"
   ]
  },
  {
   "cell_type": "code",
   "execution_count": null,
   "metadata": {
    "collapsed": false,
    "scrolled": false
   },
   "outputs": [],
   "source": [
    "for i, nm in enumerate(appdx_sample):\n",
    "    mean_tab, stack_tab = meanstack_tabs[nm]\n",
    "    \n",
    "    fig, axs = plt.subplots(1, 2)\n",
    "    \n",
    "    band = 'r'\n",
    "    nmax = 300000\n",
    "    mean_sample = np.random.permutation(len(mean_tab))[:nmax]\n",
    "    stack_sample = np.random.permutation(len(stack_tab))[:nmax]\n",
    "    \n",
    "    \n",
    "    other = mean_tab['m_{}MeanKronMag'.format(band)][mean_sample]\n",
    "    psf = mean_tab['m_{}MeanPSFMag'.format(band)][mean_sample]\n",
    "    sc = axs[0].scatter(psf, psf-other, alpha=.2, lw=0, s=2, c=mean_tab['starprob'][mean_sample])\n",
    "\n",
    "    other = stack_tab['st_{}KronMag'.format(band)][stack_sample]\n",
    "    psf = stack_tab['st_{}PSFMag'.format(band)][stack_sample]\n",
    "    sc = axs[1].scatter(psf, psf-other, alpha=.2, lw=0, s=2, c=stack_tab['starprob'][stack_sample])\n",
    "    \n",
    "    axs[0].set_title('mean, i={}'.format(i))\n",
    "    axs[1].set_title('stack, i={}'.format(i))\n",
    "    \n",
    "    for ax in axs:\n",
    "        ax.set_xlabel('PSF')\n",
    "        ax.set_ylabel('PSF - Kron')\n",
    "        ax.set_ylim(-1.0, 1.0)\n",
    "        ax.set_xlim(15, 23)\n",
    "        \n",
    "    plt.colorbar(sc).set_label(r'$P_{\\rm star}$')"
   ]
  },
  {
   "cell_type": "markdown",
   "metadata": {},
   "source": [
    "# In different bands "
   ]
  },
  {
   "cell_type": "markdown",
   "metadata": {},
   "source": [
    "# Kron vs PSF"
   ]
  },
  {
   "cell_type": "code",
   "execution_count": null,
   "metadata": {
    "collapsed": false,
    "scrolled": true
   },
   "outputs": [],
   "source": [
    "for i, nm in enumerate(appdx_sample):\n",
    "    mean_tab, stack_tab = meanstack_tabs[nm]\n",
    "    \n",
    "    fig, axs = plt.subplots(1, 2)\n",
    "    for band, color in zip('gri', 'grm'):\n",
    "        other = mean_tab['m_{}MeanKronMag'.format(band)]\n",
    "        psf = mean_tab['m_{}MeanPSFMag'.format(band)]\n",
    "        axs[0].scatter(psf, psf-other, alpha=.05, lw=0, s=2, c=color)\n",
    "        \n",
    "        other = stack_tab['st_{}KronMag'.format(band)]\n",
    "        psf = stack_tab['st_{}PSFMag'.format(band)]\n",
    "        axs[1].scatter(psf, psf-other, alpha=.05, lw=0, s=2, c=color)\n",
    "    \n",
    "    axs[0].set_title('mean, {}'.format(nm))\n",
    "    axs[1].set_title('stack, {}'.format(nm))\n",
    "    \n",
    "    for ax in axs:\n",
    "        ax.set_xlabel('PSF')\n",
    "        ax.set_ylabel('PSF - Kron')\n",
    "        ax.set_ylim(-1.0, 1.0)\n",
    "        ax.set_xlim(15, 23)\n",
    "    "
   ]
  },
  {
   "cell_type": "markdown",
   "metadata": {},
   "source": [
    "# S/G Aperture vs PSF"
   ]
  },
  {
   "cell_type": "code",
   "execution_count": null,
   "metadata": {
    "collapsed": false
   },
   "outputs": [],
   "source": [
    "for i, nm in enumerate(appdx_sample):\n",
    "    mean_tab, stack_tab = meanstack_tabs[nm]\n",
    "    \n",
    "    fig, axs = plt.subplots(1, 2)\n",
    "    for band, color in zip('gri', 'grm'):\n",
    "        other = mean_tab['m_{}MeanApMag'.format(band)]\n",
    "        psf = mean_tab['m_{}MeanPSFMag'.format(band)]\n",
    "        axs[0].scatter(psf, psf-other, alpha=.05, lw=0, s=2, c=color)\n",
    "        \n",
    "        other = stack_tab['st_{}ApMag'.format(band)]\n",
    "        psf = stack_tab['st_{}PSFMag'.format(band)]\n",
    "        axs[1].scatter(psf, psf-other, alpha=.05, lw=0, s=2, c=color)\n",
    "    \n",
    "    axs[0].set_title('mean, {}'.format(nm))\n",
    "    axs[1].set_title('stack, {}'.format(nm))\n",
    "    \n",
    "    for ax in axs:\n",
    "        ax.set_xlabel('PSF')\n",
    "        ax.set_ylabel('PSF - Ap')\n",
    "        ax.set_ylim(-1.5, 1.5)\n",
    "        ax.set_xlim(15, 23)\n",
    "    "
   ]
  },
  {
   "cell_type": "markdown",
   "metadata": {},
   "source": [
    "# Uncertainties "
   ]
  },
  {
   "cell_type": "code",
   "execution_count": null,
   "metadata": {
    "collapsed": false
   },
   "outputs": [],
   "source": [
    "for i, nm in enumerate(appdx_sample):\n",
    "    mean_tab, stack_tab = meanstack_tabs[nm]\n",
    "    \n",
    "    fig, axs = plt.subplots(1, 2)\n",
    "    for band, color in zip('gri', 'grm'):\n",
    "        psf = mean_tab['m_{}MeanPSFMag'.format(band)]\n",
    "        psf_err = mean_tab['m_{}MeanPSFMagErr'.format(band)]\n",
    "        axs[0].scatter(psf, psf_err, alpha=.05, lw=0, s=2, c=color)\n",
    "        \n",
    "        psf = stack_tab['st_{}PSFMag'.format(band)]\n",
    "        psf_err = stack_tab['st_{}PSFMagErr'.format(band)]\n",
    "        axs[1].scatter(psf, psf_err, alpha=.05, lw=0, s=2, c=color)\n",
    "    \n",
    "    axs[0].set_title('mean, {}'.format(nm))\n",
    "    axs[1].set_title('stack, {}'.format(nm))\n",
    "    \n",
    "    for ax in axs:\n",
    "        ax.set_xlabel('PSF')\n",
    "        ax.set_ylabel('PSF_err')\n",
    "        ax.set_ylim(0, .5)\n",
    "        ax.set_xlim(15, 23)\n",
    "    "
   ]
  },
  {
   "cell_type": "code",
   "execution_count": null,
   "metadata": {
    "collapsed": false,
    "scrolled": true
   },
   "outputs": [],
   "source": [
    "for i, nm in enumerate(appdx_sample):\n",
    "    mean_tab, stack_tab = meanstack_tabs[nm]\n",
    "    \n",
    "    fig, axs = plt.subplots(1, 2)\n",
    "    for band, color in zip('gri', 'grm'):\n",
    "        psf = mean_tab['m_{}MeanKronMag'.format(band)]\n",
    "        psf_err = mean_tab['m_{}MeanKronMagErr'.format(band)]\n",
    "        axs[0].scatter(psf, psf_err, alpha=.05, lw=0, s=2, c=color)\n",
    "        \n",
    "        psf = stack_tab['st_{}KronMag'.format(band)]\n",
    "        psf_err = stack_tab['st_{}KronMagErr'.format(band)]\n",
    "        axs[1].scatter(psf, psf_err, alpha=.05, lw=0, s=2, c=color)\n",
    "    \n",
    "    axs[0].set_title('mean, {}'.format(nm))\n",
    "    axs[1].set_title('stack, {}'.format(nm))\n",
    "    \n",
    "    for ax in axs:\n",
    "        ax.set_xlabel('Kron')\n",
    "        ax.set_ylabel('Kron_err')\n",
    "        ax.set_ylim(0, .5)\n",
    "        ax.set_xlim(15, 23)\n",
    "    "
   ]
  }
 ],
 "metadata": {
  "anaconda-cloud": {},
  "kernelspec": {
   "display_name": "Python 3",
   "language": "python",
   "name": "python3"
  },
  "language_info": {
   "codemirror_mode": {
    "name": "ipython",
    "version": 3
   },
   "file_extension": ".py",
   "mimetype": "text/x-python",
   "name": "python",
   "nbconvert_exporter": "python",
   "pygments_lexer": "ipython3",
   "version": "3.5.2"
  }
 },
 "nbformat": 4,
 "nbformat_minor": 0
}
