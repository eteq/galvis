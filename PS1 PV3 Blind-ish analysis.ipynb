{
 "cells": [
  {
   "cell_type": "code",
   "execution_count": null,
   "metadata": {
    "collapsed": true
   },
   "outputs": [],
   "source": [
    "import os\n",
    "import sys\n",
    "\n",
    "import numpy as np\n",
    "from scipy import stats\n",
    "\n",
    "from astropy import units as u\n",
    "from astropy.coordinates import Distance\n",
    "from astropy.table import Table"
   ]
  },
  {
   "cell_type": "code",
   "execution_count": null,
   "metadata": {
    "collapsed": true
   },
   "outputs": [],
   "source": [
    "%matplotlib inline\n",
    "from matplotlib import style, pyplot as plt\n",
    "from mpl_toolkits.mplot3d import Axes3D\n",
    "\n",
    "plt.rcParams['image.cmap'] = 'viridis'\n",
    "plt.rcParams['image.origin'] = 'lower'\n",
    "plt.rcParams['axes.prop_cycle'] = style.library['seaborn-deep']['axes.prop_cycle']\n",
    "plt.rcParams['figure.figsize'] = (14, 8)\n",
    "plt.rcParams['axes.titlesize'] =  plt.rcParams['axes.labelsize'] = 16\n",
    "plt.rcParams['xtick.labelsize'] =  plt.rcParams['ytick.labelsize'] = 14"
   ]
  },
  {
   "cell_type": "markdown",
   "metadata": {},
   "source": [
    "# Load Data"
   ]
  },
  {
   "cell_type": "code",
   "execution_count": null,
   "metadata": {
    "collapsed": true
   },
   "outputs": [],
   "source": [
    "meanstack_fns = {'draco': ('draco_mean_db_jegpeek.fits.gz', 'stack_draco_jegpeek.fits.gz')}\n",
    "for i in range(5):\n",
    "    mnfn = 'vdev_{:02.0f}_mn_db_jegpeek.fits.gz'.format(i)\n",
    "    stfn = 'vdev_{:02.0f}_st_db_jegpeek.fits.gz'.format(i)\n",
    "    meanstack_fns['vdev_{:02.0f}'.format(i)] = (mnfn, stfn)"
   ]
  },
  {
   "cell_type": "code",
   "execution_count": null,
   "metadata": {
    "collapsed": false
   },
   "outputs": [],
   "source": [
    "meanstack_tabs = {}\n",
    "for nm, (mean_fn, stack_fn) in meanstack_fns.items():\n",
    "    mean_tab = Table.read(mean_fn)\n",
    "    stack_tab = Table.read(stack_fn)\n",
    "    meanstack_tabs[nm] = (mean_tab, stack_tab)"
   ]
  },
  {
   "cell_type": "code",
   "execution_count": null,
   "metadata": {
    "collapsed": false
   },
   "outputs": [],
   "source": [
    "draco_d = Distance(80, u.kpc)\n",
    "Distance([200, 400, 1500], u.kpc).distmod - draco_d.distmod"
   ]
  },
  {
   "cell_type": "markdown",
   "metadata": {},
   "source": [
    "# Star/Galaxy Separation "
   ]
  },
  {
   "cell_type": "code",
   "execution_count": null,
   "metadata": {
    "collapsed": true
   },
   "outputs": [],
   "source": [
    "def stargalprob(r_kron, r_kron_err, r_ap, r_ap_err, r_psf, r_psf_err, width=.2):\n",
    "    kronpsferr = np.hypot(r_kron_err, r_psf_err)\n",
    "    appsferr = np.hypot(r_ap_err, r_psf_err)\n",
    "    \n",
    "    dkron = np.abs(r_kron-r_psf)/kronpsferr\n",
    "    dap = np.abs(r_ap-r_psf)/appsferr\n",
    "    dmean = (dkron + dap)/2\n",
    "    \n",
    "    #return stats.norm.cdf(-dap,0,1)*2\n",
    "    return stats.norm.cdf(-dap*appsferr,0, width)*2"
   ]
  },
  {
   "cell_type": "code",
   "execution_count": null,
   "metadata": {
    "collapsed": false
   },
   "outputs": [],
   "source": [
    "for mean_tab, stack_tab in meanstack_tabs.values():\n",
    "    mean_tab['starprob'] = stargalprob(mean_tab['m_rMeanKronMag'], mean_tab['m_rMeanKronMagErr'],\n",
    "                                       mean_tab['m_rMeanApMag'], mean_tab['m_rMeanApMagErr'],\n",
    "                                       mean_tab['m_rMeanPSFMag'], mean_tab['m_rMeanPSFMagErr'], width=.1)\n",
    "    stack_tab['starprob'] = stargalprob(stack_tab['st_rKronMag'], stack_tab['st_rKronMagErr'],\n",
    "                                        stack_tab['st_rApMag'], stack_tab['st_rApMagErr'],\n",
    "                                        stack_tab['st_rPSFMag'], stack_tab['st_rPSFMagErr'], width=.3)"
   ]
  },
  {
   "cell_type": "markdown",
   "metadata": {},
   "source": [
    "# Randomize and show "
   ]
  },
  {
   "cell_type": "code",
   "execution_count": null,
   "metadata": {
    "collapsed": true
   },
   "outputs": [],
   "source": [
    "randomized_order = np.random.permutation(list(meanstack_tabs.keys()))"
   ]
  },
  {
   "cell_type": "code",
   "execution_count": null,
   "metadata": {
    "collapsed": false,
    "scrolled": false
   },
   "outputs": [],
   "source": [
    "for i, nm in enumerate(randomized_order):\n",
    "    mean_tab, stack_tab = meanstack_tabs[nm]\n",
    "    \n",
    "    plt.figure()\n",
    "    \n",
    "    gmi_stack = stack_tab['st_gPSFMag'] - stack_tab['st_iPSFMag']\n",
    "    r_stack = stack_tab['st_rPSFMag']\n",
    "    starmsk_stack = stack_tab['starprob'] >0.5\n",
    "\n",
    "    gmi_mean = mean_tab['m_gMeanPSFMag'] - mean_tab['m_iMeanPSFMag']\n",
    "    r_mean = mean_tab['m_rMeanPSFMag']\n",
    "    starmsk_mean = mean_tab['starprob'] >0.5\n",
    "\n",
    "    fig, axs = plt.subplots(1, 2)\n",
    "    axs[0].scatter(gmi_mean[starmsk_mean], r_mean[starmsk_mean], alpha=.25, lw=0, s=2, c='r')\n",
    "    axs[0].scatter(gmi_mean[~starmsk_mean], r_mean[~starmsk_mean], alpha=.1, lw=0, s=1, c='k')\n",
    "    axs[1].scatter(gmi_stack[starmsk_stack], r_stack[starmsk_stack], alpha=.25, lw=0, s=2, c='b')\n",
    "    axs[1].scatter(gmi_stack[~starmsk_stack], r_stack[~starmsk_stack], alpha=.1, lw=0, s=1, c='k')\n",
    "\n",
    "    for ax in axs:\n",
    "        ax.set_xlim(-.5, 1.8)\n",
    "        ax.set_ylim(23.2, 15)\n",
    "\n",
    "        ax.set_xlabel('g-i')\n",
    "        ax.set_ylabel('r')\n",
    "\n",
    "    axs[0].set_title('mean, i={}'.format(i))\n",
    "    axs[1].set_title('stack, i={}'.format(i))\n",
    "    \n",
    "    \n",
    "print('#Paste this in the cell below for final judgements *before* revealing the names:')\n",
    "print('sat_present = {}')\n",
    "for i in range(len(randomized_order)):\n",
    "    print(\"sat_present[{}] = 'unknown' # 'yes', 'no', 'maybe'\".format(i))\n",
    "print('sat_present')\n",
    "print(\"\"\"\n",
    "for i, nm in  enumerate(randomized_order):\n",
    "    print(nm,':', sat_present[i])\n",
    "\"\"\"[1:-1])"
   ]
  },
  {
   "cell_type": "code",
   "execution_count": null,
   "metadata": {
    "collapsed": false
   },
   "outputs": [],
   "source": [
    "sat_present = {}\n",
    "sat_present[0] = 'yes' # 'yes', 'no', 'maybe'\n",
    "sat_present[1] = 'no' # 'yes', 'no', 'maybe'\n",
    "sat_present[2] = 'no' # 'yes', 'no', 'maybe'\n",
    "sat_present[3] = 'maybe' # 'yes', 'no', 'maybe'\n",
    "sat_present[4] = 'no' # 'yes', 'no', 'maybe'\n",
    "sat_present[5] = 'no' # 'yes', 'no', 'maybe'\n",
    "sat_present\n",
    "for i, nm in  enumerate(randomized_order):\n",
    "    print(nm,':', sat_present[i])"
   ]
  },
  {
   "cell_type": "markdown",
   "metadata": {},
   "source": [
    "# Look more closely at maybe's/yes's "
   ]
  },
  {
   "cell_type": "code",
   "execution_count": null,
   "metadata": {
    "collapsed": false
   },
   "outputs": [],
   "source": [
    "def exam_plot(nm, rad=10*u.arcmin, alphascale=1, sizescale=1, bgcolor=None, show_far=True):\n",
    "    mean_tab, stack_tab = meanstack_tabs[nm]\n",
    "\n",
    "    gmi_stack = stack_tab['st_gPSFMag'] - stack_tab['st_iPSFMag']\n",
    "    r_stack = stack_tab['st_rPSFMag']\n",
    "    starmsk_stack = stack_tab['starprob'] >0.5\n",
    "\n",
    "    gmi_mean = mean_tab['m_gMeanPSFMag'] - mean_tab['m_iMeanPSFMag']\n",
    "    r_mean = mean_tab['m_rMeanPSFMag']\n",
    "    starmsk_mean = mean_tab['starprob'] >0.5\n",
    "\n",
    "    fig, axs = plt.subplots(2, 2, figsize=(14,14))\n",
    "\n",
    "    axs.flat[0].scatter(gmi_mean[starmsk_mean], r_mean[starmsk_mean], alpha=.2*alphascale, lw=0, s=2*sizescale, c='r')\n",
    "    axs.flat[0].scatter(gmi_mean[~starmsk_mean], r_mean[~starmsk_mean], alpha=.1, lw=0, s=1, c='k')\n",
    "\n",
    "    axs.flat[1].scatter(gmi_stack[starmsk_stack], r_stack[starmsk_stack], alpha=.2*alphascale, lw=0, s=2*sizescale, c='b')\n",
    "    axs.flat[1].scatter(gmi_stack[~starmsk_stack], r_stack[~starmsk_stack], alpha=.1, lw=0, s=1, c='k')\n",
    "\n",
    "    ra0 = np.mean(mean_tab['o_raMean'])\n",
    "    dec0 = np.mean(mean_tab['o_decMean'])\n",
    "    near_mean = np.hypot((mean_tab['o_raMean']-ra0)*np.cos(dec0*u.deg), mean_tab['o_decMean']-dec0)*u.deg < rad\n",
    "    axs.flat[2].scatter(gmi_mean[near_mean], r_mean[near_mean], alpha=.5*alphascale, lw=0, s=1*sizescale, c=1-mean_tab['starprob'][near_mean])\n",
    "    if show_far:\n",
    "        axs.flat[2].scatter(gmi_mean[~near_mean], r_mean[~near_mean], alpha=.1, lw=0, s=1, c='k')\n",
    "\n",
    "    ra0 = np.mean(stack_tab['st_raStack'])\n",
    "    dec0 = np.mean(stack_tab['st_decStack'])\n",
    "    near_stack = np.hypot((stack_tab['st_raStack']-ra0)*np.cos(dec0*u.deg), stack_tab['st_decStack']-dec0)*u.deg < rad\n",
    "    axs.flat[3].scatter(gmi_stack[near_stack], r_stack[near_stack], alpha=.5*alphascale, lw=0, s=1*sizescale, c=1-stack_tab['starprob'][near_stack])\n",
    "    if show_far:\n",
    "        axs.flat[3].scatter(gmi_stack[~near_stack], r_stack[~near_stack], alpha=.1, lw=0, s=1, c='k')\n",
    "\n",
    "    for ax in axs.flat:\n",
    "        if bgcolor is not None:\n",
    "            ax.set_axis_bgcolor(bgcolor)\n",
    "        ax.set_xlim(-.5, 1.8)\n",
    "        ax.set_ylim(23.2, 15)\n",
    "\n",
    "        ax.set_xlabel('g-i')\n",
    "        ax.set_ylabel('r')\n",
    "\n",
    "    axs.flat[0].set_title('mean, {}'.format(nm))\n",
    "    axs.flat[1].set_title('stack, {}'.format(nm))"
   ]
  },
  {
   "cell_type": "code",
   "execution_count": null,
   "metadata": {
    "collapsed": false
   },
   "outputs": [],
   "source": [
    "exam_plot('draco', 10*u.arcmin, bgcolor=None)"
   ]
  },
  {
   "cell_type": "code",
   "execution_count": null,
   "metadata": {
    "collapsed": false
   },
   "outputs": [],
   "source": [
    "exam_plot('vdev_00', 5*u.arcmin, sizescale=2, show_far=False)"
   ]
  },
  {
   "cell_type": "markdown",
   "metadata": {},
   "source": [
    "# Appendices"
   ]
  },
  {
   "cell_type": "markdown",
   "metadata": {},
   "source": [
    "# S/G separation checks"
   ]
  },
  {
   "cell_type": "markdown",
   "metadata": {},
   "source": [
    "## Ap "
   ]
  },
  {
   "cell_type": "code",
   "execution_count": null,
   "metadata": {
    "collapsed": false,
    "scrolled": false
   },
   "outputs": [],
   "source": [
    "for i, nm in enumerate(randomized_order):\n",
    "    mean_tab, stack_tab = meanstack_tabs[nm]\n",
    "    \n",
    "    fig, axs = plt.subplots(1, 2)\n",
    "    \n",
    "    band = 'r'\n",
    "    nmax = 300000\n",
    "    mean_sample = np.random.permutation(len(mean_tab))[:nmax]\n",
    "    stack_sample = np.random.permutation(len(stack_tab))[:nmax]\n",
    "    \n",
    "    \n",
    "    other = mean_tab['m_{}MeanApMag'.format(band)][mean_sample]\n",
    "    psf = mean_tab['m_{}MeanPSFMag'.format(band)][mean_sample]\n",
    "    sc = axs[0].scatter(psf, psf-other, alpha=.2, lw=0, s=2, c=mean_tab['starprob'][mean_sample])\n",
    "\n",
    "    other = stack_tab['st_{}ApMag'.format(band)][stack_sample]\n",
    "    psf = stack_tab['st_{}PSFMag'.format(band)][stack_sample]\n",
    "    sc = axs[1].scatter(psf, psf-other, alpha=.2, lw=0, s=2, c=stack_tab['starprob'][stack_sample])\n",
    "    \n",
    "    axs[0].set_title('mean, i={}'.format(i))\n",
    "    axs[1].set_title('stack, i={}'.format(i))\n",
    "    \n",
    "    for ax in axs:\n",
    "        ax.set_xlabel('PSF')\n",
    "        ax.set_ylabel('PSF - Ap')\n",
    "        ax.set_ylim(-1.0, 1.0)\n",
    "        ax.set_xlim(15, 23)\n",
    "        \n",
    "    plt.colorbar(sc).set_label(r'$P_{\\rm star}$')"
   ]
  },
  {
   "cell_type": "markdown",
   "metadata": {},
   "source": [
    "## Kron"
   ]
  },
  {
   "cell_type": "code",
   "execution_count": null,
   "metadata": {
    "collapsed": false,
    "scrolled": true
   },
   "outputs": [],
   "source": [
    "for i, nm in enumerate(randomized_order):\n",
    "    mean_tab, stack_tab = meanstack_tabs[nm]\n",
    "    \n",
    "    fig, axs = plt.subplots(1, 2)\n",
    "    \n",
    "    band = 'r'\n",
    "    nmax = 300000\n",
    "    mean_sample = np.random.permutation(len(mean_tab))[:nmax]\n",
    "    stack_sample = np.random.permutation(len(stack_tab))[:nmax]\n",
    "    \n",
    "    \n",
    "    other = mean_tab['m_{}MeanKronMag'.format(band)][mean_sample]\n",
    "    psf = mean_tab['m_{}MeanPSFMag'.format(band)][mean_sample]\n",
    "    sc = axs[0].scatter(psf, psf-other, alpha=.2, lw=0, s=2, c=mean_tab['starprob'][mean_sample])\n",
    "\n",
    "    other = stack_tab['st_{}KronMag'.format(band)][stack_sample]\n",
    "    psf = stack_tab['st_{}PSFMag'.format(band)][stack_sample]\n",
    "    sc = axs[1].scatter(psf, psf-other, alpha=.2, lw=0, s=2, c=stack_tab['starprob'][stack_sample])\n",
    "    \n",
    "    axs[0].set_title('mean, i={}'.format(i))\n",
    "    axs[1].set_title('stack, i={}'.format(i))\n",
    "    \n",
    "    for ax in axs:\n",
    "        ax.set_xlabel('PSF')\n",
    "        ax.set_ylabel('PSF - Kron')\n",
    "        ax.set_ylim(-1.0, 1.0)\n",
    "        ax.set_xlim(15, 23)\n",
    "        \n",
    "    plt.colorbar(sc).set_label(r'$P_{\\rm star}$')"
   ]
  },
  {
   "cell_type": "markdown",
   "metadata": {},
   "source": [
    "# In different bands "
   ]
  },
  {
   "cell_type": "markdown",
   "metadata": {},
   "source": [
    "# Kron vs PSF"
   ]
  },
  {
   "cell_type": "code",
   "execution_count": null,
   "metadata": {
    "collapsed": false,
    "scrolled": true
   },
   "outputs": [],
   "source": [
    "for i, nm in enumerate(randomized_order):\n",
    "    mean_tab, stack_tab = meanstack_tabs[nm]\n",
    "    \n",
    "    fig, axs = plt.subplots(1, 2)\n",
    "    for band, color in zip('gri', 'grm'):\n",
    "        other = mean_tab['m_{}MeanKronMag'.format(band)]\n",
    "        psf = mean_tab['m_{}MeanPSFMag'.format(band)]\n",
    "        axs[0].scatter(psf, psf-other, alpha=.05, lw=0, s=2, c=color)\n",
    "        \n",
    "        other = stack_tab['st_{}KronMag'.format(band)]\n",
    "        psf = stack_tab['st_{}PSFMag'.format(band)]\n",
    "        axs[1].scatter(psf, psf-other, alpha=.05, lw=0, s=2, c=color)\n",
    "    \n",
    "    axs[0].set_title('mean, i={}'.format(i))\n",
    "    axs[1].set_title('stack, i={}'.format(i))\n",
    "    \n",
    "    for ax in axs:\n",
    "        ax.set_xlabel('PSF')\n",
    "        ax.set_ylabel('PSF - Kron')\n",
    "        ax.set_ylim(-1.0, 1.0)\n",
    "        ax.set_xlim(15, 23)\n",
    "    "
   ]
  },
  {
   "cell_type": "markdown",
   "metadata": {},
   "source": [
    "# S/G Aperture vs PSF"
   ]
  },
  {
   "cell_type": "code",
   "execution_count": null,
   "metadata": {
    "collapsed": false
   },
   "outputs": [],
   "source": [
    "for i, nm in enumerate(randomized_order):\n",
    "    mean_tab, stack_tab = meanstack_tabs[nm]\n",
    "    \n",
    "    fig, axs = plt.subplots(1, 2)\n",
    "    for band, color in zip('gri', 'grm'):\n",
    "        other = mean_tab['m_{}MeanApMag'.format(band)]\n",
    "        psf = mean_tab['m_{}MeanPSFMag'.format(band)]\n",
    "        axs[0].scatter(psf, psf-other, alpha=.05, lw=0, s=2, c=color)\n",
    "        \n",
    "        other = stack_tab['st_{}ApMag'.format(band)]\n",
    "        psf = stack_tab['st_{}PSFMag'.format(band)]\n",
    "        axs[1].scatter(psf, psf-other, alpha=.05, lw=0, s=2, c=color)\n",
    "    \n",
    "    axs[0].set_title('mean, i={}'.format(i))\n",
    "    axs[1].set_title('stack, i={}'.format(i))\n",
    "    \n",
    "    for ax in axs:\n",
    "        ax.set_xlabel('PSF')\n",
    "        ax.set_ylabel('PSF - Ap')\n",
    "        ax.set_ylim(-1.5, 1.5)\n",
    "        ax.set_xlim(15, 23)\n",
    "    "
   ]
  },
  {
   "cell_type": "markdown",
   "metadata": {},
   "source": [
    "# Uncertainties "
   ]
  },
  {
   "cell_type": "code",
   "execution_count": null,
   "metadata": {
    "collapsed": false
   },
   "outputs": [],
   "source": [
    "for i, nm in enumerate(randomized_order):\n",
    "    mean_tab, stack_tab = meanstack_tabs[nm]\n",
    "    \n",
    "    fig, axs = plt.subplots(1, 2)\n",
    "    for band, color in zip('gri', 'grm'):\n",
    "        psf = mean_tab['m_{}MeanPSFMag'.format(band)]\n",
    "        psf_err = mean_tab['m_{}MeanPSFMagErr'.format(band)]\n",
    "        axs[0].scatter(psf, psf_err, alpha=.05, lw=0, s=2, c=color)\n",
    "        \n",
    "        psf = stack_tab['st_{}PSFMag'.format(band)]\n",
    "        psf_err = stack_tab['st_{}PSFMagErr'.format(band)]\n",
    "        axs[1].scatter(psf, psf_err, alpha=.05, lw=0, s=2, c=color)\n",
    "    \n",
    "    axs[0].set_title('mean, i={}'.format(i))\n",
    "    axs[1].set_title('stack, i={}'.format(i))\n",
    "    \n",
    "    for ax in axs:\n",
    "        ax.set_xlabel('PSF')\n",
    "        ax.set_ylabel('PSF_err')\n",
    "        ax.set_ylim(0, .5)\n",
    "        ax.set_xlim(15, 23)\n",
    "    "
   ]
  },
  {
   "cell_type": "code",
   "execution_count": null,
   "metadata": {
    "collapsed": false,
    "scrolled": true
   },
   "outputs": [],
   "source": [
    "for i, nm in enumerate(randomized_order):\n",
    "    mean_tab, stack_tab = meanstack_tabs[nm]\n",
    "    \n",
    "    fig, axs = plt.subplots(1, 2)\n",
    "    for band, color in zip('gri', 'grm'):\n",
    "        psf = mean_tab['m_{}MeanKronMag'.format(band)]\n",
    "        psf_err = mean_tab['m_{}MeanKronMagErr'.format(band)]\n",
    "        axs[0].scatter(psf, psf_err, alpha=.05, lw=0, s=2, c=color)\n",
    "        \n",
    "        psf = stack_tab['st_{}KronMag'.format(band)]\n",
    "        psf_err = stack_tab['st_{}KronMagErr'.format(band)]\n",
    "        axs[1].scatter(psf, psf_err, alpha=.05, lw=0, s=2, c=color)\n",
    "    \n",
    "    axs[0].set_title('mean, i={}'.format(i))\n",
    "    axs[1].set_title('stack, i={}'.format(i))\n",
    "    \n",
    "    for ax in axs:\n",
    "        ax.set_xlabel('Kron')\n",
    "        ax.set_ylabel('Kron_err')\n",
    "        ax.set_ylim(0, .5)\n",
    "        ax.set_xlim(15, 23)\n",
    "    "
   ]
  }
 ],
 "metadata": {
  "anaconda-cloud": {},
  "kernelspec": {
   "display_name": "Python 3",
   "language": "python",
   "name": "python3"
  },
  "language_info": {
   "codemirror_mode": {
    "name": "ipython",
    "version": 3
   },
   "file_extension": ".py",
   "mimetype": "text/x-python",
   "name": "python",
   "nbconvert_exporter": "python",
   "pygments_lexer": "ipython3",
   "version": "3.5.2"
  }
 },
 "nbformat": 4,
 "nbformat_minor": 0
}
