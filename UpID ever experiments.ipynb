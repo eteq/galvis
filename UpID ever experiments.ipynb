{
 "cells": [
  {
   "cell_type": "markdown",
   "metadata": {
    "collapsed": true
   },
   "source": [
    "* use past upID!=-1 instead of \"is sat now"
   ]
  },
  {
   "cell_type": "code",
   "execution_count": 1,
   "metadata": {
    "collapsed": true
   },
   "outputs": [],
   "source": [
    "import os\n",
    "import sys\n",
    "import time\n",
    "\n",
    "import numpy as np\n",
    "\n",
    "from scipy import stats\n",
    "\n",
    "from astropy import units as u\n",
    "from astropy import constants as cnst\n",
    "from astropy.coordinates import SkyCoord, Distance\n",
    "from astropy import modeling\n",
    "from astropy import table\n",
    "from astropy.table import Table\n",
    "from astropy.io import fits\n",
    "\n",
    "%matplotlib inline\n",
    "from matplotlib import rcParams, style\n",
    "from matplotlib import pyplot as plt\n",
    "from mpl_toolkits.mplot3d import Axes3D\n",
    "\n",
    "rcParams['image.cmap'] = 'viridis'\n",
    "rcParams['image.origin'] = 'lower'\n",
    "rcParams['axes.prop_cycle'] = style.library['seaborn-deep']['axes.prop_cycle']\n",
    "rcParams['figure.figsize'] = (14, 8)\n",
    "rcParams['axes.titlesize'] =  rcParams['axes.labelsize'] = 16\n",
    "rcParams['xtick.labelsize'] =  rcParams['ytick.labelsize'] = 14"
   ]
  },
  {
   "cell_type": "code",
   "execution_count": 2,
   "metadata": {
    "collapsed": true
   },
   "outputs": [],
   "source": [
    "from importlib import reload\n",
    "first = lambda x: next(iter(x))"
   ]
  },
  {
   "cell_type": "code",
   "execution_count": 3,
   "metadata": {
    "collapsed": true
   },
   "outputs": [],
   "source": [
    "import data_loaders\n",
    "import detectability"
   ]
  },
  {
   "cell_type": "markdown",
   "metadata": {},
   "source": [
    "# Load ELVIS and GALFA"
   ]
  },
  {
   "cell_type": "code",
   "execution_count": 4,
   "metadata": {
    "collapsed": false
   },
   "outputs": [
    {
     "name": "stdout",
     "output_type": "stream",
     "text": [
      "Loading /Users/erik/projects/m31-galfa/elvis_data/PairedCatalogs/Hall&Oates.txt\n",
      "Loading /Users/erik/projects/m31-galfa/elvis_data/PairedCatalogs/Hamilton&Burr.txt\n",
      "Loading /Users/erik/projects/m31-galfa/elvis_data/PairedCatalogs/Kek&Kauket.txt\n",
      "Loading /Users/erik/projects/m31-galfa/elvis_data/PairedCatalogs/Lincoln&Douglas.txt\n",
      "Loading /Users/erik/projects/m31-galfa/elvis_data/PairedCatalogs/Orion&Taurus.txt\n",
      "Loading /Users/erik/projects/m31-galfa/elvis_data/PairedCatalogs/Romulus&Remus.txt\n",
      "Loading /Users/erik/projects/m31-galfa/elvis_data/PairedCatalogs/Scylla&Charybdis.txt\n",
      "Loading /Users/erik/projects/m31-galfa/elvis_data/PairedCatalogs/Serena&Venus.txt\n",
      "Loading /Users/erik/projects/m31-galfa/elvis_data/PairedCatalogs/Siegfried&Roy.txt\n",
      "Loading /Users/erik/projects/m31-galfa/elvis_data/PairedCatalogs/Sonny&Cher.txt\n",
      "Loading /Users/erik/projects/m31-galfa/elvis_data/PairedCatalogs/Thelma&Louise.txt\n",
      "Loading /Users/erik/projects/m31-galfa/elvis_data/PairedCatalogs/Zeus&Hera.txt\n"
     ]
    }
   ],
   "source": [
    "elvii_pairs = data_loaders.load_elvii_z0(isolated=False)"
   ]
  },
  {
   "cell_type": "code",
   "execution_count": 5,
   "metadata": {
    "collapsed": false
   },
   "outputs": [
    {
     "name": "stderr",
     "output_type": "stream",
     "text": [
      "/Users/erik/miniconda3/envs/anaconda/lib/python3.5/site-packages/astropy/coordinates/angles.py:672: RuntimeWarning: invalid value encountered in less\n",
      "  if np.any(self_angle < wrap_angle_floor) or np.any(self_angle >= wrap_angle):\n",
      "/Users/erik/miniconda3/envs/anaconda/lib/python3.5/site-packages/astropy/coordinates/angles.py:672: RuntimeWarning: invalid value encountered in greater_equal\n",
      "  if np.any(self_angle < wrap_angle_floor) or np.any(self_angle >= wrap_angle):\n",
      "/Users/erik/miniconda3/envs/anaconda/lib/python3.5/site-packages/astropy/coordinates/angles.py:563: RuntimeWarning: invalid value encountered in less\n",
      "  if np.any(angles.value < lower) or np.any(angles.value > upper):\n",
      "/Users/erik/miniconda3/envs/anaconda/lib/python3.5/site-packages/astropy/coordinates/angles.py:563: RuntimeWarning: invalid value encountered in greater\n",
      "  if np.any(angles.value < lower) or np.any(angles.value > upper):\n"
     ]
    }
   ],
   "source": [
    "res = data_loaders.load_galfa_sensitivity('onempc_mass_sens.fits.zip')\n",
    "galfa_sens, galfa_sens_scs, galfa_sens_wcs, galfa_sens_hdu = res"
   ]
  },
  {
   "cell_type": "code",
   "execution_count": 6,
   "metadata": {
    "collapsed": false
   },
   "outputs": [
    {
     "name": "stdout",
     "output_type": "stream",
     "text": [
      "Loading /Users/erik/projects/m31-galfa/elvis_data/PairedTrees/Hall&Oates\n",
      "Loading /Users/erik/projects/m31-galfa/elvis_data/PairedTrees/Hamilton&Burr\n",
      "Loading /Users/erik/projects/m31-galfa/elvis_data/PairedTrees/Kek&Kauket\n",
      "Loading /Users/erik/projects/m31-galfa/elvis_data/PairedTrees/Lincoln&Douglas\n",
      "Loading /Users/erik/projects/m31-galfa/elvis_data/PairedTrees/Orion&Taurus\n",
      "Loading /Users/erik/projects/m31-galfa/elvis_data/PairedTrees/Romulus&Remus\n",
      "Loading /Users/erik/projects/m31-galfa/elvis_data/PairedTrees/Scylla&Charybdis\n",
      "Loading /Users/erik/projects/m31-galfa/elvis_data/PairedTrees/Serena&Venus\n",
      "Loading /Users/erik/projects/m31-galfa/elvis_data/PairedTrees/Siegfried&Roy\n",
      "Loading /Users/erik/projects/m31-galfa/elvis_data/PairedTrees/Sonny&Cher\n",
      "Loading /Users/erik/projects/m31-galfa/elvis_data/PairedTrees/Thelma&Louise\n",
      "Loading /Users/erik/projects/m31-galfa/elvis_data/PairedTrees/Zeus&Hera\n"
     ]
    },
    {
     "name": "stderr",
     "output_type": "stream",
     "text": [
      "/Users/erik/projects/m31-galfa/data_loaders.py:83: RuntimeWarning: divide by zero encountered in true_divide\n",
      "  coldct['z'] = 1./coldct['scale'] - 1\n"
     ]
    }
   ],
   "source": [
    "elvii_trees = data_loaders.load_elvii_trees('ID,Mvir,Vmax,Rvir,upID,scale')"
   ]
  },
  {
   "cell_type": "code",
   "execution_count": 7,
   "metadata": {
    "collapsed": false
   },
   "outputs": [],
   "source": [
    "data_loaders.annotate_z0_from_trees(elvii_pairs, elvii_trees)"
   ]
  },
  {
   "cell_type": "markdown",
   "metadata": {},
   "source": [
    "# Compute detectability and findability for GALFA"
   ]
  },
  {
   "cell_type": "code",
   "execution_count": 8,
   "metadata": {
    "collapsed": false
   },
   "outputs": [
    {
     "name": "stderr",
     "output_type": "stream",
     "text": [
      "/Users/erik/miniconda3/envs/anaconda/lib/python3.5/site-packages/astropy/units/quantity.py:763: FutureWarning: elementwise comparison failed; returning scalar instead, but in the future will perform elementwise comparison\n",
      "  return super(Quantity, self).__eq__(other)\n"
     ]
    }
   ],
   "source": [
    "#m31 = SkyCoord.from_name('M31')\n",
    "m31 = SkyCoord(10.6847083*u.deg, 41.26875*u.deg, 700*u.kpc)\n",
    "\n",
    "for tab in elvii_pairs.values():\n",
    "    data_loaders.add_oriented_radecs(tab, 0, 1, target_coord=m31)\n",
    "    data_loaders.add_oriented_radecs(tab, 1, 0, target_coord=m31)"
   ]
  },
  {
   "cell_type": "code",
   "execution_count": 9,
   "metadata": {
    "collapsed": false
   },
   "outputs": [],
   "source": [
    "detectability.compute_elvis_mgas_bradford_15(elvii_pairs, 'Mstar_preferred')"
   ]
  },
  {
   "cell_type": "code",
   "execution_count": 10,
   "metadata": {
    "collapsed": false
   },
   "outputs": [],
   "source": [
    "detectability.compute_elvis_detectability(galfa_sens, galfa_sens_wcs, 'dr1', elvii_pairs)"
   ]
  },
  {
   "cell_type": "code",
   "execution_count": 11,
   "metadata": {
    "collapsed": false
   },
   "outputs": [],
   "source": [
    "wakker_hvcs = Table.read('wakk.fits')\n",
    "wakker_scs = SkyCoord(l=wakker_hvcs['L'], b=wakker_hvcs['B'], unit=u.deg, frame='galactic')\n",
    "\n",
    "detectability.compute_elvis_findable(elvii_pairs, wakker_scs, wakker_hvcs['VLSR']*u.km/u.s)"
   ]
  },
  {
   "cell_type": "markdown",
   "metadata": {},
   "source": [
    "# And figure out how to map halos to high-z Tvir"
   ]
  },
  {
   "cell_type": "code",
   "execution_count": 12,
   "metadata": {
    "collapsed": false
   },
   "outputs": [],
   "source": [
    "for name, tree in elvii_trees.items():\n",
    "    for z_re in (6,7,8,9):\n",
    "        idxzre = np.argmin(np.abs(tree[0]['z']-z_re))    \n",
    "        elvii_pairs[name]['Mviratz{}'.format(z_re)] = tree['Mvir'][:, idxzre]\n",
    "        elvii_pairs[name]['Rviratz{}'.format(z_re)] = tree['Rvir'][:, idxzre]\n",
    "        elvii_pairs[name]['Vmatz{}'.format(z_re)] = tree['Vmax'][:, idxzre]"
   ]
  },
  {
   "cell_type": "code",
   "execution_count": 13,
   "metadata": {
    "collapsed": true
   },
   "outputs": [],
   "source": [
    "# values from the \"Probabilistic Experiments\" notebook\n",
    "lmvirtolrvir =  modeling.models.Linear1D(slope=0.3332146169115156, intercept=-1.4803268453825718)\n",
    "\n",
    "vtoltvir = lambda v: np.log10((0.6 * cnst.m_p*v**2 / 2 / cnst.k_B)/u.K)\n",
    "def lmtoltvir(lmvir):\n",
    "    lrvir = lmvirtolrvir(lmvir)\n",
    "    vsq = cnst.G * 10**lmvir/10**lrvir * (u.solMass/u.kpc)\n",
    "    return np.log10((0.6 * cnst.m_p*vsq / 2 / cnst.k_B)/u.K)"
   ]
  },
  {
   "cell_type": "markdown",
   "metadata": {},
   "source": [
    "# Probabilistic model "
   ]
  },
  {
   "cell_type": "code",
   "execution_count": 14,
   "metadata": {
    "collapsed": true
   },
   "outputs": [],
   "source": [
    "lmvg, rmg, zg = np.meshgrid(np.linspace(5.5,9.5, 25), \n",
    "                            np.linspace(8,22, 25), \n",
    "                            [6, 7, 8, 9])"
   ]
  },
  {
   "cell_type": "code",
   "execution_count": 15,
   "metadata": {
    "collapsed": true
   },
   "outputs": [],
   "source": [
    "PARAMETERS = ['logmvcut', 'zre', 'rmagcut']\n",
    "MINF = -np.inf\n",
    "\n",
    "def counts_with_cutoffs(Mviratzre=0*u.solMass, z_re=8, appmagcut=100*u.mag, inclsat=False):\n",
    "    counts = []\n",
    "    for pair in elvii_pairs.values():\n",
    "        halos = pair[2:]\n",
    "        for i in (0, 1):\n",
    "            matches = halos['findable_dr1_host{}'.format(i)]\n",
    "            \n",
    "            if Mviratzre is not None:\n",
    "                matches = matches & (halos['Mviratz{}'.format(z_re)] > Mviratzre)\n",
    "            \n",
    "            dm = Distance(halos['host{}_dist'.format(i)]).distmod\n",
    "            appmag = -2.5*np.log10(halos['Mstar_preferred']/u.solMass)*u.mag + dm \n",
    "            matches = matches & (appmag < appmagcut)\n",
    "            \n",
    "            if not inclsat:\n",
    "                matches = matches & ~halos['upIDever_either']\n",
    "                \n",
    "            counts.append(np.sum(matches))\n",
    "    return np.array(counts)\n",
    "\n",
    "def lnprior(logmvcut, zre, rmagcut):\n",
    "    if not (5.5 < zre < 9.5):\n",
    "        return MINF\n",
    "    if not (8 < rmagcut < 22):\n",
    "        return MINF\n",
    "    if not (5 < logmvcut < 10.5):\n",
    "        return MINF\n",
    "    return 0\n",
    "\n",
    "def lnlike(logmvcut, zre, rmagcut, dosmoothing, ncounts=0):\n",
    "    appmagcut = (rmagcut - 4.7)*u.mag # appropriate for ~r with M/L=1\n",
    "    \n",
    "    counts = counts_with_cutoffs(Mviratzre=10**logmvcut * u.solMass, z_re=int(round(zre)), \n",
    "                                 appmagcut=appmagcut, inclsat=False)\n",
    "    if np.sum(counts)==0:\n",
    "        return float(ncounts==0)\n",
    "    elif dosmoothing:\n",
    "        kde = stats.gaussian_kde(counts, 'scott')\n",
    "        ns = np.arange(round(np.max(counts)*1.5))\n",
    "        ps = kde(ns)\n",
    "        p = ps[ncounts]/np.sum(ps)\n",
    "    else:\n",
    "        p = np.sum(counts==ncounts)/len(counts)\n",
    "        \n",
    "    return np.log(p)\n",
    "    \n",
    "def lnprob(pars, dosmoothing):\n",
    "    logmvcut, zre, rmagcut = pars\n",
    "    \n",
    "    lpri = lnprior(logmvcut, zre, rmagcut)\n",
    "    if lpri == MINF:\n",
    "        return MINF\n",
    "    \n",
    "    return lpri + lnlike(logmvcut, zre, rmagcut, dosmoothing)"
   ]
  },
  {
   "cell_type": "code",
   "execution_count": 16,
   "metadata": {
    "collapsed": false
   },
   "outputs": [
    {
     "name": "stdout",
     "output_type": "stream",
     "text": [
      "0.08585074920654297 s per sample and 214.62687301635742 s total\n"
     ]
    },
    {
     "name": "stderr",
     "output_type": "stream",
     "text": [
      "/Users/erik/miniconda3/envs/anaconda/lib/python3.5/site-packages/ipykernel/__main__.py:48: RuntimeWarning: divide by zero encountered in log\n"
     ]
    }
   ],
   "source": [
    "vlnlike = np.vectorize(lnlike, excluded='dosmoothing,ncounts'.split(','))\n",
    "st = time.time()\n",
    "lnl = vlnlike(lmvg, zg, rmg, False)\n",
    "et = time.time()\n",
    "print((et-st)/lnl.size, 's per sample and', et-st, 's total')"
   ]
  },
  {
   "cell_type": "code",
   "execution_count": 116,
   "metadata": {
    "collapsed": false
   },
   "outputs": [
    {
     "data": {
      "image/png": "[encoded data removed]",
      "text/plain": [
       "<matplotlib.figure.Figure at 0x1132449b0>"
      ]
     },
     "metadata": {},
     "output_type": "display_data"
    }
   ],
   "source": [
    "pish = np.mean(lnl, axis=2)\n",
    "pish -= np.max(pish)\n",
    "\n",
    "vmin = None\n",
    "vmin = -3.44 # this makes the colormap match the other plots\n",
    "\n",
    "plt.contourf(lmtoltvir(lmvg[:,:,0]), rmg[:,:,0], pish, 50,vmin=vmin)\n",
    "plt.colorbar().set_label(r'$\\sim \\log(p)$', fontsize=24)\n",
    "plt.contour(lmtoltvir(lmvg[:,:,0]), rmg[:,:,0], pish, [-2, -1, np.log10(0.5)], cmap='Greys',vmin=vmin)\n",
    "plt.axhline(17.5+1.5, c='k', ls='--')\n",
    "plt.xlabel(r'$\\log(T_{\\rm vir})$ cutoff', fontsize=24)\n",
    "plt.ylabel(r'$r$ cutoff', fontsize=24)\n",
    "plt.tight_layout()\n",
    "\n",
    "fig = plt.gcf()"
   ]
  },
  {
   "cell_type": "code",
   "execution_count": 126,
   "metadata": {
    "collapsed": false
   },
   "outputs": [
    {
     "data": {
      "image/png": "[encoded data removed]",
      "text/plain": [
       "<matplotlib.figure.Figure at 0x1132449b0>"
      ]
     },
     "execution_count": 126,
     "metadata": {},
     "output_type": "execute_result"
    }
   ],
   "source": [
    "fig.axes[0].set_xlim(1.5,4)\n",
    "fig.axes[0].set_ylim(11.95,22)\n",
    "fig.savefig('paper/reionizationp.pdf')\n",
    "fig"
   ]
  },
  {
   "cell_type": "markdown",
   "metadata": {},
   "source": [
    "# Write out table for Josh "
   ]
  },
  {
   "cell_type": "code",
   "execution_count": 112,
   "metadata": {
    "collapsed": false
   },
   "outputs": [],
   "source": [
    "tabs = []\n",
    "mpair = []\n",
    "for name, pairs in elvii_pairs.items():\n",
    "    for i in (0, 1):\n",
    "        otheri = int(not bool(i))\n",
    "        tab = Table()\n",
    "        tab['in_dr1'] = pairs['in_survey_dr1_host' + str(i)].astype(int)\n",
    "        tab['detectable_dr1'] = pairs['detectable_dr1_host' + str(i)].astype(int)\n",
    "        tab['vel_cuts'] = pairs['host{}_vdevok'.format(i)]&pairs['host{}_dHVCok'.format(i)].astype(int)\n",
    "        tab['sat_now'] = pairs['sat_of_either'].astype(int)\n",
    "        tab['sat_ever'] = pairs['upIDever_either'].astype(int)\n",
    "        tabs.append(tab)\n",
    "        mpair.append(np.sum(pairs['Mvir'][:2])+ (1*u.solMass if pairs['Mvir'][i]>pairs['Mvir'][otheri] else 0))\n",
    "mpair = u.Quantity(mpair)\n",
    "tabs = np.array(tabs, dtype=object)\n",
    "sorti = np.argsort(mpair)\n",
    "tabss = tabs[sorti]"
   ]
  },
  {
   "cell_type": "code",
   "execution_count": 114,
   "metadata": {
    "collapsed": false
   },
   "outputs": [],
   "source": [
    "hl = fits.HDUList()\n",
    "for tab in tabss:\n",
    "    hl.append(fits.BinTableHDU(data=np.array(tab)))\n",
    "    \n",
    "hl.writeto('data_for_venn_diagram_sorted_smalltolarge.fits.gz', clobber=True)"
   ]
  }
 ],
 "metadata": {
  "kernelspec": {
   "display_name": "Python 3",
   "language": "python",
   "name": "python3"
  },
  "language_info": {
   "codemirror_mode": {
    "name": "ipython",
    "version": 3
   },
   "file_extension": ".py",
   "mimetype": "text/x-python",
   "name": "python",
   "nbconvert_exporter": "python",
   "pygments_lexer": "ipython3",
   "version": "3.5.1"
  }
 },
 "nbformat": 4,
 "nbformat_minor": 0
}
