{
 "cells": [
  {
   "cell_type": "code",
   "execution_count": 80,
   "metadata": {
    "collapsed": true
   },
   "outputs": [],
   "source": [
    "import os\n",
    "import re\n",
    "from glob import glob\n",
    "\n",
    "import numpy as np\n",
    "\n",
    "from astropy import units as u\n",
    "from astropy.coordinates import SkyCoord\n",
    "from astropy.table import Table, QTable"
   ]
  },
  {
   "cell_type": "code",
   "execution_count": 2,
   "metadata": {
    "collapsed": true
   },
   "outputs": [],
   "source": [
    "%matplotlib inline\n",
    "from matplotlib import pyplot as plt"
   ]
  },
  {
   "cell_type": "markdown",
   "metadata": {},
   "source": [
    "# First parse/load the data "
   ]
  },
  {
   "cell_type": "markdown",
   "metadata": {},
   "source": [
    "##  ELVIS"
   ]
  },
  {
   "cell_type": "code",
   "execution_count": 87,
   "metadata": {
    "collapsed": false
   },
   "outputs": [],
   "source": [
    "def read_elvis_z0(fn):\n",
    "    tab = QTable.read(os.path.join(elvis_data_dir, fn), format='ascii.commented_header',data_start=0, header_start=1)\n",
    "    \n",
    "    col_name_re = re.compile(r'(.*?)(\\(.*\\))?$')\n",
    "    for col in tab.columns.values():\n",
    "        match = col_name_re.match(col.name)\n",
    "        if match:\n",
    "            nm, unit = match.groups()\n",
    "            if nm != col.name:\n",
    "                col.name = nm\n",
    "            if unit is not None:\n",
    "               col.unit = u.Unit(unit[1:-1]) # 1:-1 to get rid of the parenthesis\n",
    "        \n",
    "    return tab\n",
    "\n",
    "def load_elvii(data_dir=os.path.abspath('elvis_data/'), isolated=False):\n",
    "    tables = {}\n",
    "    \n",
    "    fntoload = glob(os.path.join(data_dir, '*.txt'))\n",
    "    for fn in fntoload:\n",
    "        simname = os.path.split(fn)[-1][:-4]\n",
    "        if simname.startswith('i'):\n",
    "            if not isolated:\n",
    "                continue\n",
    "        else:\n",
    "            if isolated:\n",
    "                continue\n",
    "        print('Loading', fn)\n",
    "        tables[simname] = read_elvis_z0(fn)\n",
    "    return tables"
   ]
  },
  {
   "cell_type": "code",
   "execution_count": 88,
   "metadata": {
    "collapsed": false
   },
   "outputs": [
    {
     "name": "stdout",
     "output_type": "stream",
     "text": [
      "Loading /Users/erik/projects/m31-galfa/elvis/data/Burr&Hamilton.txt\n",
      "Loading /Users/erik/projects/m31-galfa/elvis/data/Charybdis&Scylla.txt\n",
      "Loading /Users/erik/projects/m31-galfa/elvis/data/Cher&Sonny.txt\n",
      "Loading /Users/erik/projects/m31-galfa/elvis/data/Hall&Oates.txt\n",
      "Loading /Users/erik/projects/m31-galfa/elvis/data/Kauket&Kek.txt\n",
      "Loading /Users/erik/projects/m31-galfa/elvis/data/Lincoln&Douglas.txt\n",
      "Loading /Users/erik/projects/m31-galfa/elvis/data/Romulus&Remus.txt\n",
      "Loading /Users/erik/projects/m31-galfa/elvis/data/Siegfried&Roy.txt\n",
      "Loading /Users/erik/projects/m31-galfa/elvis/data/Taurus&Orion.txt\n",
      "Loading /Users/erik/projects/m31-galfa/elvis/data/Thelma&Louise.txt\n",
      "Loading /Users/erik/projects/m31-galfa/elvis/data/Venus&Serana.txt\n",
      "Loading /Users/erik/projects/m31-galfa/elvis/data/Zeus&Hera.txt\n"
     ]
    }
   ],
   "source": [
    "elvii_pairs = load_elvii(isolated=False)"
   ]
  },
  {
   "cell_type": "markdown",
   "metadata": {},
   "source": [
    "## GALFA Sensitivity Maps "
   ]
  },
  {
   "cell_type": "code",
   "execution_count": null,
   "metadata": {
    "collapsed": true
   },
   "outputs": [],
   "source": []
  }
 ],
 "metadata": {
  "kernelspec": {
   "display_name": "Python 3",
   "language": "python",
   "name": "python3"
  },
  "language_info": {
   "codemirror_mode": {
    "name": "ipython",
    "version": 3
   },
   "file_extension": ".py",
   "mimetype": "text/x-python",
   "name": "python",
   "nbconvert_exporter": "python",
   "pygments_lexer": "ipython3",
   "version": "3.5.1"
  }
 },
 "nbformat": 4,
 "nbformat_minor": 0
}
