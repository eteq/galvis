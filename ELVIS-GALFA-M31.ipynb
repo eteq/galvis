{
 "cells": [
  {
   "cell_type": "code",
   "execution_count": 1,
   "metadata": {
    "collapsed": true
   },
   "outputs": [],
   "source": [
    "import os\n",
    "import re\n",
    "from glob import glob\n",
    "from importlib import reload\n",
    "\n",
    "import numpy as np\n",
    "\n",
    "from astropy import units as u\n",
    "from astropy.coordinates import SkyCoord\n",
    "from astropy.table import Table, QTable"
   ]
  },
  {
   "cell_type": "code",
   "execution_count": 2,
   "metadata": {
    "collapsed": true
   },
   "outputs": [],
   "source": [
    "%matplotlib inline\n",
    "from matplotlib import pyplot as plt"
   ]
  },
  {
   "cell_type": "markdown",
   "metadata": {},
   "source": [
    "# First parse/load the data "
   ]
  },
  {
   "cell_type": "code",
   "execution_count": 3,
   "metadata": {
    "collapsed": false
   },
   "outputs": [],
   "source": [
    "import data_loaders"
   ]
  },
  {
   "cell_type": "code",
   "execution_count": 4,
   "metadata": {
    "collapsed": false
   },
   "outputs": [
    {
     "name": "stdout",
     "output_type": "stream",
     "text": [
      "Loading /Users/erik/projects/m31-galfa/elvis_data/Burr&Hamilton.txt\n",
      "Loading /Users/erik/projects/m31-galfa/elvis_data/Charybdis&Scylla.txt\n",
      "Loading /Users/erik/projects/m31-galfa/elvis_data/Cher&Sonny.txt\n",
      "Loading /Users/erik/projects/m31-galfa/elvis_data/Hall&Oates.txt\n",
      "Loading /Users/erik/projects/m31-galfa/elvis_data/Kauket&Kek.txt\n",
      "Loading /Users/erik/projects/m31-galfa/elvis_data/Lincoln&Douglas.txt\n",
      "Loading /Users/erik/projects/m31-galfa/elvis_data/Romulus&Remus.txt\n",
      "Loading /Users/erik/projects/m31-galfa/elvis_data/Siegfried&Roy.txt\n",
      "Loading /Users/erik/projects/m31-galfa/elvis_data/Taurus&Orion.txt\n",
      "Loading /Users/erik/projects/m31-galfa/elvis_data/Thelma&Louise.txt\n",
      "Loading /Users/erik/projects/m31-galfa/elvis_data/Venus&Serana.txt\n",
      "Loading /Users/erik/projects/m31-galfa/elvis_data/Zeus&Hera.txt\n"
     ]
    }
   ],
   "source": [
    "elvii_pairs = data_loaders.load_elvii(isolated=False)"
   ]
  },
  {
   "cell_type": "code",
   "execution_count": 5,
   "metadata": {
    "collapsed": false
   },
   "outputs": [
    {
     "name": "stderr",
     "output_type": "stream",
     "text": [
      "/Users/erik/miniconda3/envs/anaconda/lib/python3.5/site-packages/astropy/coordinates/angles.py:672: RuntimeWarning: invalid value encountered in less\n",
      "  if np.any(self_angle < wrap_angle_floor) or np.any(self_angle >= wrap_angle):\n",
      "/Users/erik/miniconda3/envs/anaconda/lib/python3.5/site-packages/astropy/coordinates/angles.py:672: RuntimeWarning: invalid value encountered in greater_equal\n",
      "  if np.any(self_angle < wrap_angle_floor) or np.any(self_angle >= wrap_angle):\n",
      "/Users/erik/miniconda3/envs/anaconda/lib/python3.5/site-packages/astropy/coordinates/angles.py:563: RuntimeWarning: invalid value encountered in less\n",
      "  if np.any(angles.value < lower) or np.any(angles.value > upper):\n",
      "/Users/erik/miniconda3/envs/anaconda/lib/python3.5/site-packages/astropy/coordinates/angles.py:563: RuntimeWarning: invalid value encountered in greater\n",
      "  if np.any(angles.value < lower) or np.any(angles.value > upper):\n",
      "/Users/erik/projects/m31-galfa/data_loaders.py:87: RuntimeWarning: invalid value encountered in less_equal\n",
      "  sepmsk = seps <= dist\n"
     ]
    }
   ],
   "source": [
    "m31 = SkyCoord.from_name('M31')\n",
    "res = data_loaders.load_galfa_sensitivity('onempc_mass_sens.fits.zip', cendist=(m31,30*u.deg))\n",
    "galfa_sens, galfa_sens_scs, galfa_sens_wcs, galfa_sens_hdu = res"
   ]
  },
  {
   "cell_type": "code",
   "execution_count": 6,
   "metadata": {
    "collapsed": false
   },
   "outputs": [
    {
     "data": {
      "text/plain": [
       "(5543357,)"
      ]
     },
     "execution_count": 6,
     "metadata": {},
     "output_type": "execute_result"
    }
   ],
   "source": [
    "galfa_sens.shape"
   ]
  }
 ],
 "metadata": {
  "kernelspec": {
   "display_name": "Python 3",
   "language": "python",
   "name": "python3"
  },
  "language_info": {
   "codemirror_mode": {
    "name": "ipython",
    "version": 3
   },
   "file_extension": ".py",
   "mimetype": "text/x-python",
   "name": "python",
   "nbconvert_exporter": "python",
   "pygments_lexer": "ipython3",
   "version": "3.5.1"
  }
 },
 "nbformat": 4,
 "nbformat_minor": 0
}
