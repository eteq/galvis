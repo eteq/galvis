{
 "cells": [
  {
   "cell_type": "code",
   "execution_count": 1,
   "metadata": {
    "collapsed": true
   },
   "outputs": [],
   "source": [
    "import os\n",
    "import re\n",
    "from glob import glob\n",
    "from importlib import reload\n",
    "\n",
    "import numpy as np\n",
    "\n",
    "from astropy import units as u\n",
    "from astropy import coordinates\n",
    "from astropy.coordinates import SkyCoord\n",
    "from astropy import table"
   ]
  },
  {
   "cell_type": "code",
   "execution_count": 2,
   "metadata": {
    "collapsed": true
   },
   "outputs": [],
   "source": [
    "%matplotlib inline\n",
    "from matplotlib import pyplot as plt"
   ]
  },
  {
   "cell_type": "markdown",
   "metadata": {},
   "source": [
    "# First parse/load the data "
   ]
  },
  {
   "cell_type": "code",
   "execution_count": 3,
   "metadata": {
    "collapsed": false
   },
   "outputs": [],
   "source": [
    "import data_loaders"
   ]
  },
  {
   "cell_type": "code",
   "execution_count": 4,
   "metadata": {
    "collapsed": false
   },
   "outputs": [
    {
     "name": "stdout",
     "output_type": "stream",
     "text": [
      "Loading /Users/erik/projects/m31-galfa/elvis_data/Burr&Hamilton.txt\n",
      "Loading /Users/erik/projects/m31-galfa/elvis_data/Charybdis&Scylla.txt\n",
      "Loading /Users/erik/projects/m31-galfa/elvis_data/Cher&Sonny.txt\n",
      "Loading /Users/erik/projects/m31-galfa/elvis_data/Hall&Oates.txt\n",
      "Loading /Users/erik/projects/m31-galfa/elvis_data/Kauket&Kek.txt\n",
      "Loading /Users/erik/projects/m31-galfa/elvis_data/Lincoln&Douglas.txt\n",
      "Loading /Users/erik/projects/m31-galfa/elvis_data/Romulus&Remus.txt\n",
      "Loading /Users/erik/projects/m31-galfa/elvis_data/Siegfried&Roy.txt\n",
      "Loading /Users/erik/projects/m31-galfa/elvis_data/Taurus&Orion.txt\n",
      "Loading /Users/erik/projects/m31-galfa/elvis_data/Thelma&Louise.txt\n",
      "Loading /Users/erik/projects/m31-galfa/elvis_data/Venus&Serana.txt\n",
      "Loading /Users/erik/projects/m31-galfa/elvis_data/Zeus&Hera.txt\n"
     ]
    }
   ],
   "source": [
    "elvii_pairs = data_loaders.load_elvii(isolated=False)"
   ]
  },
  {
   "cell_type": "code",
   "execution_count": 5,
   "metadata": {
    "collapsed": true
   },
   "outputs": [],
   "source": [
    "#m31 = SkyCoord.from_name('M31')\n",
    "m31 = SkyCoord(10.6847083*u.deg, 41.26875*u.deg, 700*u.kpc)"
   ]
  },
  {
   "cell_type": "code",
   "execution_count": 19,
   "metadata": {
    "collapsed": false
   },
   "outputs": [
    {
     "name": "stderr",
     "output_type": "stream",
     "text": [
      "/Users/erik/miniconda3/envs/anaconda/lib/python3.5/site-packages/astropy/coordinates/angles.py:672: RuntimeWarning: invalid value encountered in less\n",
      "  if np.any(self_angle < wrap_angle_floor) or np.any(self_angle >= wrap_angle):\n",
      "/Users/erik/miniconda3/envs/anaconda/lib/python3.5/site-packages/astropy/coordinates/angles.py:672: RuntimeWarning: invalid value encountered in greater_equal\n",
      "  if np.any(self_angle < wrap_angle_floor) or np.any(self_angle >= wrap_angle):\n",
      "/Users/erik/miniconda3/envs/anaconda/lib/python3.5/site-packages/astropy/coordinates/angles.py:563: RuntimeWarning: invalid value encountered in less\n",
      "  if np.any(angles.value < lower) or np.any(angles.value > upper):\n",
      "/Users/erik/miniconda3/envs/anaconda/lib/python3.5/site-packages/astropy/coordinates/angles.py:563: RuntimeWarning: invalid value encountered in greater\n",
      "  if np.any(angles.value < lower) or np.any(angles.value > upper):\n"
     ]
    }
   ],
   "source": [
    "res = data_loaders.load_galfa_sensitivity('onempc_mass_sens.fits.zip')\n",
    "galfa_sens, galfa_sens_scs, galfa_sens_wcs, galfa_sens_hdu = res"
   ]
  },
  {
   "cell_type": "markdown",
   "metadata": {},
   "source": [
    "# Now some LG-simulating behavior"
   ]
  },
  {
   "cell_type": "markdown",
   "metadata": {},
   "source": [
    "First we produce $M_{HI}$ for everything following Bradford+15"
   ]
  },
  {
   "cell_type": "code",
   "execution_count": 7,
   "metadata": {
    "collapsed": false
   },
   "outputs": [],
   "source": [
    "# produce HI masses for each table\n",
    "for tab in elvii_pairs.values():\n",
    "    Ms = tab['Mstar_preferred']\n",
    "    tab['MHI'] = Ms"
   ]
  },
  {
   "cell_type": "markdown",
   "metadata": {},
   "source": [
    "Now we populate the tables with coordinates for an artificial \"LG\""
   ]
  },
  {
   "cell_type": "code",
   "execution_count": 54,
   "metadata": {
    "collapsed": false
   },
   "outputs": [
    {
     "name": "stderr",
     "output_type": "stream",
     "text": [
      "/Users/erik/miniconda3/envs/anaconda/lib/python3.5/site-packages/astropy/coordinates/angles.py:736: FutureWarning: elementwise comparison failed; returning scalar instead, but in the future will perform elementwise comparison\n",
      "  if axis == 'z':\n",
      "/Users/erik/miniconda3/envs/anaconda/lib/python3.5/site-packages/astropy/coordinates/angles.py:740: FutureWarning: elementwise comparison failed; returning scalar instead, but in the future will perform elementwise comparison\n",
      "  elif axis == 'y':\n",
      "/Users/erik/miniconda3/envs/anaconda/lib/python3.5/site-packages/astropy/coordinates/angles.py:744: FutureWarning: elementwise comparison failed; returning scalar instead, but in the future will perform elementwise comparison\n",
      "  elif axis == 'x':\n"
     ]
    }
   ],
   "source": [
    "earth_location = [8.5,0, 0]*u.kpc\n",
    "\n",
    "for tab in elvii_pairs.values():\n",
    "    #these add host{n}_lat/host{n}_lon/host{n}_dist\n",
    "    data_loaders.add_oriented_radecs(tab, 0, 1, target_coord=m31, earth_location=earth_location)\n",
    "    data_loaders.add_oriented_radecs(tab, 1, 0, target_coord=m31, earth_location=earth_location)"
   ]
  },
  {
   "cell_type": "markdown",
   "metadata": {},
   "source": [
    "Now we pull the sensitivity from the GALFA image"
   ]
  },
  {
   "cell_type": "code",
   "execution_count": 60,
   "metadata": {
    "collapsed": false
   },
   "outputs": [],
   "source": [
    "for tab in elvii_pairs.values():\n",
    "    for i in (0, 1):\n",
    "        host_sc = SkyCoord(ra=tab['host{}_lon'.format(i)], \n",
    "                           dec=tab['host{}_lat'.format(i)])\n",
    "        \n",
    "        pxs = host_sc.to_pixel(galfa_sens_wcs)\n",
    "        xp = np.round(pxs[0]).astype(int)\n",
    "        yp = np.round(pxs[1]).astype(int)\n",
    "        msk = (0<=xp)&(xp<galfa_sens.shape[0])&(0<=yp)&(yp<galfa_sens.shape[1])\n",
    "        \n",
    "        sens = np.zeros(len(tab), dtype=galfa_sens.dtype)*galfa_sens.unit\n",
    "        sens[msk] = galfa_sens[xp[msk], yp[msk]]\n",
    "        \n",
    "        tab['closest_sens{}'.format(i)] = sens"
   ]
  },
  {
   "cell_type": "markdown",
   "metadata": {},
   "source": [
    "And then see if the line is detectable"
   ]
  },
  {
   "cell_type": "code",
   "execution_count": 81,
   "metadata": {
    "collapsed": false
   },
   "outputs": [
    {
     "name": "stderr",
     "output_type": "stream",
     "text": [
      "/Users/erik/miniconda3/envs/anaconda/lib/python3.5/site-packages/astropy/units/quantity.py:822: RuntimeWarning: divide by zero encountered in true_divide\n",
      "  return super(Quantity, self).__truediv__(other)\n"
     ]
    }
   ],
   "source": [
    "for tab in elvii_pairs.values():\n",
    "    MHI = tab['MHI']\n",
    "    for i in (0, 1):\n",
    "        sens = tab['closest_sens{}'.format(i)]\n",
    "        \n",
    "        MHI_limit = (1*u.Msun*u.s*u.arcmin**-2)/sens#FIX THIS\n",
    "        \n",
    "        tab['detectable{}'.format(i)] = MHI_limit > MHI"
   ]
  },
  {
   "cell_type": "code",
   "execution_count": null,
   "metadata": {
    "collapsed": true
   },
   "outputs": [],
   "source": []
  }
 ],
 "metadata": {
  "kernelspec": {
   "display_name": "Python 3",
   "language": "python",
   "name": "python3"
  },
  "language_info": {
   "codemirror_mode": {
    "name": "ipython",
    "version": 3
   },
   "file_extension": ".py",
   "mimetype": "text/x-python",
   "name": "python",
   "nbconvert_exporter": "python",
   "pygments_lexer": "ipython3",
   "version": "3.5.1"
  }
 },
 "nbformat": 4,
 "nbformat_minor": 0
}
