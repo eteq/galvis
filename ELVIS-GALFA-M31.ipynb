{
 "cells": [
  {
   "cell_type": "code",
   "execution_count": 1,
   "metadata": {
    "collapsed": true
   },
   "outputs": [],
   "source": [
    "import os\n",
    "import re\n",
    "from glob import glob\n",
    "from importlib import reload\n",
    "\n",
    "import numpy as np\n",
    "\n",
    "from astropy import units as u\n",
    "from astropy.coordinates import SkyCoord\n",
    "from astropy.table import Table, QTable"
   ]
  },
  {
   "cell_type": "code",
   "execution_count": 2,
   "metadata": {
    "collapsed": true
   },
   "outputs": [],
   "source": [
    "%matplotlib inline\n",
    "from matplotlib import pyplot as plt"
   ]
  },
  {
   "cell_type": "markdown",
   "metadata": {},
   "source": [
    "# First parse/load the data "
   ]
  },
  {
   "cell_type": "code",
   "execution_count": 3,
   "metadata": {
    "collapsed": false
   },
   "outputs": [],
   "source": [
    "import data_loaders"
   ]
  },
  {
   "cell_type": "code",
   "execution_count": 4,
   "metadata": {
    "collapsed": false
   },
   "outputs": [
    {
     "name": "stdout",
     "output_type": "stream",
     "text": [
      "Loading /Users/erik/projects/m31-galfa/elvis_data/Burr&Hamilton.txt\n",
      "Loading /Users/erik/projects/m31-galfa/elvis_data/Charybdis&Scylla.txt\n",
      "Loading /Users/erik/projects/m31-galfa/elvis_data/Cher&Sonny.txt\n",
      "Loading /Users/erik/projects/m31-galfa/elvis_data/Hall&Oates.txt\n",
      "Loading /Users/erik/projects/m31-galfa/elvis_data/Kauket&Kek.txt\n",
      "Loading /Users/erik/projects/m31-galfa/elvis_data/Lincoln&Douglas.txt\n",
      "Loading /Users/erik/projects/m31-galfa/elvis_data/Romulus&Remus.txt\n",
      "Loading /Users/erik/projects/m31-galfa/elvis_data/Siegfried&Roy.txt\n",
      "Loading /Users/erik/projects/m31-galfa/elvis_data/Taurus&Orion.txt\n",
      "Loading /Users/erik/projects/m31-galfa/elvis_data/Thelma&Louise.txt\n",
      "Loading /Users/erik/projects/m31-galfa/elvis_data/Venus&Serana.txt\n",
      "Loading /Users/erik/projects/m31-galfa/elvis_data/Zeus&Hera.txt\n"
     ]
    }
   ],
   "source": [
    "elvii_pairs = data_loaders.load_elvii(isolated=False)"
   ]
  },
  {
   "cell_type": "code",
   "execution_count": 5,
   "metadata": {
    "collapsed": false
   },
   "outputs": [
    {
     "ename": "NotImplementedError",
     "evalue": "",
     "output_type": "error",
     "traceback": [
      "\u001b[0;31m---------------------------------------------------------------------------\u001b[0m",
      "\u001b[0;31mNotImplementedError\u001b[0m                       Traceback (most recent call last)",
      "\u001b[0;32m<ipython-input-5-4a37385928f2>\u001b[0m in \u001b[0;36m<module>\u001b[0;34m()\u001b[0m\n\u001b[1;32m      1\u001b[0m \u001b[0mreload\u001b[0m\u001b[0;34m(\u001b[0m\u001b[0mdata_loaders\u001b[0m\u001b[0;34m)\u001b[0m\u001b[0;34m\u001b[0m\u001b[0m\n\u001b[0;32m----> 2\u001b[0;31m \u001b[0mdata_loaders\u001b[0m\u001b[0;34m.\u001b[0m\u001b[0mload_galfa_sensitivity\u001b[0m\u001b[0;34m(\u001b[0m\u001b[0;34m'arg'\u001b[0m\u001b[0;34m)\u001b[0m\u001b[0;34m\u001b[0m\u001b[0m\n\u001b[0m",
      "\u001b[0;32m/Users/erik/projects/m31-galfa/data_loaders.py\u001b[0m in \u001b[0;36mload_galfa_sensitivity\u001b[0;34m(fn)\u001b[0m\n\u001b[1;32m     42\u001b[0m \u001b[0;31m### GALFA-related loaders\u001b[0m\u001b[0;34m\u001b[0m\u001b[0;34m\u001b[0m\u001b[0m\n\u001b[1;32m     43\u001b[0m \u001b[0;32mdef\u001b[0m \u001b[0mload_galfa_sensitivity\u001b[0m\u001b[0;34m(\u001b[0m\u001b[0mfn\u001b[0m\u001b[0;34m)\u001b[0m\u001b[0;34m:\u001b[0m\u001b[0;34m\u001b[0m\u001b[0m\n\u001b[0;32m---> 44\u001b[0;31m     \u001b[0;32mraise\u001b[0m \u001b[0mNotImplementedError\u001b[0m\u001b[0;34m\u001b[0m\u001b[0m\n\u001b[0m",
      "\u001b[0;31mNotImplementedError\u001b[0m: "
     ]
    }
   ],
   "source": [
    "reload(data_loaders)\n",
    "data_loaders.load_galfa_sensitivity('arg')"
   ]
  }
 ],
 "metadata": {
  "kernelspec": {
   "display_name": "Python 3",
   "language": "python",
   "name": "python3"
  },
  "language_info": {
   "codemirror_mode": {
    "name": "ipython",
    "version": 3
   },
   "file_extension": ".py",
   "mimetype": "text/x-python",
   "name": "python",
   "nbconvert_exporter": "python",
   "pygments_lexer": "ipython3",
   "version": "3.5.1"
  }
 },
 "nbformat": 4,
 "nbformat_minor": 0
}
