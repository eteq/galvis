{
 "cells": [
  {
   "cell_type": "code",
   "execution_count": 1,
   "metadata": {
    "collapsed": false
   },
   "outputs": [
    {
     "ename": "NameError",
     "evalue": "name 'rcParams' is not defined",
     "output_type": "error",
     "traceback": [
      "\u001b[0;31m---------------------------------------------------------------------------\u001b[0m",
      "\u001b[0;31mNameError\u001b[0m                                 Traceback (most recent call last)",
      "\u001b[0;32m<ipython-input-1-e9f48632d791>\u001b[0m in \u001b[0;36m<module>\u001b[0;34m()\u001b[0m\n\u001b[0;32m----> 1\u001b[0;31m \u001b[0mrcParams\u001b[0m\u001b[0;34m\u001b[0m\u001b[0m\n\u001b[0m",
      "\u001b[0;31mNameError\u001b[0m: name 'rcParams' is not defined"
     ]
    }
   ],
   "source": [
    "rcParams"
   ]
  },
  {
   "cell_type": "code",
   "execution_count": null,
   "metadata": {
    "collapsed": false
   },
   "outputs": [],
   "source": [
    "import numpy as np\n",
    "\n",
    "from astropy import table\n",
    "\n",
    "%matplotlib inline\n",
    "from matplotlib import rcParams, style\n",
    "from matplotlib import pyplot as plt\n",
    "from matplotlib.ticker import MultipleLocator, FormatStrFormatter\n",
    "\n",
    "\n",
    "rcParams['legend.fontsize'] = rcParams['axes.labelsize'] = 20\n",
    "rcParams['lines.linewidth'] = 2\n",
    "rcParams['xtick.labelsize'] =  rcParams['ytick.labelsize'] = 16"
   ]
  },
  {
   "cell_type": "code",
   "execution_count": null,
   "metadata": {
    "collapsed": false
   },
   "outputs": [],
   "source": [
    "# the data file is generated in \"UpID ever experiments\" notebook\n",
    "tabs = [table.Table.read('data_for_venn_diagram_sorted_smalltolarge.fits.gz', hdu=hdunum) for hdunum in range(1,25)]\n",
    "tabs[0]"
   ]
  },
  {
   "cell_type": "code",
   "execution_count": null,
   "metadata": {
    "collapsed": true
   },
   "outputs": [],
   "source": [
    "base_color = (0, 0.5, 0)\n",
    "notnow_color = '#FF0000'\n",
    "never_color = '#F79400'"
   ]
  },
  {
   "cell_type": "code",
   "execution_count": null,
   "metadata": {
    "collapsed": false
   },
   "outputs": [],
   "source": [
    "fig, ax = plt.subplots(figsize=(10,5))\n",
    "\n",
    "nosat = []\n",
    "notnow = []\n",
    "never = []\n",
    "\n",
    "for t in tabs:\n",
    "    nosatmsk = t['in_dr1'] & t['detectable_dr1'] & t['vel_cuts']\n",
    "    nosat.append(np.sum(nosatmsk))\n",
    "    notnow.append(np.sum(nosatmsk&~t['sat_now']))\n",
    "    never.append(np.sum(nosatmsk&~t['sat_ever']))\n",
    "    \n",
    "def make_line(data, color, leg=None, ls='-'):\n",
    "    ax.step(np.append(np.sort(data), np.max(data)), np.arange(len(data)+1), c=color, label=leg, linestyle=ls)\n",
    "\n",
    "make_line(nosat, base_color, 'All Detectable', '-.')\n",
    "make_line(notnow, notnow_color, 'Not-Now Scenario', ':')\n",
    "make_line(never, never_color, 'Never Scenario')\n",
    "\n",
    "ax.axvline(0, c='k', ls='--', label='Observed LG')\n",
    "\n",
    "plt.xlim(-2, 108)\n",
    "plt.ylim(0, 24)\n",
    "\n",
    "major_y_locator = MultipleLocator(4)\n",
    "minor_y_locator = MultipleLocator(1)\n",
    "ax.yaxis.set_major_locator(major_y_locator)\n",
    "ax.yaxis.set_minor_locator(minor_y_locator)\n",
    "\n",
    "ax.legend(loc=0)\n",
    "ax.set_xlabel(r'$n_{\\rm gal}$')\n",
    "ax.set_ylabel(r'ELVIS #')\n",
    "\n",
    "plt.savefig('paper/countsummary.pdf')"
   ]
  },
  {
   "cell_type": "code",
   "execution_count": null,
   "metadata": {
    "collapsed": true
   },
   "outputs": [],
   "source": []
  }
 ],
 "metadata": {
  "kernelspec": {
   "display_name": "Python 3",
   "language": "python",
   "name": "python3"
  },
  "language_info": {
   "codemirror_mode": {
    "name": "ipython",
    "version": 3
   },
   "file_extension": ".py",
   "mimetype": "text/x-python",
   "name": "python",
   "nbconvert_exporter": "python",
   "pygments_lexer": "ipython3",
   "version": "3.5.2"
  }
 },
 "nbformat": 4,
 "nbformat_minor": 0
}
