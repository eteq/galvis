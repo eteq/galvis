{
 "cells": [
  {
   "cell_type": "markdown",
   "metadata": {},
   "source": [
    "Comparison between counts in Halos for these three scenarios:\n",
    "* No satellite cuts\n",
    "* Not satellite at z=0\n",
    "* Never satellite\n",
    "* Not satellite at z<8\n",
    "\n",
    "Also use vlsr<90 cut instead of vdev"
   ]
  },
  {
   "cell_type": "code",
   "execution_count": 1,
   "metadata": {
    "collapsed": true
   },
   "outputs": [],
   "source": [
    "import os\n",
    "import sys\n",
    "import time\n",
    "\n",
    "import numpy as np\n",
    "\n",
    "from scipy import stats\n",
    "\n",
    "from astropy import units as u\n",
    "from astropy import constants as cnst\n",
    "from astropy.coordinates import SkyCoord, Distance\n",
    "from astropy import modeling\n",
    "from astropy import table\n",
    "from astropy.table import Table\n",
    "from astropy.io import fits\n",
    "\n",
    "%matplotlib inline\n",
    "from matplotlib import rcParams, style\n",
    "from matplotlib import pyplot as plt\n",
    "from mpl_toolkits.mplot3d import Axes3D\n",
    "\n",
    "rcParams['image.cmap'] = 'viridis'\n",
    "rcParams['image.origin'] = 'lower'\n",
    "rcParams['axes.prop_cycle'] = style.library['seaborn-deep']['axes.prop_cycle']\n",
    "rcParams['figure.figsize'] = (14, 8)\n",
    "rcParams['axes.titlesize'] =  rcParams['axes.labelsize'] = 16\n",
    "rcParams['xtick.labelsize'] =  rcParams['ytick.labelsize'] = 14"
   ]
  },
  {
   "cell_type": "code",
   "execution_count": 2,
   "metadata": {
    "collapsed": true
   },
   "outputs": [],
   "source": [
    "import data_loaders\n",
    "import detectability"
   ]
  },
  {
   "cell_type": "code",
   "execution_count": 3,
   "metadata": {
    "collapsed": true
   },
   "outputs": [],
   "source": [
    "from importlib import reload\n",
    "first = lambda x: next(iter(x))"
   ]
  },
  {
   "cell_type": "markdown",
   "metadata": {},
   "source": [
    "# Relevant Lookback times -> redshifts "
   ]
  },
  {
   "cell_type": "code",
   "execution_count": 4,
   "metadata": {
    "collapsed": true
   },
   "outputs": [],
   "source": [
    "from astropy.cosmology import Planck15, z_at_value"
   ]
  },
  {
   "cell_type": "code",
   "execution_count": 5,
   "metadata": {
    "collapsed": false
   },
   "outputs": [
    {
     "data": {
      "text/latex": [
       "$13.158851 \\; \\mathrm{Gyr}$"
      ],
      "text/plain": [
       "<Quantity 13.158851036570463 Gyr>"
      ]
     },
     "execution_count": 5,
     "metadata": {},
     "output_type": "execute_result"
    }
   ],
   "source": [
    "Planck15.lookback_time(8)"
   ]
  },
  {
   "cell_type": "code",
   "execution_count": 6,
   "metadata": {
    "collapsed": false
   },
   "outputs": [
    {
     "data": {
      "text/latex": [
       "$12.624238 \\; \\mathrm{Gyr}$"
      ],
      "text/plain": [
       "<Quantity 12.624238411321304 Gyr>"
      ]
     },
     "execution_count": 6,
     "metadata": {},
     "output_type": "execute_result"
    }
   ],
   "source": [
    "Planck15.lookback_time(5)"
   ]
  },
  {
   "cell_type": "code",
   "execution_count": 7,
   "metadata": {
    "collapsed": false
   },
   "outputs": [
    {
     "data": {
      "text/plain": [
       "0.24655286227260514"
      ]
     },
     "execution_count": 7,
     "metadata": {},
     "output_type": "execute_result"
    }
   ],
   "source": [
    "z_at_value(Planck15.lookback_time, 3*u.Gyr)"
   ]
  },
  {
   "cell_type": "code",
   "execution_count": 8,
   "metadata": {
    "collapsed": false
   },
   "outputs": [
    {
     "data": {
      "text/plain": [
       "0.073015434533676843"
      ]
     },
     "execution_count": 8,
     "metadata": {},
     "output_type": "execute_result"
    }
   ],
   "source": [
    "z_at_value(Planck15.lookback_time, 1*u.Gyr)"
   ]
  },
  {
   "cell_type": "markdown",
   "metadata": {},
   "source": [
    "# Load things"
   ]
  },
  {
   "cell_type": "code",
   "execution_count": 9,
   "metadata": {
    "collapsed": false
   },
   "outputs": [
    {
     "name": "stdout",
     "output_type": "stream",
     "text": [
      "Loading /Users/erik/projects/m31-galfa/elvis_data/PairedCatalogs/Hall&Oates.txt\n",
      "Loading /Users/erik/projects/m31-galfa/elvis_data/PairedCatalogs/Hamilton&Burr.txt\n",
      "Loading /Users/erik/projects/m31-galfa/elvis_data/PairedCatalogs/Kek&Kauket.txt\n",
      "Loading /Users/erik/projects/m31-galfa/elvis_data/PairedCatalogs/Lincoln&Douglas.txt\n",
      "Loading /Users/erik/projects/m31-galfa/elvis_data/PairedCatalogs/Orion&Taurus.txt\n",
      "Loading /Users/erik/projects/m31-galfa/elvis_data/PairedCatalogs/Romulus&Remus.txt\n",
      "Loading /Users/erik/projects/m31-galfa/elvis_data/PairedCatalogs/Scylla&Charybdis.txt\n",
      "Loading /Users/erik/projects/m31-galfa/elvis_data/PairedCatalogs/Serena&Venus.txt\n",
      "Loading /Users/erik/projects/m31-galfa/elvis_data/PairedCatalogs/Siegfried&Roy.txt\n",
      "Loading /Users/erik/projects/m31-galfa/elvis_data/PairedCatalogs/Sonny&Cher.txt\n",
      "Loading /Users/erik/projects/m31-galfa/elvis_data/PairedCatalogs/Thelma&Louise.txt\n",
      "Loading /Users/erik/projects/m31-galfa/elvis_data/PairedCatalogs/Zeus&Hera.txt\n"
     ]
    }
   ],
   "source": [
    "elvii_pairs = data_loaders.load_elvii_z0(isolated=False)"
   ]
  },
  {
   "cell_type": "code",
   "execution_count": 10,
   "metadata": {
    "collapsed": false
   },
   "outputs": [
    {
     "name": "stderr",
     "output_type": "stream",
     "text": [
      "/Users/erik/miniconda3/envs/anaconda/lib/python3.5/site-packages/astropy/coordinates/angles.py:656: RuntimeWarning: invalid value encountered in less\n",
      "  if np.any(self_angle < wrap_angle_floor) or np.any(self_angle >= wrap_angle):\n",
      "/Users/erik/miniconda3/envs/anaconda/lib/python3.5/site-packages/astropy/coordinates/angles.py:656: RuntimeWarning: invalid value encountered in greater_equal\n",
      "  if np.any(self_angle < wrap_angle_floor) or np.any(self_angle >= wrap_angle):\n",
      "/Users/erik/miniconda3/envs/anaconda/lib/python3.5/site-packages/astropy/coordinates/angles.py:547: RuntimeWarning: invalid value encountered in less\n",
      "  if np.any(angles.value < lower) or np.any(angles.value > upper):\n",
      "/Users/erik/miniconda3/envs/anaconda/lib/python3.5/site-packages/astropy/coordinates/angles.py:547: RuntimeWarning: invalid value encountered in greater\n",
      "  if np.any(angles.value < lower) or np.any(angles.value > upper):\n"
     ]
    }
   ],
   "source": [
    "res = data_loaders.load_galfa_sensitivity('onempc_mass_sens.fits.zip')\n",
    "galfa_sens, galfa_sens_scs, galfa_sens_wcs, galfa_sens_hdu = res"
   ]
  },
  {
   "cell_type": "code",
   "execution_count": 11,
   "metadata": {
    "collapsed": false
   },
   "outputs": [
    {
     "name": "stdout",
     "output_type": "stream",
     "text": [
      "Loading /Users/erik/projects/m31-galfa/elvis_data/PairedTrees/Hall&Oates\n",
      "Loading /Users/erik/projects/m31-galfa/elvis_data/PairedTrees/Hamilton&Burr\n",
      "Loading /Users/erik/projects/m31-galfa/elvis_data/PairedTrees/Kek&Kauket\n",
      "Loading /Users/erik/projects/m31-galfa/elvis_data/PairedTrees/Lincoln&Douglas\n",
      "Loading /Users/erik/projects/m31-galfa/elvis_data/PairedTrees/Orion&Taurus\n",
      "Loading /Users/erik/projects/m31-galfa/elvis_data/PairedTrees/Romulus&Remus\n",
      "Loading /Users/erik/projects/m31-galfa/elvis_data/PairedTrees/Scylla&Charybdis\n",
      "Loading /Users/erik/projects/m31-galfa/elvis_data/PairedTrees/Serena&Venus\n",
      "Loading /Users/erik/projects/m31-galfa/elvis_data/PairedTrees/Siegfried&Roy\n",
      "Loading /Users/erik/projects/m31-galfa/elvis_data/PairedTrees/Sonny&Cher\n",
      "Loading /Users/erik/projects/m31-galfa/elvis_data/PairedTrees/Thelma&Louise\n",
      "Loading /Users/erik/projects/m31-galfa/elvis_data/PairedTrees/Zeus&Hera\n"
     ]
    },
    {
     "name": "stderr",
     "output_type": "stream",
     "text": [
      "/Users/erik/projects/m31-galfa/data_loaders.py:83: RuntimeWarning: divide by zero encountered in true_divide\n",
      "  coldct['z'] = 1./coldct['scale'] - 1\n"
     ]
    }
   ],
   "source": [
    "elvii_trees = data_loaders.load_elvii_trees('ID,Mvir,Vmax,Rvir,upID,scale')"
   ]
  },
  {
   "cell_type": "code",
   "execution_count": 12,
   "metadata": {
    "collapsed": false
   },
   "outputs": [],
   "source": [
    "data_loaders.annotate_z0_from_trees(elvii_pairs, elvii_trees)\n",
    "data_loaders.annotate_z0_from_trees(elvii_pairs, elvii_trees, zthresh=8)\n",
    "data_loaders.annotate_z0_from_trees(elvii_pairs, elvii_trees, zthresh=5)\n",
    "data_loaders.annotate_z0_from_trees(elvii_pairs, elvii_trees, zthresh=1)\n",
    "data_loaders.annotate_z0_from_trees(elvii_pairs, elvii_trees, zthresh=0.5)\n",
    "data_loaders.annotate_z0_from_trees(elvii_pairs, elvii_trees, zthresh=0.25)\n",
    "data_loaders.annotate_z0_from_trees(elvii_pairs, elvii_trees, zthresh=0.1)"
   ]
  },
  {
   "cell_type": "markdown",
   "metadata": {},
   "source": [
    "# Compute detectability "
   ]
  },
  {
   "cell_type": "code",
   "execution_count": 13,
   "metadata": {
    "collapsed": false
   },
   "outputs": [
    {
     "name": "stderr",
     "output_type": "stream",
     "text": [
      "/Users/erik/miniconda3/envs/anaconda/lib/python3.5/site-packages/astropy/units/quantity.py:782: FutureWarning: elementwise comparison failed; returning scalar instead, but in the future will perform elementwise comparison\n",
      "  return super(Quantity, self).__eq__(other)\n"
     ]
    }
   ],
   "source": [
    "#m31 = SkyCoord.from_name('M31')\n",
    "m31 = SkyCoord(10.6847083*u.deg, 41.26875*u.deg, 700*u.kpc)\n",
    "\n",
    "for tab in elvii_pairs.values():\n",
    "    data_loaders.add_oriented_radecs(tab, 0, 1, target_coord=m31)\n",
    "    data_loaders.add_oriented_radecs(tab, 1, 0, target_coord=m31)"
   ]
  },
  {
   "cell_type": "code",
   "execution_count": 14,
   "metadata": {
    "collapsed": true
   },
   "outputs": [],
   "source": [
    "detectability.compute_elvis_mgas_bradford_15(elvii_pairs, 'Mstar_preferred')"
   ]
  },
  {
   "cell_type": "code",
   "execution_count": 15,
   "metadata": {
    "collapsed": true
   },
   "outputs": [],
   "source": [
    "detectability.compute_elvis_detectability(galfa_sens, galfa_sens_wcs, 'dr1', elvii_pairs)"
   ]
  },
  {
   "cell_type": "code",
   "execution_count": 16,
   "metadata": {
    "collapsed": true
   },
   "outputs": [],
   "source": [
    "wakker_hvcs = Table.read('wakk.fits')\n",
    "wakker_scs = SkyCoord(l=wakker_hvcs['L'], b=wakker_hvcs['B'], unit=u.deg, frame='galactic')\n",
    "\n",
    "detectability.compute_elvis_findable(elvii_pairs, wakker_scs, wakker_hvcs['VLSR']*u.km/u.s)"
   ]
  },
  {
   "cell_type": "markdown",
   "metadata": {},
   "source": [
    "# Now build table with the various scenarios "
   ]
  },
  {
   "cell_type": "code",
   "execution_count": 17,
   "metadata": {
    "collapsed": false
   },
   "outputs": [
    {
     "data": {
      "text/html": [
       "&lt;Table length=24&gt;\n",
       "<table id=\"table4626684392-289227\" class=\"table-striped table-bordered table-condensed\">\n",
       "<thead><tr><th>idx</th><th>name</th><th>n_all</th><th>n_notsat</th><th>n_neversat</th><th>n_neversatz8</th><th>n_neversatz5</th><th>n_neversatz1</th><th>n_neversatz0p5</th><th>n_neversatz0p1</th></tr></thead>\n",
       "<tr><td>0</td><td>Sonny</td><td>36</td><td>11</td><td>5</td><td>5</td><td>5</td><td>5</td><td>5</td><td>8</td></tr>\n",
       "<tr><td>1</td><td>Cher</td><td>63</td><td>11</td><td>4</td><td>4</td><td>4</td><td>4</td><td>4</td><td>9</td></tr>\n",
       "<tr><td>2</td><td>Serena</td><td>61</td><td>19</td><td>12</td><td>12</td><td>12</td><td>12</td><td>12</td><td>16</td></tr>\n",
       "<tr><td>3</td><td>Venus</td><td>105</td><td>43</td><td>19</td><td>19</td><td>19</td><td>19</td><td>19</td><td>36</td></tr>\n",
       "<tr><td>4</td><td>Lincoln</td><td>62</td><td>26</td><td>9</td><td>9</td><td>9</td><td>9</td><td>12</td><td>22</td></tr>\n",
       "<tr><td>5</td><td>Douglas</td><td>58</td><td>20</td><td>6</td><td>6</td><td>6</td><td>6</td><td>7</td><td>14</td></tr>\n",
       "<tr><td>6</td><td>Siegfried</td><td>65</td><td>36</td><td>17</td><td>17</td><td>17</td><td>17</td><td>17</td><td>29</td></tr>\n",
       "<tr><td>7</td><td>Roy</td><td>80</td><td>29</td><td>13</td><td>13</td><td>13</td><td>13</td><td>13</td><td>22</td></tr>\n",
       "<tr><td>8</td><td>Zeus</td><td>54</td><td>12</td><td>6</td><td>6</td><td>6</td><td>6</td><td>6</td><td>12</td></tr>\n",
       "<tr><td>9</td><td>Hera</td><td>80</td><td>21</td><td>7</td><td>7</td><td>7</td><td>7</td><td>10</td><td>18</td></tr>\n",
       "<tr><td>10</td><td>Hall</td><td>28</td><td>12</td><td>7</td><td>7</td><td>7</td><td>7</td><td>7</td><td>10</td></tr>\n",
       "<tr><td>11</td><td>Oates</td><td>40</td><td>17</td><td>5</td><td>5</td><td>5</td><td>6</td><td>7</td><td>10</td></tr>\n",
       "<tr><td>12</td><td>Kek</td><td>32</td><td>17</td><td>10</td><td>10</td><td>10</td><td>10</td><td>10</td><td>14</td></tr>\n",
       "<tr><td>13</td><td>Kauket</td><td>68</td><td>30</td><td>16</td><td>16</td><td>16</td><td>16</td><td>19</td><td>27</td></tr>\n",
       "<tr><td>14</td><td>Scylla</td><td>50</td><td>17</td><td>10</td><td>10</td><td>10</td><td>10</td><td>11</td><td>13</td></tr>\n",
       "<tr><td>15</td><td>Charybdis</td><td>53</td><td>21</td><td>14</td><td>14</td><td>14</td><td>14</td><td>14</td><td>16</td></tr>\n",
       "<tr><td>16</td><td>Hamilton</td><td>43</td><td>9</td><td>6</td><td>6</td><td>6</td><td>6</td><td>7</td><td>8</td></tr>\n",
       "<tr><td>17</td><td>Burr</td><td>73</td><td>25</td><td>13</td><td>13</td><td>13</td><td>13</td><td>17</td><td>23</td></tr>\n",
       "<tr><td>18</td><td>Romulus</td><td>27</td><td>9</td><td>1</td><td>1</td><td>1</td><td>1</td><td>3</td><td>5</td></tr>\n",
       "<tr><td>19</td><td>Remus</td><td>52</td><td>19</td><td>6</td><td>6</td><td>6</td><td>6</td><td>6</td><td>19</td></tr>\n",
       "<tr><td>20</td><td>Orion</td><td>34</td><td>10</td><td>3</td><td>3</td><td>3</td><td>3</td><td>3</td><td>9</td></tr>\n",
       "<tr><td>21</td><td>Taurus</td><td>81</td><td>14</td><td>8</td><td>8</td><td>8</td><td>9</td><td>9</td><td>10</td></tr>\n",
       "<tr><td>22</td><td>Thelma</td><td>31</td><td>8</td><td>1</td><td>1</td><td>1</td><td>1</td><td>4</td><td>6</td></tr>\n",
       "<tr><td>23</td><td>Louise</td><td>33</td><td>11</td><td>2</td><td>2</td><td>2</td><td>3</td><td>6</td><td>10</td></tr>\n",
       "</table><style>table.dataTable {clear: both; width: auto !important; margin: 0 !important;}\n",
       ".dataTables_info, .dataTables_length, .dataTables_filter, .dataTables_paginate{\n",
       "display: inline-block; margin-right: 1em; }\n",
       ".paginate_button { margin-right: 5px; }\n",
       "</style>\n",
       "<script>\n",
       "require.config({paths: {\n",
       "    datatables: 'https://cdn.datatables.net/1.10.9/js/jquery.dataTables.min'\n",
       "}});\n",
       "require([\"datatables\"], function(){\n",
       "    console.log(\"$('#table4626684392-289227').dataTable()\");\n",
       "    $('#table4626684392-289227').dataTable({\n",
       "        \"order\": [],\n",
       "        \"iDisplayLength\": 50,\n",
       "        \"aLengthMenu\": [[10, 25, 50, 100, 500, 1000, -1], [10, 25, 50, 100, 500, 1000, 'All']],\n",
       "        \"pagingType\": \"full_numbers\"\n",
       "    });\n",
       "});\n",
       "</script>\n"
      ],
      "text/plain": [
       "<IPython.core.display.HTML object>"
      ]
     },
     "execution_count": 17,
     "metadata": {},
     "output_type": "execute_result"
    }
   ],
   "source": [
    "tab = Table()\n",
    "tab['name'] = np.array([], dtype='S20')\n",
    "tab['n_all'] = np.array([], dtype=int)\n",
    "tab['n_notsat'] = np.array([], dtype=int)\n",
    "tab['n_neversat'] = np.array([], dtype=int)\n",
    "tab['n_neversatz8'] = np.array([], dtype=int)\n",
    "tab['n_neversatz5'] = np.array([], dtype=int)\n",
    "tab['n_neversatz1'] = np.array([], dtype=int)\n",
    "tab['n_neversatz0p5'] = np.array([], dtype=int)\n",
    "tab['n_neversatz0p1'] = np.array([], dtype=int)\n",
    "\n",
    "\n",
    "for pairnm, pair in elvii_pairs.items():\n",
    "    for i in (0, 1):\n",
    "        nm = pairnm.split('&')[i]\n",
    "        \n",
    "        findable = pair['findable_dr1_host' + str(i)]\n",
    "        nall = np.sum(findable)\n",
    "        nnotsat = np.sum(findable & ~pair['sat_of_either'])\n",
    "        nneversat = np.sum(findable & ~pair['upIDever_either'])\n",
    "        nneversatz8 = np.sum(findable & ~pair['upIDz8_either'])\n",
    "        nneversatz5 = np.sum(findable & ~pair['upIDz5_either'])\n",
    "        nneversatz1 = np.sum(findable & ~pair['upIDz1_either'])\n",
    "        nneversatz0p5 = np.sum(findable & ~pair['upIDz0p5_either'])\n",
    "        nneversatz0p1 = np.sum(findable & ~pair['upIDz0p1_either'])\n",
    "        \n",
    "        tab.add_row([nm, nall, nnotsat, nneversat, nneversatz8, nneversatz5, nneversatz1, nneversatz0p5, nneversatz0p1])\n",
    "        \n",
    "tab.show_in_notebook()"
   ]
  },
  {
   "cell_type": "markdown",
   "metadata": {},
   "source": [
    "# Now repeat instead using vlsr cut "
   ]
  },
  {
   "cell_type": "code",
   "execution_count": 18,
   "metadata": {
    "collapsed": true
   },
   "outputs": [],
   "source": [
    "# this changes the \"findable\" table entries, so it will change things if you then go back and execute the above cell\n",
    "detectability.compute_elvis_findable(elvii_pairs, wakker_scs, wakker_hvcs['VLSR']*u.km/u.s, vlsr_thresh=90*u.km/u.s)"
   ]
  },
  {
   "cell_type": "code",
   "execution_count": 19,
   "metadata": {
    "collapsed": false
   },
   "outputs": [
    {
     "data": {
      "text/html": [
       "&lt;Table length=24&gt;\n",
       "<table id=\"table4626807608-717684\" class=\"table-striped table-bordered table-condensed\">\n",
       "<thead><tr><th>idx</th><th>name</th><th>n_all</th><th>n_notsat</th><th>n_neversat</th><th>n_neversatz8</th><th>n_neversatz5</th><th>n_neversatz1</th><th>n_neversatz0p5</th><th>n_neversatz0p25</th><th>n_neversatz0p1</th></tr></thead>\n",
       "<tr><td>0</td><td>Sonny</td><td>26</td><td>9</td><td>3</td><td>3</td><td>3</td><td>3</td><td>3</td><td>4</td><td>6</td></tr>\n",
       "<tr><td>1</td><td>Cher</td><td>46</td><td>13</td><td>6</td><td>6</td><td>6</td><td>6</td><td>6</td><td>7</td><td>10</td></tr>\n",
       "<tr><td>2</td><td>Serena</td><td>33</td><td>12</td><td>8</td><td>8</td><td>8</td><td>8</td><td>8</td><td>11</td><td>11</td></tr>\n",
       "<tr><td>3</td><td>Venus</td><td>80</td><td>36</td><td>18</td><td>18</td><td>18</td><td>18</td><td>18</td><td>20</td><td>30</td></tr>\n",
       "<tr><td>4</td><td>Lincoln</td><td>38</td><td>15</td><td>1</td><td>1</td><td>1</td><td>1</td><td>3</td><td>5</td><td>12</td></tr>\n",
       "<tr><td>5</td><td>Douglas</td><td>45</td><td>16</td><td>5</td><td>5</td><td>5</td><td>5</td><td>7</td><td>8</td><td>10</td></tr>\n",
       "<tr><td>6</td><td>Siegfried</td><td>45</td><td>25</td><td>9</td><td>9</td><td>9</td><td>9</td><td>9</td><td>9</td><td>20</td></tr>\n",
       "<tr><td>7</td><td>Roy</td><td>61</td><td>29</td><td>10</td><td>10</td><td>10</td><td>10</td><td>10</td><td>14</td><td>23</td></tr>\n",
       "<tr><td>8</td><td>Zeus</td><td>39</td><td>11</td><td>7</td><td>7</td><td>7</td><td>7</td><td>7</td><td>7</td><td>11</td></tr>\n",
       "<tr><td>9</td><td>Hera</td><td>62</td><td>17</td><td>7</td><td>7</td><td>7</td><td>7</td><td>11</td><td>15</td><td>17</td></tr>\n",
       "<tr><td>10</td><td>Hall</td><td>19</td><td>13</td><td>8</td><td>8</td><td>8</td><td>8</td><td>8</td><td>8</td><td>10</td></tr>\n",
       "<tr><td>11</td><td>Oates</td><td>25</td><td>12</td><td>4</td><td>4</td><td>4</td><td>5</td><td>5</td><td>5</td><td>8</td></tr>\n",
       "<tr><td>12</td><td>Kek</td><td>14</td><td>7</td><td>6</td><td>6</td><td>6</td><td>6</td><td>6</td><td>6</td><td>6</td></tr>\n",
       "<tr><td>13</td><td>Kauket</td><td>56</td><td>29</td><td>15</td><td>15</td><td>15</td><td>15</td><td>17</td><td>19</td><td>25</td></tr>\n",
       "<tr><td>14</td><td>Scylla</td><td>34</td><td>19</td><td>12</td><td>12</td><td>12</td><td>12</td><td>13</td><td>14</td><td>16</td></tr>\n",
       "<tr><td>15</td><td>Charybdis</td><td>27</td><td>12</td><td>6</td><td>6</td><td>6</td><td>6</td><td>6</td><td>6</td><td>7</td></tr>\n",
       "<tr><td>16</td><td>Hamilton</td><td>31</td><td>6</td><td>5</td><td>5</td><td>5</td><td>5</td><td>5</td><td>5</td><td>5</td></tr>\n",
       "<tr><td>17</td><td>Burr</td><td>53</td><td>13</td><td>3</td><td>3</td><td>3</td><td>3</td><td>8</td><td>10</td><td>12</td></tr>\n",
       "<tr><td>18</td><td>Romulus</td><td>15</td><td>6</td><td>0</td><td>0</td><td>0</td><td>0</td><td>1</td><td>3</td><td>3</td></tr>\n",
       "<tr><td>19</td><td>Remus</td><td>49</td><td>18</td><td>5</td><td>5</td><td>5</td><td>5</td><td>5</td><td>14</td><td>18</td></tr>\n",
       "<tr><td>20</td><td>Orion</td><td>17</td><td>6</td><td>3</td><td>3</td><td>3</td><td>3</td><td>3</td><td>3</td><td>5</td></tr>\n",
       "<tr><td>21</td><td>Taurus</td><td>60</td><td>11</td><td>8</td><td>8</td><td>8</td><td>9</td><td>9</td><td>10</td><td>10</td></tr>\n",
       "<tr><td>22</td><td>Thelma</td><td>19</td><td>7</td><td>1</td><td>1</td><td>1</td><td>1</td><td>4</td><td>4</td><td>6</td></tr>\n",
       "<tr><td>23</td><td>Louise</td><td>30</td><td>11</td><td>3</td><td>3</td><td>3</td><td>4</td><td>7</td><td>9</td><td>10</td></tr>\n",
       "</table><style>table.dataTable {clear: both; width: auto !important; margin: 0 !important;}\n",
       ".dataTables_info, .dataTables_length, .dataTables_filter, .dataTables_paginate{\n",
       "display: inline-block; margin-right: 1em; }\n",
       ".paginate_button { margin-right: 5px; }\n",
       "</style>\n",
       "<script>\n",
       "require.config({paths: {\n",
       "    datatables: 'https://cdn.datatables.net/1.10.9/js/jquery.dataTables.min'\n",
       "}});\n",
       "require([\"datatables\"], function(){\n",
       "    console.log(\"$('#table4626807608-717684').dataTable()\");\n",
       "    $('#table4626807608-717684').dataTable({\n",
       "        \"order\": [],\n",
       "        \"iDisplayLength\": 50,\n",
       "        \"aLengthMenu\": [[10, 25, 50, 100, 500, 1000, -1], [10, 25, 50, 100, 500, 1000, 'All']],\n",
       "        \"pagingType\": \"full_numbers\"\n",
       "    });\n",
       "});\n",
       "</script>\n"
      ],
      "text/plain": [
       "<IPython.core.display.HTML object>"
      ]
     },
     "execution_count": 19,
     "metadata": {},
     "output_type": "execute_result"
    }
   ],
   "source": [
    "tab = Table()\n",
    "tab['name'] = np.array([], dtype='S20')\n",
    "tab['n_all'] = np.array([], dtype=int)\n",
    "tab['n_notsat'] = np.array([], dtype=int)\n",
    "tab['n_neversat'] = np.array([], dtype=int)\n",
    "tab['n_neversatz8'] = np.array([], dtype=int)\n",
    "tab['n_neversatz5'] = np.array([], dtype=int)\n",
    "tab['n_neversatz1'] = np.array([], dtype=int)\n",
    "tab['n_neversatz0p5'] = np.array([], dtype=int)\n",
    "tab['n_neversatz0p25'] = np.array([], dtype=int)\n",
    "tab['n_neversatz0p1'] = np.array([], dtype=int)\n",
    "\n",
    "\n",
    "for pairnm, pair in elvii_pairs.items():\n",
    "    for i in (0, 1):\n",
    "        nm = pairnm.split('&')[i]\n",
    "        \n",
    "        findable = pair['findable_dr1_host' + str(i)]\n",
    "        nall = np.sum(findable)\n",
    "        nnotsat = np.sum(findable & ~pair['sat_of_either'])\n",
    "        nneversat = np.sum(findable & ~pair['upIDever_either'])\n",
    "        nneversatz8 = np.sum(findable & ~pair['upIDz8_either'])\n",
    "        nneversatz5 = np.sum(findable & ~pair['upIDz5_either'])\n",
    "        nneversatz1 = np.sum(findable & ~pair['upIDz1_either'])\n",
    "        nneversatz0p5 = np.sum(findable & ~pair['upIDz0p5_either'])\n",
    "        nneversatz0p25 = np.sum(findable & ~pair['upIDz0p25_either'])\n",
    "        nneversatz0p1 = np.sum(findable & ~pair['upIDz0p1_either'])\n",
    "        \n",
    "        tab.add_row([nm, nall, nnotsat, nneversat, nneversatz8, nneversatz5, nneversatz1, \n",
    "                     nneversatz0p5, nneversatz0p25, nneversatz0p1])\n",
    "        \n",
    "tab.show_in_notebook()"
   ]
  }
 ],
 "metadata": {
  "kernelspec": {
   "display_name": "Python 3",
   "language": "python",
   "name": "python3"
  },
  "language_info": {
   "codemirror_mode": {
    "name": "ipython",
    "version": 3
   },
   "file_extension": ".py",
   "mimetype": "text/x-python",
   "name": "python",
   "nbconvert_exporter": "python",
   "pygments_lexer": "ipython3",
   "version": "3.5.2"
  }
 },
 "nbformat": 4,
 "nbformat_minor": 0
}
