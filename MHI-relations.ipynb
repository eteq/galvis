{
 "cells": [
  {
   "cell_type": "code",
   "execution_count": 150,
   "metadata": {
    "collapsed": true
   },
   "outputs": [],
   "source": [
    "import os\n",
    "import re\n",
    "from glob import glob\n",
    "from importlib import reload\n",
    "\n",
    "from collections import OrderedDict\n",
    "\n",
    "import numpy as np\n",
    "\n",
    "from astropy import units as u\n",
    "from astropy import coordinates\n",
    "from astropy.coordinates import SkyCoord, Latitude, Longitude\n",
    "from astropy import table\n",
    "from astropy.io import ascii\n",
    "from astropy.visualization import hist as ahist\n",
    "from astropy.utils import data"
   ]
  },
  {
   "cell_type": "code",
   "execution_count": 151,
   "metadata": {
    "collapsed": true
   },
   "outputs": [],
   "source": [
    "%matplotlib inline\n",
    "from matplotlib import pyplot as plt\n",
    "from mpl_toolkits.mplot3d import Axes3D"
   ]
  },
  {
   "cell_type": "code",
   "execution_count": 152,
   "metadata": {
    "collapsed": false
   },
   "outputs": [
    {
     "data": {
      "text/html": [
       "<style>.container { width:90% !important; }</style>"
      ],
      "text/plain": [
       "<IPython.core.display.HTML object>"
      ]
     },
     "execution_count": 152,
     "metadata": {},
     "output_type": "execute_result"
    }
   ],
   "source": [
    "# a fun trick that makes the notebook always be 95% of the browser window\n",
    "from IPython.core.display import HTML\n",
    "HTML(\"<style>.container { width:90% !important; }</style>\")"
   ]
  },
  {
   "cell_type": "markdown",
   "metadata": {},
   "source": [
    "# First parse/load the data "
   ]
  },
  {
   "cell_type": "code",
   "execution_count": 5,
   "metadata": {
    "collapsed": false
   },
   "outputs": [],
   "source": [
    "import data_loaders"
   ]
  },
  {
   "cell_type": "code",
   "execution_count": 6,
   "metadata": {
    "collapsed": false
   },
   "outputs": [
    {
     "name": "stdout",
     "output_type": "stream",
     "text": [
      "Loading /Users/erik/projects/m31-galfa/elvis_data/Burr&Hamilton.txt\n",
      "Loading /Users/erik/projects/m31-galfa/elvis_data/Charybdis&Scylla.txt\n",
      "Loading /Users/erik/projects/m31-galfa/elvis_data/Cher&Sonny.txt\n",
      "Loading /Users/erik/projects/m31-galfa/elvis_data/Hall&Oates.txt\n",
      "Loading /Users/erik/projects/m31-galfa/elvis_data/Kauket&Kek.txt\n",
      "Loading /Users/erik/projects/m31-galfa/elvis_data/Lincoln&Douglas.txt\n",
      "Loading /Users/erik/projects/m31-galfa/elvis_data/Romulus&Remus.txt\n",
      "Loading /Users/erik/projects/m31-galfa/elvis_data/Siegfried&Roy.txt\n",
      "Loading /Users/erik/projects/m31-galfa/elvis_data/Taurus&Orion.txt\n",
      "Loading /Users/erik/projects/m31-galfa/elvis_data/Thelma&Louise.txt\n",
      "Loading /Users/erik/projects/m31-galfa/elvis_data/Venus&Serana.txt\n",
      "Loading /Users/erik/projects/m31-galfa/elvis_data/Zeus&Hera.txt\n"
     ]
    }
   ],
   "source": [
    "elvii_pairs = data_loaders.load_elvii(isolated=False)"
   ]
  },
  {
   "cell_type": "code",
   "execution_count": 7,
   "metadata": {
    "collapsed": true
   },
   "outputs": [],
   "source": [
    "#m31 = SkyCoord.from_name('M31')\n",
    "m31 = SkyCoord(10.6847083*u.deg, 41.26875*u.deg, 700*u.kpc)"
   ]
  },
  {
   "cell_type": "code",
   "execution_count": 8,
   "metadata": {
    "collapsed": false
   },
   "outputs": [
    {
     "name": "stderr",
     "output_type": "stream",
     "text": [
      "/Users/erik/miniconda3/envs/anaconda/lib/python3.5/site-packages/astropy/coordinates/angles.py:672: RuntimeWarning: invalid value encountered in less\n",
      "  if np.any(self_angle < wrap_angle_floor) or np.any(self_angle >= wrap_angle):\n",
      "/Users/erik/miniconda3/envs/anaconda/lib/python3.5/site-packages/astropy/coordinates/angles.py:672: RuntimeWarning: invalid value encountered in greater_equal\n",
      "  if np.any(self_angle < wrap_angle_floor) or np.any(self_angle >= wrap_angle):\n",
      "/Users/erik/miniconda3/envs/anaconda/lib/python3.5/site-packages/astropy/coordinates/angles.py:563: RuntimeWarning: invalid value encountered in less\n",
      "  if np.any(angles.value < lower) or np.any(angles.value > upper):\n",
      "/Users/erik/miniconda3/envs/anaconda/lib/python3.5/site-packages/astropy/coordinates/angles.py:563: RuntimeWarning: invalid value encountered in greater\n",
      "  if np.any(angles.value < lower) or np.any(angles.value > upper):\n"
     ]
    }
   ],
   "source": [
    "res = data_loaders.load_galfa_sensitivity('onempc_mass_sens.fits.zip')\n",
    "galfa_sens, galfa_sens_scs, galfa_sens_wcs, galfa_sens_hdu = res"
   ]
  },
  {
   "cell_type": "markdown",
   "metadata": {},
   "source": [
    "# Simulate a GALFA-like survey assuming ELVii are like the LG"
   ]
  },
  {
   "cell_type": "markdown",
   "metadata": {},
   "source": [
    "First we produce $M_{HI}$ for everything following Bradford+15"
   ]
  },
  {
   "cell_type": "code",
   "execution_count": 140,
   "metadata": {
    "collapsed": true
   },
   "outputs": [],
   "source": [
    "def bradford_15_mstar_to_mgas(mstar):\n",
    "    logx = np.log10(mstar/u.Msun)\n",
    "    faintmsk = logx < 8.6\n",
    "    mgas = np.empty_like(logx)\n",
    "    mgas[faintmsk] = 1.052 *logx[faintmsk] + 0.236\n",
    "    mgas[~faintmsk] = 0.461 *logx[~faintmsk] + 5.329\n",
    "    return u.solMass*10**mgas"
   ]
  },
  {
   "cell_type": "code",
   "execution_count": 10,
   "metadata": {
    "collapsed": false
   },
   "outputs": [],
   "source": [
    "# produce HI masses for each table\n",
    "for tab in elvii_pairs.values():\n",
    "    Ms = tab['Mstar_preferred']\n",
    "    tab['MHI'] = bradford_15_mstar_to_mgas(Ms)"
   ]
  },
  {
   "cell_type": "markdown",
   "metadata": {},
   "source": [
    "Now we populate the tables with coordinates for an artificial \"LG\""
   ]
  },
  {
   "cell_type": "code",
   "execution_count": 11,
   "metadata": {
    "collapsed": false
   },
   "outputs": [
    {
     "name": "stderr",
     "output_type": "stream",
     "text": [
      "/Users/erik/miniconda3/envs/anaconda/lib/python3.5/site-packages/astropy/units/quantity.py:763: FutureWarning: elementwise comparison failed; returning scalar instead, but in the future will perform elementwise comparison\n",
      "  return super(Quantity, self).__eq__(other)\n"
     ]
    }
   ],
   "source": [
    "for tab in elvii_pairs.values():\n",
    "    #these add host{n}_lat/host{n}_lon/host{n}_dist\n",
    "    data_loaders.add_oriented_radecs(tab, 0, 1, target_coord=m31)\n",
    "    data_loaders.add_oriented_radecs(tab, 1, 0, target_coord=m31)"
   ]
  },
  {
   "cell_type": "markdown",
   "metadata": {},
   "source": [
    "# Load LG data "
   ]
  },
  {
   "cell_type": "code",
   "execution_count": 128,
   "metadata": {
    "collapsed": false
   },
   "outputs": [],
   "source": [
    "mcconn_url = 'https://www.astrosci.ca/users/alan/Nearby_Dwarfs_Database_files/NearbyGalaxies.dat'\n",
    "toexec = \"mcconn_tab_str = data.get_file_contents(mcconn_url, cache=True)\"\n",
    "\n",
    "# have to do this ssl stuff because astrosci.ca has expired SSL\n",
    "import ssl\n",
    "from urllib.error import URLError\n",
    "\n",
    "baseline_create = ssl._create_default_https_context\n",
    "try:\n",
    "    exec(toexec)\n",
    "except URLError as e:\n",
    "    ee[0] = e\n",
    "    if 'SSL: CERTIFICATE_VERIFY_FAILED' in str(e.args):\n",
    "        ssl._create_default_https_context = ssl._create_unverified_context\n",
    "        exec(toexec)\n",
    "    else:\n",
    "        raise\n",
    "finally:\n",
    "    ssl._create_default_https_context = baseline_create"
   ]
  },
  {
   "cell_type": "code",
   "execution_count": 92,
   "metadata": {
    "collapsed": false
   },
   "outputs": [],
   "source": [
    "headerrow = mcconn_tab_str.split('\\n')[32]\n",
    "colnames = headerrow.split()\n",
    "colidxs = [headerrow.rindex(col) for col in colnames]\n",
    "\n",
    "# this *removes* the references\n",
    "col_starts = colidxs[:-1]\n",
    "col_ends = [i-1 for i in colidxs[1:]]\n",
    "colnames = colnames[:-1]\n",
    "\n",
    "str_tab = ascii.read(mcconn_tab_str.split('\\n')[34:], format='fixed_width_no_header', \n",
    "                     names=colnames, col_starts=col_starts, col_ends=col_ends)"
   ]
  },
  {
   "cell_type": "code",
   "execution_count": 160,
   "metadata": {
    "collapsed": false,
    "scrolled": false
   },
   "outputs": [
    {
     "data": {
      "text/html": [
       "&lt;Table length=107&gt;\n",
       "<table id=\"table4521403392-618234\" class=\"table table-striped table-bordered table-condensed\">\n",
       "<thead><tr><th>Name</th><th>Coords</th><th>EB-V</th><th>(m-M)o</th><th>(m-M)o+</th><th>(m-M)o-</th><th>vh(km/s)</th><th>vh(km/s)+</th><th>vh(km/s)-</th><th>Vmag</th><th>Vmag+</th><th>Vmag-</th><th>PA</th><th>PA+</th><th>PA-</th><th>e=1-b/a</th><th>e=1-b/a+</th><th>e=1-b/a-</th><th>muVo</th><th>muVo+</th><th>muVo-</th><th>rh(arcmins)</th><th>rh(arcmins)+</th><th>rh(arcmins)-</th><th>sigma_s(km/s)</th><th>sigma_s(km/s)+</th><th>sigma_s(km/s)-</th><th>vrot_s(km/s)</th><th>vrot_s(km/s)+</th><th>vrot_s(km/s)-</th><th>MHI</th><th>sigma_g(km/s)</th><th>sigma_g(km/s)+</th><th>sigma_g(km/s)-</th><th>vrot_g(km/s)</th><th>vrot_g(km/s)+</th><th>vrot_g(km/s)-</th><th>[Fe/H]</th><th>[Fe/H]+</th><th>[Fe/H]-</th><th>F</th></tr></thead>\n",
       "<thead><tr><th></th><th>deg,deg</th><th></th><th></th><th></th><th></th><th></th><th></th><th></th><th></th><th></th><th></th><th></th><th></th><th></th><th></th><th></th><th></th><th></th><th></th><th></th><th></th><th></th><th></th><th></th><th></th><th></th><th></th><th></th><th></th><th></th><th></th><th></th><th></th><th></th><th></th><th></th><th></th><th></th><th></th><th></th></tr></thead>\n",
       "<tr><td>The Galaxy</td><td>266.4166666666667,-29.00777777777778</td><td>9.999</td><td>99.99</td><td>9.99</td><td>9.99</td><td>999.9</td><td>99.9</td><td>99.9</td><td>99.9</td><td>9.9</td><td>9.9</td><td>999.9</td><td>99.9</td><td>99.9</td><td>9.99</td><td>9.99</td><td>9.99</td><td>99.9</td><td>9.9</td><td>9.9</td><td>99.99</td><td>9.99</td><td>9.99</td><td>99.9</td><td>99.9</td><td>99.9</td><td>99.9</td><td>99.9</td><td>99.9</td><td>99.9</td><td>99.9</td><td>99.9</td><td>99.9</td><td>999.9</td><td>99.9</td><td>99.9</td><td>9.99</td><td>9.99</td><td>9.99</td><td>9.0</td></tr>\n",
       "<tr><td>Canis Major</td><td>108.14583333333331,-27.666666666666668</td><td>0.264</td><td>14.29</td><td>0.3</td><td>0.3</td><td>87.0</td><td>4.0</td><td>4.0</td><td>-0.1</td><td>0.8</td><td>0.8</td><td>123.0</td><td>99.9</td><td>99.9</td><td>9.99</td><td>9.99</td><td>9.99</td><td>24.0</td><td>0.6</td><td>0.6</td><td>99.99</td><td>9.99</td><td>9.99</td><td>20.0</td><td>3.0</td><td>3.0</td><td>99.9</td><td>99.9</td><td>99.9</td><td>99.9</td><td>99.9</td><td>99.9</td><td>99.9</td><td>999.9</td><td>99.9</td><td>99.9</td><td>-0.5</td><td>0.2</td><td>0.2</td><td>4.0</td></tr>\n",
       "<tr><td>Sagittarius dSph</td><td>283.83124999999995,-30.54527777777778</td><td>0.153</td><td>17.1</td><td>0.15</td><td>0.15</td><td>140.0</td><td>2.0</td><td>2.0</td><td>3.6</td><td>0.3</td><td>0.3</td><td>102.0</td><td>2.0</td><td>2.0</td><td>0.64</td><td>0.02</td><td>0.02</td><td>25.2</td><td>0.3</td><td>0.3</td><td>342.0</td><td>12.0</td><td>12.0</td><td>11.4</td><td>0.7</td><td>0.7</td><td>0.0</td><td>0.0</td><td>0.0</td><td>0.0</td><td>0.0</td><td>0.0</td><td>0.0</td><td>0.0</td><td>0.0</td><td>0.0</td><td>-0.4</td><td>0.2</td><td>0.2</td><td>1.0</td></tr>\n",
       "<tr><td>Segue (I)</td><td>151.76666666666665,16.081944444444446</td><td>0.031</td><td>16.8</td><td>0.2</td><td>0.2</td><td>208.5</td><td>0.9</td><td>0.9</td><td>15.3</td><td>0.8</td><td>0.8</td><td>85.0</td><td>8.0</td><td>8.0</td><td>0.48</td><td>0.13</td><td>0.13</td><td>27.6</td><td>1.0</td><td>1.0</td><td>4.4</td><td>1.2</td><td>0.6</td><td>3.9</td><td>0.8</td><td>0.8</td><td>0.0</td><td>0.0</td><td>0.0</td><td>0.0</td><td>0.0</td><td>0.0</td><td>0.0</td><td>0.0</td><td>0.0</td><td>0.0</td><td>-2.72</td><td>0.4</td><td>0.4</td><td>2.0</td></tr>\n",
       "<tr><td>Ursa Major II</td><td>132.87499999999997,63.13</td><td>0.094</td><td>17.5</td><td>0.3</td><td>0.3</td><td>-116.5</td><td>1.9</td><td>1.9</td><td>13.3</td><td>0.5</td><td>0.5</td><td>98.0</td><td>4.0</td><td>4.0</td><td>0.63</td><td>0.05</td><td>0.05</td><td>27.9</td><td>0.6</td><td>0.6</td><td>16.0</td><td>1.0</td><td>1.0</td><td>6.7</td><td>1.4</td><td>1.4</td><td>0.0</td><td>0.0</td><td>0.0</td><td>0.0</td><td>0.0</td><td>0.0</td><td>0.0</td><td>0.0</td><td>0.0</td><td>0.0</td><td>-2.47</td><td>0.06</td><td>0.06</td><td>2.0</td></tr>\n",
       "<tr><td>Bootes II</td><td>209.49999999999997,12.85</td><td>0.031</td><td>18.1</td><td>0.06</td><td>0.06</td><td>-117.0</td><td>5.2</td><td>5.2</td><td>15.4</td><td>0.9</td><td>0.9</td><td>145.0</td><td>55.0</td><td>55.0</td><td>0.21</td><td>0.21</td><td>0.21</td><td>28.1</td><td>1.6</td><td>1.6</td><td>4.2</td><td>1.4</td><td>1.4</td><td>10.5</td><td>7.4</td><td>7.4</td><td>99.9</td><td>99.9</td><td>99.9</td><td>0.0</td><td>0.0</td><td>0.0</td><td>0.0</td><td>0.0</td><td>0.0</td><td>0.0</td><td>-1.79</td><td>0.05</td><td>0.05</td><td>3.0</td></tr>\n",
       "<tr><td>Segue II</td><td>34.816666666666656,20.17527777777778</td><td>0.185</td><td>17.7</td><td>0.1</td><td>0.1</td><td>-39.2</td><td>2.5</td><td>2.5</td><td>15.2</td><td>0.3</td><td>0.3</td><td>182.0</td><td>17.0</td><td>17.0</td><td>0.15</td><td>0.1</td><td>0.1</td><td>27.4</td><td>0.4</td><td>0.4</td><td>3.4</td><td>0.2</td><td>0.2</td><td>3.4</td><td>2.5</td><td>1.2</td><td>99.9</td><td>99.9</td><td>99.9</td><td>99.9</td><td>99.9</td><td>99.9</td><td>99.9</td><td>999.9</td><td>99.9</td><td>99.9</td><td>-2.22</td><td>0.13</td><td>0.13</td><td>2.0</td></tr>\n",
       "<tr><td>Willman 1</td><td>162.33749999999998,51.05</td><td>0.014</td><td>17.9</td><td>0.4</td><td>0.4</td><td>-12.3</td><td>2.5</td><td>2.5</td><td>15.2</td><td>0.7</td><td>0.7</td><td>77.0</td><td>5.0</td><td>5.0</td><td>0.47</td><td>0.08</td><td>0.08</td><td>26.1</td><td>0.9</td><td>0.9</td><td>2.3</td><td>0.4</td><td>0.4</td><td>4.3</td><td>2.3</td><td>1.3</td><td>99.9</td><td>99.9</td><td>99.9</td><td>0.0</td><td>0.0</td><td>0.0</td><td>0.0</td><td>0.0</td><td>0.0</td><td>0.0</td><td>-2.1</td><td>9.99</td><td>9.99</td><td>2.0</td></tr>\n",
       "<tr><td>Coma Berenices</td><td>186.7458333333333,23.904166666666665</td><td>0.017</td><td>18.2</td><td>0.2</td><td>0.2</td><td>98.1</td><td>0.9</td><td>0.9</td><td>14.1</td><td>0.5</td><td>0.5</td><td>115.0</td><td>10.0</td><td>10.0</td><td>0.38</td><td>0.14</td><td>0.14</td><td>27.3</td><td>0.7</td><td>0.7</td><td>6.0</td><td>0.6</td><td>0.6</td><td>4.6</td><td>0.8</td><td>0.8</td><td>0.0</td><td>0.0</td><td>0.0</td><td>0.0</td><td>0.0</td><td>0.0</td><td>0.0</td><td>0.0</td><td>0.0</td><td>0.0</td><td>-2.6</td><td>0.05</td><td>0.05</td><td>2.0</td></tr>\n",
       "<tr><td>Bootes III</td><td>209.29999999999998,26.8</td><td>0.021</td><td>18.35</td><td>0.1</td><td>0.1</td><td>197.5</td><td>3.8</td><td>3.8</td><td>12.6</td><td>0.5</td><td>0.5</td><td>90.0</td><td>99.9</td><td>99.9</td><td>0.5</td><td>9.99</td><td>9.99</td><td>31.3</td><td>0.3</td><td>0.3</td><td>99.99</td><td>9.99</td><td>9.99</td><td>14.0</td><td>3.2</td><td>3.2</td><td>99.9</td><td>99.9</td><td>99.9</td><td>99.9</td><td>99.9</td><td>99.9</td><td>99.9</td><td>999.9</td><td>99.9</td><td>99.9</td><td>-2.1</td><td>0.2</td><td>0.2</td><td>2.0</td></tr>\n",
       "<tr><td>LMC</td><td>80.89375,-69.75611111111111</td><td>0.926</td><td>18.52</td><td>0.09</td><td>0.09</td><td>262.2</td><td>3.4</td><td>3.4</td><td>0.4</td><td>0.1</td><td>0.1</td><td>999.9</td><td>99.9</td><td>99.9</td><td>9.99</td><td>9.99</td><td>9.99</td><td>99.9</td><td>9.9</td><td>9.9</td><td>99.99</td><td>9.99</td><td>9.99</td><td>20.2</td><td>0.5</td><td>0.5</td><td>49.8</td><td>15.9</td><td>15.9</td><td>460.0</td><td>15.8</td><td>0.2</td><td>0.2</td><td>63.0</td><td>3.0</td><td>3.0</td><td>-0.5</td><td>9.99</td><td>9.99</td><td>3.0</td></tr>\n",
       "<tr><td>SMC</td><td>13.186666666666666,-72.8286111111111</td><td>0.419</td><td>19.03</td><td>0.12</td><td>0.12</td><td>145.6</td><td>0.6</td><td>0.6</td><td>2.2</td><td>0.2</td><td>0.2</td><td>999.9</td><td>99.9</td><td>99.9</td><td>9.99</td><td>9.99</td><td>9.99</td><td>99.9</td><td>9.9</td><td>9.9</td><td>99.99</td><td>9.99</td><td>9.99</td><td>27.6</td><td>0.5</td><td>0.5</td><td>0.0</td><td>0.0</td><td>0.0</td><td>460.0</td><td>22.0</td><td>2.0</td><td>2.0</td><td>60.0</td><td>5.0</td><td>5.0</td><td>-1.0</td><td>0.02</td><td>0.02</td><td>3.0</td></tr>\n",
       "<tr><td>Bootes (I)</td><td>210.02499999999998,14.5</td><td>0.017</td><td>19.11</td><td>0.08</td><td>0.08</td><td>99.0</td><td>2.1</td><td>2.1</td><td>12.8</td><td>0.2</td><td>0.2</td><td>14.0</td><td>6.0</td><td>6.0</td><td>0.39</td><td>0.06</td><td>0.06</td><td>27.5</td><td>0.3</td><td>0.3</td><td>12.6</td><td>1.0</td><td>1.0</td><td>2.4</td><td>0.9</td><td>0.5</td><td>99.9</td><td>99.9</td><td>99.9</td><td>0.0</td><td>0.0</td><td>0.0</td><td>0.0</td><td>0.0</td><td>0.0</td><td>0.0</td><td>-2.55</td><td>0.11</td><td>0.11</td><td>2.0</td></tr>\n",
       "<tr><td>Draco</td><td>260.0516666666666,57.915277777777774</td><td>0.027</td><td>19.4</td><td>0.17</td><td>0.17</td><td>-291.0</td><td>0.1</td><td>0.1</td><td>10.6</td><td>0.2</td><td>0.2</td><td>89.0</td><td>2.0</td><td>2.0</td><td>0.31</td><td>0.02</td><td>0.02</td><td>25.0</td><td>0.2</td><td>0.2</td><td>10.0</td><td>0.3</td><td>0.3</td><td>9.1</td><td>1.2</td><td>1.2</td><td>0.0</td><td>0.0</td><td>0.0</td><td>0.0</td><td>0.0</td><td>0.0</td><td>0.0</td><td>0.0</td><td>0.0</td><td>0.0</td><td>-1.93</td><td>0.01</td><td>0.01</td><td>2.0</td></tr>\n",
       "<tr><td>Ursa Minor</td><td>227.28541666666666,67.2225</td><td>0.032</td><td>19.4</td><td>0.1</td><td>0.1</td><td>-246.9</td><td>0.1</td><td>0.1</td><td>10.6</td><td>0.5</td><td>0.5</td><td>53.0</td><td>5.0</td><td>5.0</td><td>0.56</td><td>0.05</td><td>0.05</td><td>26.0</td><td>0.5</td><td>0.5</td><td>8.2</td><td>1.2</td><td>1.2</td><td>9.5</td><td>1.2</td><td>1.2</td><td>0.0</td><td>0.0</td><td>0.0</td><td>0.0</td><td>0.0</td><td>0.0</td><td>0.0</td><td>0.0</td><td>0.0</td><td>0.0</td><td>-2.13</td><td>0.01</td><td>0.01</td><td>2.0</td></tr>\n",
       "<tr><td>Sculptor</td><td>15.039166666666665,-33.70916666666667</td><td>0.018</td><td>19.67</td><td>0.14</td><td>0.14</td><td>111.4</td><td>0.1</td><td>0.1</td><td>8.6</td><td>0.5</td><td>0.5</td><td>99.0</td><td>1.0</td><td>1.0</td><td>0.32</td><td>0.03</td><td>0.03</td><td>23.5</td><td>0.5</td><td>0.5</td><td>11.3</td><td>1.6</td><td>1.6</td><td>9.2</td><td>1.4</td><td>1.4</td><td>0.0</td><td>0.0</td><td>0.0</td><td>0.22</td><td>0.0</td><td>0.0</td><td>0.0</td><td>0.0</td><td>0.0</td><td>0.0</td><td>-1.68</td><td>0.01</td><td>0.01</td><td>2.0</td></tr>\n",
       "<tr><td>Sextans (I)</td><td>153.26249999999996,-1.6147222222222224</td><td>0.047</td><td>19.67</td><td>0.1</td><td>0.1</td><td>224.2</td><td>0.1</td><td>0.1</td><td>10.4</td><td>0.5</td><td>0.5</td><td>56.0</td><td>5.0</td><td>5.0</td><td>0.35</td><td>0.05</td><td>0.05</td><td>27.1</td><td>0.5</td><td>0.5</td><td>27.8</td><td>1.2</td><td>1.2</td><td>7.9</td><td>1.3</td><td>1.3</td><td>0.0</td><td>0.0</td><td>0.0</td><td>0.0</td><td>0.0</td><td>0.0</td><td>0.0</td><td>0.0</td><td>0.0</td><td>0.0</td><td>-1.93</td><td>0.01</td><td>0.01</td><td>2.0</td></tr>\n",
       "<tr><td>Ursa Major (I)</td><td>158.71999999999997,51.919999999999995</td><td>0.02</td><td>19.93</td><td>0.1</td><td>0.1</td><td>-55.3</td><td>1.4</td><td>1.4</td><td>14.4</td><td>0.3</td><td>0.3</td><td>71.0</td><td>3.0</td><td>3.0</td><td>0.8</td><td>0.04</td><td>0.04</td><td>27.7</td><td>0.5</td><td>0.5</td><td>11.3</td><td>1.7</td><td>1.7</td><td>7.6</td><td>1.0</td><td>1.0</td><td>99.9</td><td>99.9</td><td>99.9</td><td>0.0</td><td>0.0</td><td>0.0</td><td>0.0</td><td>0.0</td><td>0.0</td><td>0.0</td><td>-2.18</td><td>0.04</td><td>0.04</td><td>2.0</td></tr>\n",
       "<tr><td>Carina</td><td>100.40291666666666,-50.96611111111111</td><td>0.061</td><td>20.11</td><td>0.13</td><td>0.13</td><td>222.9</td><td>0.1</td><td>0.1</td><td>11.0</td><td>0.5</td><td>0.5</td><td>65.0</td><td>5.0</td><td>5.0</td><td>0.33</td><td>0.05</td><td>0.05</td><td>25.5</td><td>0.5</td><td>0.5</td><td>8.2</td><td>1.2</td><td>1.2</td><td>6.6</td><td>1.2</td><td>1.2</td><td>0.0</td><td>0.0</td><td>0.0</td><td>0.0</td><td>0.0</td><td>0.0</td><td>0.0</td><td>0.0</td><td>0.0</td><td>0.0</td><td>-1.72</td><td>0.01</td><td>0.01</td><td>3.0</td></tr>\n",
       "<tr><td>Hercules</td><td>247.75833333333327,12.791666666666666</td><td>0.063</td><td>20.6</td><td>0.2</td><td>0.2</td><td>45.2</td><td>1.1</td><td>1.1</td><td>14.0</td><td>0.3</td><td>0.3</td><td>102.0</td><td>4.0</td><td>4.0</td><td>0.68</td><td>0.08</td><td>0.08</td><td>27.2</td><td>0.6</td><td>0.6</td><td>8.6</td><td>1.8</td><td>1.1</td><td>3.7</td><td>0.9</td><td>0.9</td><td>99.9</td><td>99.9</td><td>99.9</td><td>0.0</td><td>0.0</td><td>0.0</td><td>0.0</td><td>0.0</td><td>0.0</td><td>0.0</td><td>-2.41</td><td>0.04</td><td>0.04</td><td>2.0</td></tr>\n",
       "<tr><td>Fornax</td><td>39.99708333333333,-34.44916666666666</td><td>0.021</td><td>20.84</td><td>0.18</td><td>0.18</td><td>55.3</td><td>0.1</td><td>0.1</td><td>7.4</td><td>0.3</td><td>0.3</td><td>41.0</td><td>1.0</td><td>1.0</td><td>0.3</td><td>0.01</td><td>0.01</td><td>23.3</td><td>0.3</td><td>0.3</td><td>16.6</td><td>1.2</td><td>1.2</td><td>11.7</td><td>0.9</td><td>0.9</td><td>0.0</td><td>0.0</td><td>0.0</td><td>0.17</td><td>0.0</td><td>0.0</td><td>0.0</td><td>0.0</td><td>0.0</td><td>0.0</td><td>-0.99</td><td>0.01</td><td>0.01</td><td>2.0</td></tr>\n",
       "<tr><td>Leo IV</td><td>173.23749999999998,-0.5333333333333333</td><td>0.026</td><td>20.94</td><td>0.09</td><td>0.09</td><td>132.3</td><td>1.4</td><td>1.4</td><td>15.1</td><td>0.4</td><td>0.4</td><td>121.0</td><td>9.0</td><td>9.0</td><td>0.49</td><td>0.11</td><td>0.11</td><td>27.5</td><td>0.7</td><td>0.7</td><td>4.6</td><td>0.8</td><td>0.8</td><td>3.3</td><td>1.7</td><td>1.7</td><td>99.9</td><td>99.9</td><td>99.9</td><td>0.0</td><td>0.0</td><td>0.0</td><td>0.0</td><td>0.0</td><td>0.0</td><td>0.0</td><td>-2.54</td><td>0.07</td><td>0.07</td><td>2.0</td></tr>\n",
       "<tr><td>Canes Venatici II</td><td>194.29166666666663,34.32083333333334</td><td>0.01</td><td>21.02</td><td>0.06</td><td>0.06</td><td>-128.9</td><td>1.2</td><td>1.2</td><td>16.1</td><td>0.5</td><td>0.5</td><td>177.0</td><td>9.0</td><td>9.0</td><td>0.52</td><td>0.11</td><td>0.11</td><td>26.1</td><td>0.7</td><td>0.7</td><td>1.6</td><td>0.3</td><td>0.3</td><td>4.6</td><td>1.0</td><td>1.0</td><td>99.9</td><td>99.9</td><td>99.9</td><td>0.0</td><td>0.0</td><td>0.0</td><td>0.0</td><td>0.0</td><td>0.0</td><td>0.0</td><td>-2.21</td><td>0.05</td><td>0.05</td><td>2.0</td></tr>\n",
       "<tr><td>Leo V</td><td>172.79,2.22</td><td>0.027</td><td>21.25</td><td>0.12</td><td>0.12</td><td>173.3</td><td>3.1</td><td>3.1</td><td>16.0</td><td>0.4</td><td>0.4</td><td>96.0</td><td>13.0</td><td>13.0</td><td>0.5</td><td>0.15</td><td>0.15</td><td>27.1</td><td>0.8</td><td>0.8</td><td>2.6</td><td>0.6</td><td>0.6</td><td>3.7</td><td>2.3</td><td>1.4</td><td>99.9</td><td>99.9</td><td>99.9</td><td>0.0</td><td>0.0</td><td>0.0</td><td>0.0</td><td>0.0</td><td>0.0</td><td>0.0</td><td>-2.0</td><td>0.2</td><td>0.2</td><td>5.0</td></tr>\n",
       "<tr><td>Pisces II</td><td>344.6291666666666,5.952500000000001</td><td>0.065</td><td>21.3</td><td>9.99</td><td>9.99</td><td>999.9</td><td>9.9</td><td>9.9</td><td>16.3</td><td>0.5</td><td>0.5</td><td>77.0</td><td>12.0</td><td>12.0</td><td>0.4</td><td>0.1</td><td>0.1</td><td>25.7</td><td>0.6</td><td>0.6</td><td>1.1</td><td>0.1</td><td>0.1</td><td>99.9</td><td>99.9</td><td>99.9</td><td>99.9</td><td>99.9</td><td>99.9</td><td>99.9</td><td>99.9</td><td>99.9</td><td>99.9</td><td>999.9</td><td>99.9</td><td>99.9</td><td>-1.9</td><td>9.99</td><td>9.99</td><td>5.0</td></tr>\n",
       "<tr><td>Canes Venatici (I)</td><td>202.01458333333332,33.55583333333333</td><td>0.014</td><td>21.69</td><td>0.1</td><td>0.1</td><td>30.9</td><td>0.6</td><td>0.6</td><td>13.1</td><td>0.2</td><td>0.2</td><td>70.0</td><td>4.0</td><td>4.0</td><td>0.39</td><td>0.03</td><td>0.03</td><td>27.1</td><td>0.2</td><td>0.2</td><td>8.9</td><td>0.4</td><td>0.4</td><td>7.6</td><td>0.4</td><td>0.4</td><td>99.9</td><td>99.9</td><td>99.9</td><td>0.0</td><td>0.0</td><td>0.0</td><td>0.0</td><td>0.0</td><td>0.0</td><td>0.0</td><td>-1.98</td><td>0.01</td><td>0.01</td><td>2.0</td></tr>\n",
       "<tr><td>Leo II</td><td>168.36999999999998,22.151666666666664</td><td>0.017</td><td>21.84</td><td>0.13</td><td>0.13</td><td>78.0</td><td>0.1</td><td>0.1</td><td>12.0</td><td>0.3</td><td>0.3</td><td>12.0</td><td>10.0</td><td>10.0</td><td>0.13</td><td>0.05</td><td>0.05</td><td>24.2</td><td>0.3</td><td>0.3</td><td>2.6</td><td>0.6</td><td>0.6</td><td>6.6</td><td>0.7</td><td>0.7</td><td>99.9</td><td>99.9</td><td>99.9</td><td>0.0</td><td>0.0</td><td>0.0</td><td>0.0</td><td>0.0</td><td>0.0</td><td>0.0</td><td>-1.62</td><td>0.01</td><td>0.01</td><td>2.0</td></tr>\n",
       "<tr><td>Leo I</td><td>152.11708333333328,12.30638888888889</td><td>0.036</td><td>22.02</td><td>0.13</td><td>0.13</td><td>282.5</td><td>0.1</td><td>0.1</td><td>10.0</td><td>0.3</td><td>0.3</td><td>79.0</td><td>3.0</td><td>3.0</td><td>0.21</td><td>0.03</td><td>0.03</td><td>22.6</td><td>0.3</td><td>0.3</td><td>3.4</td><td>0.3</td><td>0.3</td><td>9.2</td><td>1.4</td><td>1.4</td><td>0.0</td><td>0.0</td><td>0.0</td><td>0.0</td><td>0.0</td><td>0.0</td><td>0.0</td><td>0.0</td><td>0.0</td><td>0.0</td><td>-1.43</td><td>0.01</td><td>0.01</td><td>2.0</td></tr>\n",
       "<tr><td>Andromeda</td><td>10.684583333333332,41.26916666666666</td><td>0.684</td><td>24.47</td><td>0.07</td><td>0.07</td><td>-300.0</td><td>4.0</td><td>4.0</td><td>99.9</td><td>9.9</td><td>9.9</td><td>999.9</td><td>99.9</td><td>99.9</td><td>9.99</td><td>9.99</td><td>9.99</td><td>99.9</td><td>9.9</td><td>9.9</td><td>99.99</td><td>9.99</td><td>9.99</td><td>99.9</td><td>99.9</td><td>99.9</td><td>99.9</td><td>99.9</td><td>99.9</td><td>99.9</td><td>99.9</td><td>99.9</td><td>99.9</td><td>99.9</td><td>99.9</td><td>99.9</td><td>9.99</td><td>9.99</td><td>9.99</td><td>9.0</td></tr>\n",
       "<tr><td>M32</td><td>10.674166666666665,40.86527777777778</td><td>0.154</td><td>24.53</td><td>0.21</td><td>0.21</td><td>-199.0</td><td>6.0</td><td>6.0</td><td>8.1</td><td>0.1</td><td>0.1</td><td>159.0</td><td>2.0</td><td>2.0</td><td>0.25</td><td>0.02</td><td>0.02</td><td>11.1</td><td>9.9</td><td>9.9</td><td>0.47</td><td>0.05</td><td>0.05</td><td>92.0</td><td>5.0</td><td>5.0</td><td>55.0</td><td>3.0</td><td>3.0</td><td>0.0</td><td>0.0</td><td>0.0</td><td>0.0</td><td>0.0</td><td>0.0</td><td>0.0</td><td>-0.25</td><td>9.99</td><td>9.99</td><td>5.0</td></tr>\n",
       "<tr><td>Andromeda IX</td><td>13.220833333333331,43.19583333333333</td><td>0.075</td><td>24.42</td><td>0.07</td><td>0.07</td><td>-209.4</td><td>2.5</td><td>2.5</td><td>16.3</td><td>1.1</td><td>1.1</td><td>999.9</td><td>99.9</td><td>99.9</td><td>9.99</td><td>9.99</td><td>9.99</td><td>28.0</td><td>1.2</td><td>1.2</td><td>2.5</td><td>0.1</td><td>0.1</td><td>10.9</td><td>2.0</td><td>2.0</td><td>99.9</td><td>99.9</td><td>99.9</td><td>0.0</td><td>0.0</td><td>0.0</td><td>0.0</td><td>0.0</td><td>0.0</td><td>0.0</td><td>-2.2</td><td>0.2</td><td>0.2</td><td>3.0</td></tr>\n",
       "<tr><td>NGC 205</td><td>10.092083333333331,41.68527777777778</td><td>0.085</td><td>24.58</td><td>0.07</td><td>0.07</td><td>-246.0</td><td>1.0</td><td>1.0</td><td>8.1</td><td>0.1</td><td>0.1</td><td>28.0</td><td>5.0</td><td>5.0</td><td>0.43</td><td>0.1</td><td>0.1</td><td>19.2</td><td>9.9</td><td>9.9</td><td>2.46</td><td>0.1</td><td>0.1</td><td>35.0</td><td>5.0</td><td>5.0</td><td>11.0</td><td>5.0</td><td>5.0</td><td>0.4</td><td>16.1</td><td>99.9</td><td>99.9</td><td>0.0</td><td>0.0</td><td>0.0</td><td>-0.8</td><td>0.2</td><td>0.2</td><td>5.0</td></tr>\n",
       "<tr><td>Andromeda I</td><td>11.415833333333332,38.04111111111111</td><td>0.053</td><td>24.36</td><td>0.07</td><td>0.07</td><td>-376.3</td><td>2.2</td><td>2.2</td><td>12.5</td><td>0.1</td><td>0.1</td><td>22.0</td><td>15.0</td><td>15.0</td><td>0.22</td><td>0.04</td><td>0.04</td><td>24.7</td><td>0.2</td><td>0.2</td><td>3.1</td><td>0.3</td><td>0.3</td><td>10.2</td><td>1.9</td><td>1.9</td><td>99.9</td><td>99.9</td><td>99.9</td><td>0.0</td><td>0.0</td><td>0.0</td><td>0.0</td><td>0.0</td><td>0.0</td><td>0.0</td><td>-1.45</td><td>0.04</td><td>0.04</td><td>5.0</td></tr>\n",
       "<tr><td>Andromeda XVII</td><td>9.279166666666665,44.32222222222222</td><td>0.074</td><td>24.31</td><td>0.11</td><td>0.08</td><td>-251.6</td><td>1.8</td><td>2.0</td><td>15.8</td><td>0.4</td><td>0.4</td><td>122.0</td><td>7.0</td><td>7.0</td><td>0.27</td><td>0.06</td><td>0.06</td><td>25.7</td><td>0.5</td><td>0.5</td><td>1.24</td><td>0.08</td><td>0.08</td><td>2.9</td><td>2.2</td><td>1.9</td><td>99.9</td><td>99.9</td><td>99.9</td><td>0.0</td><td>0.0</td><td>0.0</td><td>0.0</td><td>0.0</td><td>0.0</td><td>0.0</td><td>-1.7</td><td>0.2</td><td>0.2</td><td>3.0</td></tr>\n",
       "<tr><td>Andromeda XXVII</td><td>9.362916666666667,45.386944444444445</td><td>0.08</td><td>24.59</td><td>0.12</td><td>0.12</td><td>-539.6</td><td>4.7</td><td>4.5</td><td>16.7</td><td>0.5</td><td>0.5</td><td>150.0</td><td>10.0</td><td>10.0</td><td>0.4</td><td>0.2</td><td>0.2</td><td>27.6</td><td>0.5</td><td>0.5</td><td>1.8</td><td>0.3</td><td>0.3</td><td>14.8</td><td>4.3</td><td>3.1</td><td>99.9</td><td>99.9</td><td>99.9</td><td>99.9</td><td>99.9</td><td>99.9</td><td>99.9</td><td>99.9</td><td>99.9</td><td>99.9</td><td>-2.1</td><td>0.5</td><td>0.5</td><td>3.0</td></tr>\n",
       "<tr><td>Andromeda III</td><td>8.890833333333333,36.49777777777778</td><td>0.056</td><td>24.37</td><td>0.07</td><td>0.07</td><td>-344.3</td><td>1.7</td><td>1.7</td><td>14.2</td><td>0.3</td><td>0.3</td><td>136.0</td><td>3.0</td><td>3.0</td><td>0.52</td><td>0.02</td><td>0.02</td><td>24.8</td><td>0.2</td><td>0.2</td><td>2.2</td><td>0.2</td><td>0.2</td><td>9.3</td><td>1.4</td><td>1.4</td><td>99.9</td><td>99.9</td><td>99.9</td><td>0.0</td><td>0.0</td><td>0.0</td><td>0.0</td><td>0.0</td><td>0.0</td><td>0.0</td><td>-1.78</td><td>0.04</td><td>0.04</td><td>5.0</td></tr>\n",
       "<tr><td>Andromeda XXV</td><td>7.5370833333333325,46.85194444444445</td><td>0.101</td><td>24.55</td><td>0.12</td><td>0.12</td><td>-107.8</td><td>1.0</td><td>1.0</td><td>14.8</td><td>0.5</td><td>0.5</td><td>170.0</td><td>10.0</td><td>10.0</td><td>0.25</td><td>0.05</td><td>0.05</td><td>27.1</td><td>0.5</td><td>0.5</td><td>3.0</td><td>0.2</td><td>0.2</td><td>3.0</td><td>1.2</td><td>1.1</td><td>99.9</td><td>99.9</td><td>99.9</td><td>99.9</td><td>99.9</td><td>99.9</td><td>99.9</td><td>99.9</td><td>99.9</td><td>99.9</td><td>-1.9</td><td>0.1</td><td>0.1</td><td>3.0</td></tr>\n",
       "<tr><td>Andromeda XXVI</td><td>5.9399999999999995,47.91611111111111</td><td>0.11</td><td>24.41</td><td>0.12</td><td>0.12</td><td>-261.6</td><td>3.0</td><td>2.8</td><td>17.3</td><td>0.5</td><td>0.5</td><td>145.0</td><td>10.0</td><td>10.0</td><td>0.25</td><td>0.05</td><td>0.05</td><td>27.4</td><td>0.5</td><td>0.5</td><td>1.0</td><td>0.1</td><td>0.1</td><td>8.6</td><td>2.8</td><td>2.2</td><td>99.9</td><td>99.9</td><td>99.9</td><td>99.9</td><td>99.9</td><td>99.9</td><td>99.9</td><td>99.9</td><td>99.9</td><td>99.9</td><td>-1.8</td><td>0.5</td><td>0.5</td><td>3.0</td></tr>\n",
       "<tr><td>Andromeda V</td><td>17.57125,47.628055555555555</td><td>0.125</td><td>24.44</td><td>0.08</td><td>0.08</td><td>-403.0</td><td>4.0</td><td>4.0</td><td>14.9</td><td>0.2</td><td>0.2</td><td>32.0</td><td>10.0</td><td>10.0</td><td>0.18</td><td>0.05</td><td>0.05</td><td>25.3</td><td>0.2</td><td>0.2</td><td>1.4</td><td>0.2</td><td>0.2</td><td>11.5</td><td>5.3</td><td>4.4</td><td>99.9</td><td>99.9</td><td>99.9</td><td>0.0</td><td>0.0</td><td>0.0</td><td>0.0</td><td>0.0</td><td>0.0</td><td>0.0</td><td>-2.0</td><td>0.1</td><td>0.1</td><td>3.0</td></tr>\n",
       "<tr><td>Andromeda XI</td><td>11.583333333333332,33.80138888888889</td><td>0.08</td><td>24.33</td><td>0.05</td><td>0.05</td><td>-419.6</td><td>4.4</td><td>4.4</td><td>17.5</td><td>1.2</td><td>1.2</td><td>999.9</td><td>99.9</td><td>99.9</td><td>9.99</td><td>9.99</td><td>9.99</td><td>26.5</td><td>1.3</td><td>1.3</td><td>0.71</td><td>0.03</td><td>0.03</td><td>4.6</td><td>99.9</td><td>99.9</td><td>99.9</td><td>99.9</td><td>99.9</td><td>0.0</td><td>0.0</td><td>0.0</td><td>0.0</td><td>0.0</td><td>0.0</td><td>0.0</td><td>-1.8</td><td>0.1</td><td>0.1</td><td>3.0</td></tr>\n",
       "<tr><td>Andromeda XIX</td><td>4.883749999999999,35.04361111111111</td><td>0.062</td><td>24.57</td><td>0.08</td><td>0.43</td><td>-111.6</td><td>1.6</td><td>1.4</td><td>15.6</td><td>0.6</td><td>0.6</td><td>37.0</td><td>8.0</td><td>8.0</td><td>0.17</td><td>0.02</td><td>0.02</td><td>29.3</td><td>0.7</td><td>0.7</td><td>6.2</td><td>0.1</td><td>0.1</td><td>4.7</td><td>1.6</td><td>1.4</td><td>99.9</td><td>99.9</td><td>99.9</td><td>99.9</td><td>99.9</td><td>99.9</td><td>99.9</td><td>99.9</td><td>99.9</td><td>99.9</td><td>-1.8</td><td>0.3</td><td>0.3</td><td>3.0</td></tr>\n",
       "<tr><td>Andromeda XXIII</td><td>22.34083333333333,38.71888888888889</td><td>0.066</td><td>24.43</td><td>0.13</td><td>0.13</td><td>-237.7</td><td>1.2</td><td>1.2</td><td>14.2</td><td>0.5</td><td>0.5</td><td>138.0</td><td>5.0</td><td>5.0</td><td>0.4</td><td>0.05</td><td>0.05</td><td>28.0</td><td>0.5</td><td>0.5</td><td>4.6</td><td>0.2</td><td>0.2</td><td>7.1</td><td>1.0</td><td>1.0</td><td>99.9</td><td>99.9</td><td>99.9</td><td>99.9</td><td>99.9</td><td>99.9</td><td>99.9</td><td>99.9</td><td>99.9</td><td>99.9</td><td>-2.2</td><td>0.3</td><td>0.3</td><td>3.0</td></tr>\n",
       "<tr><td>Andromeda XX</td><td>1.8779166666666665,35.132222222222225</td><td>0.059</td><td>24.35</td><td>0.12</td><td>0.16</td><td>-456.2</td><td>3.1</td><td>3.6</td><td>18.2</td><td>0.8</td><td>0.8</td><td>80.0</td><td>20.0</td><td>20.0</td><td>0.3</td><td>0.15</td><td>0.15</td><td>26.2</td><td>0.8</td><td>0.8</td><td>0.53</td><td>0.14</td><td>0.04</td><td>7.1</td><td>3.9</td><td>2.5</td><td>99.9</td><td>99.9</td><td>99.9</td><td>99.9</td><td>99.9</td><td>99.9</td><td>99.9</td><td>99.9</td><td>99.9</td><td>99.9</td><td>-2.2</td><td>0.4</td><td>0.4</td><td>3.0</td></tr>\n",
       "<tr><td>Andromeda XIII</td><td>12.962499999999999,33.004444444444445</td><td>0.082</td><td>24.62</td><td>0.05</td><td>0.05</td><td>-185.4</td><td>2.4</td><td>2.4</td><td>18.1</td><td>1.2</td><td>1.2</td><td>999.9</td><td>99.9</td><td>99.9</td><td>9.99</td><td>9.99</td><td>9.99</td><td>27.3</td><td>1.3</td><td>1.3</td><td>0.78</td><td>0.08</td><td>0.08</td><td>5.8</td><td>2.0</td><td>2.0</td><td>99.9</td><td>99.9</td><td>99.9</td><td>0.0</td><td>0.0</td><td>0.0</td><td>0.0</td><td>0.0</td><td>0.0</td><td>0.0</td><td>-1.7</td><td>0.3</td><td>0.3</td><td>3.0</td></tr>\n",
       "<tr><td>Andromeda X</td><td>16.640416666666667,44.80444444444444</td><td>0.129</td><td>24.13</td><td>0.08</td><td>0.13</td><td>-164.1</td><td>1.7</td><td>1.7</td><td>16.6</td><td>1.0</td><td>1.0</td><td>46.0</td><td>5.0</td><td>5.0</td><td>0.44</td><td>0.06</td><td>0.06</td><td>26.3</td><td>1.1</td><td>1.1</td><td>1.3</td><td>0.1</td><td>0.1</td><td>6.4</td><td>1.4</td><td>1.4</td><td>99.9</td><td>99.9</td><td>99.9</td><td>0.0</td><td>0.0</td><td>0.0</td><td>0.0</td><td>0.0</td><td>0.0</td><td>0.0</td><td>-1.93</td><td>0.11</td><td>0.11</td><td>5.0</td></tr>\n",
       "<tr><td>Andromeda XXI</td><td>358.6987499999999,42.47083333333334</td><td>0.093</td><td>24.59</td><td>0.06</td><td>0.07</td><td>-362.5</td><td>0.9</td><td>0.9</td><td>14.8</td><td>0.6</td><td>0.6</td><td>110.0</td><td>15.0</td><td>15.0</td><td>0.2</td><td>0.07</td><td>0.07</td><td>27.0</td><td>0.4</td><td>0.4</td><td>3.5</td><td>0.3</td><td>0.3</td><td>4.5</td><td>1.2</td><td>1.0</td><td>99.9</td><td>99.9</td><td>99.9</td><td>99.9</td><td>99.9</td><td>99.9</td><td>99.9</td><td>99.9</td><td>99.9</td><td>99.9</td><td>-1.8</td><td>0.1</td><td>0.1</td><td>3.0</td></tr>\n",
       "<tr><td>And XXXII</td><td>8.997499999999999,51.55972222222222</td><td>0.193</td><td>24.45</td><td>0.14</td><td>0.14</td><td>999.9</td><td>99.9</td><td>99.9</td><td>12.2</td><td>0.7</td><td>0.7</td><td>-90.0</td><td>7.0</td><td>7.0</td><td>0.5</td><td>0.09</td><td>0.09</td><td>26.4</td><td>0.8</td><td>0.8</td><td>6.5</td><td>1.2</td><td>1.0</td><td>99.9</td><td>99.9</td><td>99.9</td><td>99.9</td><td>99.9</td><td>99.9</td><td>99.9</td><td>99.9</td><td>99.9</td><td>99.9</td><td>999.9</td><td>99.9</td><td>99.9</td><td>9.99</td><td>9.99</td><td>9.99</td><td>9.0</td></tr>\n",
       "<tr><td>NGC 147</td><td>8.300416666666667,48.50888888888889</td><td>0.172</td><td>24.15</td><td>0.09</td><td>0.09</td><td>-193.1</td><td>0.8</td><td>0.8</td><td>9.5</td><td>0.1</td><td>0.1</td><td>25.0</td><td>3.0</td><td>3.0</td><td>0.41</td><td>0.02</td><td>0.02</td><td>21.2</td><td>9.9</td><td>9.9</td><td>3.17</td><td>9.99</td><td>9.99</td><td>16.0</td><td>1.0</td><td>1.0</td><td>17.0</td><td>2.0</td><td>2.0</td><td>0.0</td><td>0.0</td><td>0.0</td><td>0.0</td><td>0.0</td><td>0.0</td><td>0.0</td><td>-1.1</td><td>0.1</td><td>0.1</td><td>3.0</td></tr>\n",
       "<tr><td>And XXX</td><td>9.145416666666666,49.64666666666667</td><td>0.166</td><td>24.17</td><td>0.1</td><td>0.26</td><td>-139.8</td><td>6.0</td><td>6.6</td><td>16.2</td><td>0.3</td><td>0.3</td><td>999.9</td><td>99.9</td><td>99.9</td><td>9.99</td><td>9.99</td><td>9.99</td><td>99.9</td><td>9.9</td><td>9.9</td><td>1.35</td><td>0.12</td><td>0.18</td><td>11.8</td><td>7.7</td><td>4.7</td><td>99.9</td><td>99.9</td><td>99.9</td><td>99.9</td><td>99.9</td><td>99.9</td><td>99.9</td><td>999.9</td><td>99.9</td><td>99.9</td><td>-1.7</td><td>0.4</td><td>0.4</td><td>3.0</td></tr>\n",
       "<tr><td>Andromeda XIV</td><td>12.89583333333333,29.696944444444444</td><td>0.06</td><td>24.5</td><td>0.06</td><td>0.56</td><td>-480.6</td><td>1.2</td><td>1.2</td><td>15.9</td><td>0.5</td><td>0.5</td><td>999.9</td><td>99.9</td><td>99.9</td><td>0.31</td><td>0.09</td><td>0.09</td><td>27.2</td><td>0.6</td><td>0.6</td><td>1.7</td><td>0.8</td><td>0.8</td><td>5.3</td><td>1.0</td><td>1.0</td><td>99.9</td><td>99.9</td><td>99.9</td><td>0.0</td><td>0.0</td><td>0.0</td><td>0.0</td><td>0.0</td><td>0.0</td><td>0.0</td><td>-2.26</td><td>0.05</td><td>0.05</td><td>5.0</td></tr>\n",
       "<tr><td>Andromeda XII</td><td>11.862499999999997,34.374722222222225</td><td>0.11</td><td>24.84</td><td>0.09</td><td>0.34</td><td>-558.4</td><td>3.2</td><td>3.2</td><td>18.3</td><td>1.2</td><td>1.2</td><td>999.9</td><td>99.9</td><td>99.9</td><td>9.99</td><td>9.99</td><td>9.99</td><td>28.5</td><td>1.3</td><td>1.3</td><td>1.2</td><td>0.2</td><td>0.2</td><td>2.6</td><td>5.1</td><td>2.6</td><td>99.9</td><td>99.9</td><td>99.9</td><td>0.0</td><td>0.0</td><td>0.0</td><td>0.0</td><td>0.0</td><td>0.0</td><td>0.0</td><td>-2.2</td><td>0.2</td><td>0.2</td><td>3.0</td></tr>\n",
       "<tr><td>Andromeda XV</td><td>18.577916666666667,38.1175</td><td>0.047</td><td>23.98</td><td>0.26</td><td>0.12</td><td>-323.0</td><td>1.4</td><td>1.4</td><td>14.6</td><td>0.3</td><td>0.3</td><td>0.0</td><td>99.9</td><td>99.9</td><td>0.0</td><td>9.99</td><td>9.99</td><td>24.8</td><td>0.4</td><td>0.4</td><td>1.21</td><td>0.05</td><td>0.05</td><td>4.0</td><td>1.4</td><td>1.4</td><td>99.9</td><td>99.9</td><td>99.9</td><td>0.0</td><td>0.0</td><td>0.0</td><td>0.0</td><td>0.0</td><td>0.0</td><td>0.0</td><td>-1.8</td><td>0.2</td><td>0.2</td><td>3.0</td></tr>\n",
       "<tr><td>Andromeda II</td><td>19.124166666666664,33.41916666666666</td><td>0.061</td><td>24.07</td><td>0.06</td><td>0.06</td><td>-192.4</td><td>0.5</td><td>0.5</td><td>11.5</td><td>0.2</td><td>0.2</td><td>34.0</td><td>6.0</td><td>6.0</td><td>0.2</td><td>0.08</td><td>0.08</td><td>24.5</td><td>0.2</td><td>0.2</td><td>6.2</td><td>0.2</td><td>0.2</td><td>7.8</td><td>1.1</td><td>1.1</td><td>10.9</td><td>2.4</td><td>2.4</td><td>0.0</td><td>0.0</td><td>0.0</td><td>0.0</td><td>0.0</td><td>0.0</td><td>0.0</td><td>-1.39</td><td>0.03</td><td>0.03</td><td>3.0</td></tr>\n",
       "<tr><td>NGC 185</td><td>9.741666666666665,48.337500000000006</td><td>0.184</td><td>23.95</td><td>0.09</td><td>0.09</td><td>-203.8</td><td>1.1</td><td>1.1</td><td>9.2</td><td>0.1</td><td>0.1</td><td>35.0</td><td>3.0</td><td>3.0</td><td>0.15</td><td>0.01</td><td>0.01</td><td>20.8</td><td>9.9</td><td>9.9</td><td>2.55</td><td>9.99</td><td>9.99</td><td>24.0</td><td>1.0</td><td>1.0</td><td>15.0</td><td>5.0</td><td>5.0</td><td>0.11</td><td>15.3</td><td>0.8</td><td>0.8</td><td>0.0</td><td>0.0</td><td>0.0</td><td>-1.3</td><td>0.1</td><td>0.1</td><td>3.0</td></tr>\n",
       "<tr><td>Andromeda XXIX</td><td>359.7316666666666,30.755555555555556</td><td>0.046</td><td>24.32</td><td>0.22</td><td>0.22</td><td>-194.4</td><td>1.5</td><td>1.5</td><td>16.0</td><td>0.4</td><td>0.4</td><td>51.0</td><td>8.0</td><td>8.0</td><td>0.35</td><td>0.06</td><td>0.06</td><td>99.9</td><td>9.9</td><td>9.9</td><td>1.7</td><td>0.2</td><td>0.2</td><td>5.7</td><td>1.2</td><td>1.2</td><td>99.9</td><td>99.9</td><td>99.9</td><td>99.9</td><td>99.9</td><td>99.9</td><td>99.9</td><td>99.9</td><td>99.9</td><td>99.9</td><td>-1.8</td><td>9.99</td><td>9.99</td><td>5.0</td></tr>\n",
       "<tr><td>Triangulum</td><td>23.462083333333332,30.660277777777775</td><td>0.041</td><td>24.54</td><td>0.06</td><td>0.06</td><td>-179.2</td><td>1.7</td><td>1.7</td><td>5.7</td><td>0.1</td><td>0.1</td><td>999.9</td><td>99.9</td><td>99.9</td><td>9.99</td><td>9.99</td><td>9.99</td><td>99.9</td><td>9.9</td><td>9.9</td><td>99.99</td><td>9.99</td><td>9.99</td><td>99.9</td><td>99.9</td><td>99.9</td><td>99.9</td><td>99.9</td><td>99.9</td><td>99.9</td><td>99.9</td><td>99.9</td><td>99.9</td><td>99.9</td><td>99.9</td><td>99.9</td><td>8.88</td><td>8.88</td><td>8.88</td><td>9.0</td></tr>\n",
       "<tr><td>Andromeda XXIV</td><td>19.624999999999996,46.36611111111111</td><td>0.083</td><td>23.89</td><td>0.12</td><td>0.12</td><td>-128.2</td><td>5.2</td><td>5.2</td><td>16.3</td><td>0.5</td><td>0.5</td><td>5.0</td><td>10.0</td><td>10.0</td><td>0.25</td><td>0.05</td><td>0.05</td><td>27.8</td><td>0.5</td><td>0.5</td><td>2.1</td><td>0.1</td><td>0.1</td><td>99.9</td><td>99.9</td><td>99.9</td><td>99.9</td><td>99.9</td><td>99.9</td><td>99.9</td><td>99.9</td><td>99.9</td><td>99.9</td><td>99.9</td><td>99.9</td><td>99.9</td><td>-1.8</td><td>0.3</td><td>0.3</td><td>3.0</td></tr>\n",
       "<tr><td>Andromeda VII</td><td>351.6320833333333,50.67583333333333</td><td>0.194</td><td>24.41</td><td>0.1</td><td>0.1</td><td>-307.2</td><td>1.3</td><td>1.3</td><td>11.2</td><td>0.3</td><td>0.3</td><td>94.0</td><td>8.0</td><td>8.0</td><td>0.13</td><td>0.04</td><td>0.04</td><td>23.2</td><td>0.2</td><td>0.2</td><td>3.5</td><td>0.1</td><td>0.1</td><td>13.0</td><td>1.0</td><td>1.0</td><td>99.9</td><td>99.9</td><td>99.9</td><td>0.0</td><td>0.0</td><td>0.0</td><td>0.0</td><td>0.0</td><td>0.0</td><td>0.0</td><td>-1.4</td><td>0.3</td><td>0.3</td><td>5.0</td></tr>\n",
       "<tr><td>IC 10</td><td>5.072083333333333,59.303888888888885</td><td>1.568</td><td>24.5</td><td>0.12</td><td>0.12</td><td>-348.0</td><td>1.0</td><td>1.0</td><td>9.5</td><td>0.2</td><td>0.2</td><td>999.9</td><td>99.9</td><td>99.9</td><td>0.19</td><td>0.02</td><td>0.02</td><td>24.6</td><td>0.2</td><td>0.2</td><td>2.65</td><td>9.99</td><td>9.99</td><td>99.9</td><td>99.9</td><td>99.9</td><td>99.9</td><td>99.9</td><td>99.9</td><td>50.0</td><td>8.0</td><td>1.0</td><td>1.0</td><td>34.0</td><td>5.0</td><td>5.0</td><td>-1.28</td><td>9.99</td><td>9.99</td><td>5.0</td></tr>\n",
       "<tr><td>And XXXI</td><td>344.5679166666666,41.29111111111111</td><td>0.133</td><td>24.4</td><td>0.12</td><td>0.12</td><td>999.9</td><td>99.9</td><td>99.9</td><td>12.7</td><td>0.7</td><td>0.7</td><td>-59.0</td><td>6.0</td><td>6.0</td><td>0.43</td><td>0.07</td><td>0.07</td><td>25.8</td><td>0.8</td><td>0.8</td><td>4.2</td><td>0.4</td><td>0.5</td><td>99.9</td><td>99.9</td><td>99.9</td><td>99.9</td><td>99.9</td><td>99.9</td><td>99.9</td><td>99.9</td><td>99.9</td><td>99.9</td><td>999.9</td><td>99.9</td><td>99.9</td><td>9.99</td><td>9.99</td><td>9.99</td><td>9.0</td></tr>\n",
       "<tr><td>LGS 3</td><td>15.979166666666664,21.884999999999998</td><td>0.04</td><td>24.43</td><td>0.07</td><td>0.07</td><td>-286.5</td><td>0.3</td><td>0.3</td><td>14.3</td><td>0.1</td><td>0.1</td><td>0.0</td><td>99.9</td><td>99.9</td><td>0.2</td><td>9.99</td><td>9.99</td><td>24.8</td><td>0.1</td><td>0.1</td><td>2.1</td><td>0.2</td><td>0.2</td><td>7.9</td><td>5.3</td><td>2.9</td><td>99.9</td><td>99.9</td><td>99.9</td><td>0.38</td><td>9.1</td><td>0.3</td><td>0.3</td><td>5.0</td><td>99.9</td><td>99.9</td><td>-2.1</td><td>0.22</td><td>0.22</td><td>6.0</td></tr>\n",
       "<tr><td>Andromeda VI</td><td>357.94291666666663,24.5825</td><td>0.063</td><td>24.47</td><td>0.07</td><td>0.07</td><td>-339.8</td><td>1.9</td><td>1.9</td><td>13.0</td><td>0.2</td><td>0.2</td><td>163.0</td><td>3.0</td><td>3.0</td><td>0.41</td><td>0.03</td><td>0.03</td><td>24.1</td><td>0.2</td><td>0.2</td><td>2.3</td><td>0.2</td><td>0.2</td><td>12.4</td><td>1.5</td><td>1.3</td><td>99.9</td><td>99.9</td><td>99.9</td><td>0.0</td><td>0.0</td><td>0.0</td><td>0.0</td><td>0.0</td><td>0.0</td><td>0.0</td><td>-1.5</td><td>0.1</td><td>0.1</td><td>3.0</td></tr>\n",
       "<tr><td>Andromeda XXII</td><td>21.916666666666664,28.090277777777775</td><td>0.079</td><td>24.82</td><td>0.07</td><td>0.36</td><td>-129.8</td><td>2.0</td><td>2.0</td><td>18.0</td><td>0.8</td><td>0.8</td><td>114.0</td><td>15.0</td><td>15.0</td><td>0.56</td><td>0.11</td><td>0.11</td><td>26.7</td><td>0.6</td><td>0.6</td><td>0.94</td><td>0.1</td><td>0.1</td><td>2.8</td><td>1.9</td><td>1.4</td><td>99.9</td><td>99.9</td><td>99.9</td><td>99.9</td><td>99.9</td><td>99.9</td><td>99.9</td><td>99.9</td><td>99.9</td><td>99.9</td><td>-1.8</td><td>0.6</td><td>0.6</td><td>3.0</td></tr>\n",
       "<tr><td>Andromeda XVI</td><td>14.874166666666666,32.376666666666665</td><td>0.067</td><td>23.39</td><td>0.19</td><td>0.14</td><td>-367.3</td><td>2.8</td><td>2.8</td><td>14.4</td><td>0.3</td><td>0.3</td><td>0.0</td><td>99.9</td><td>99.9</td><td>0.0</td><td>9.99</td><td>9.99</td><td>23.9</td><td>0.4</td><td>0.4</td><td>0.89</td><td>0.05</td><td>0.05</td><td>3.8</td><td>2.9</td><td>2.9</td><td>99.9</td><td>99.9</td><td>99.9</td><td>0.0</td><td>0.0</td><td>0.0</td><td>0.0</td><td>0.0</td><td>0.0</td><td>0.0</td><td>-2.1</td><td>0.2</td><td>0.2</td><td>3.0</td></tr>\n",
       "<tr><td>Andromeda XXVIII</td><td>338.1716666666666,31.21611111111111</td><td>0.096</td><td>24.1</td><td>0.5</td><td>0.2</td><td>-326.2</td><td>2.7</td><td>2.7</td><td>15.6</td><td>0.4</td><td>0.9</td><td>39.0</td><td>16.0</td><td>16.0</td><td>0.34</td><td>0.13</td><td>0.13</td><td>26.3</td><td>0.4</td><td>0.9</td><td>1.11</td><td>0.21</td><td>0.21</td><td>6.6</td><td>2.9</td><td>2.1</td><td>99.9</td><td>99.9</td><td>99.9</td><td>99.9</td><td>99.9</td><td>99.9</td><td>99.9</td><td>99.9</td><td>99.9</td><td>99.9</td><td>-2.1</td><td>0.3</td><td>0.3</td><td>3.0</td></tr>\n",
       "<tr><td>And XXXIII</td><td>45.34833333333332,40.98833333333334</td><td>0.131</td><td>24.44</td><td>0.18</td><td>0.18</td><td>999.9</td><td>99.9</td><td>99.9</td><td>14.1</td><td>0.7</td><td>0.7</td><td>-6.0</td><td>15.0</td><td>10.0</td><td>0.43</td><td>0.15</td><td>0.17</td><td>25.6</td><td>1.0</td><td>0.9</td><td>1.7</td><td>0.4</td><td>0.4</td><td>99.9</td><td>99.9</td><td>99.9</td><td>99.9</td><td>99.9</td><td>99.9</td><td>99.9</td><td>99.9</td><td>99.9</td><td>99.9</td><td>999.9</td><td>99.9</td><td>99.9</td><td>9.99</td><td>9.99</td><td>9.99</td><td>9.0</td></tr>\n",
       "<tr><td>IC 1613</td><td>16.199166666666663,2.117777777777778</td><td>0.025</td><td>24.39</td><td>0.12</td><td>0.12</td><td>-231.6</td><td>1.2</td><td>1.2</td><td>9.2</td><td>0.1</td><td>0.1</td><td>50.0</td><td>2.0</td><td>2.0</td><td>0.11</td><td>0.03</td><td>0.03</td><td>22.8</td><td>9.9</td><td>9.9</td><td>6.81</td><td>9.99</td><td>9.99</td><td>10.8</td><td>1.0</td><td>0.9</td><td>99.9</td><td>99.9</td><td>99.9</td><td>65.0</td><td>5.9</td><td>1.0</td><td>1.0</td><td>25.0</td><td>3.0</td><td>3.0</td><td>-1.6</td><td>0.2</td><td>0.2</td><td>4.0</td></tr>\n",
       "<tr><td>Phoenix</td><td>27.776249999999997,-44.44472222222222</td><td>0.016</td><td>23.09</td><td>0.1</td><td>0.1</td><td>-13.0</td><td>9.0</td><td>9.0</td><td>13.2</td><td>0.4</td><td>0.4</td><td>5.0</td><td>1.0</td><td>1.0</td><td>0.4</td><td>0.1</td><td>0.1</td><td>25.8</td><td>9.9</td><td>9.9</td><td>3.76</td><td>9.99</td><td>9.99</td><td>99.9</td><td>99.9</td><td>99.9</td><td>99.9</td><td>99.9</td><td>99.9</td><td>0.12</td><td>10.0</td><td>4.0</td><td>4.0</td><td>0.0</td><td>0.0</td><td>0.0</td><td>-1.37</td><td>0.2</td><td>0.2</td><td>6.0</td></tr>\n",
       "<tr><td>NGC 6822</td><td>296.23583333333335,-14.789166666666667</td><td>0.231</td><td>23.31</td><td>0.08</td><td>0.08</td><td>-54.5</td><td>1.7</td><td>1.7</td><td>8.1</td><td>0.2</td><td>0.2</td><td>330.0</td><td>10.0</td><td>10.0</td><td>0.24</td><td>0.05</td><td>0.05</td><td>19.7</td><td>9.9</td><td>9.9</td><td>2.65</td><td>9.99</td><td>9.99</td><td>23.2</td><td>1.2</td><td>1.2</td><td>99.9</td><td>99.9</td><td>99.9</td><td>130.0</td><td>5.8</td><td>1.9</td><td>1.9</td><td>47.0</td><td>2.0</td><td>2.0</td><td>-1.0</td><td>0.5</td><td>0.5</td><td>3.0</td></tr>\n",
       "<tr><td>Cetus</td><td>6.5458333333333325,-11.044444444444444</td><td>0.029</td><td>24.39</td><td>0.07</td><td>0.07</td><td>-83.9</td><td>1.2</td><td>1.2</td><td>13.1</td><td>0.2</td><td>0.2</td><td>63.0</td><td>3.0</td><td>3.0</td><td>0.33</td><td>0.06</td><td>0.06</td><td>25.0</td><td>0.2</td><td>0.2</td><td>3.2</td><td>0.1</td><td>0.1</td><td>8.3</td><td>1.0</td><td>1.0</td><td>7.7</td><td>1.2</td><td>1.2</td><td>0.0</td><td>0.0</td><td>0.0</td><td>0.0</td><td>0.0</td><td>0.0</td><td>0.0</td><td>-1.9</td><td>0.1</td><td>0.1</td><td>3.0</td></tr>\n",
       "<tr><td>Pegasus dIrr</td><td>352.15124999999995,14.743055555555555</td><td>0.068</td><td>24.82</td><td>0.07</td><td>0.07</td><td>-179.5</td><td>1.5</td><td>1.5</td><td>12.6</td><td>0.2</td><td>0.2</td><td>120.0</td><td>2.0</td><td>2.0</td><td>0.46</td><td>0.02</td><td>0.02</td><td>22.8</td><td>9.9</td><td>9.9</td><td>2.1</td><td>0.04</td><td>0.04</td><td>12.3</td><td>1.2</td><td>1.1</td><td>10.0</td><td>0.3</td><td>0.3</td><td>5.9</td><td>9.0</td><td>99.9</td><td>99.9</td><td>21.0</td><td>99.9</td><td>99.9</td><td>-1.4</td><td>0.2</td><td>0.2</td><td>5.0</td></tr>\n",
       "<tr><td>Leo T</td><td>143.7225,17.05138888888889</td><td>0.031</td><td>23.1</td><td>0.1</td><td>0.1</td><td>38.1</td><td>2.0</td><td>2.0</td><td>15.1</td><td>0.5</td><td>0.5</td><td>0.0</td><td>99.9</td><td>99.9</td><td>0.0</td><td>9.99</td><td>9.99</td><td>24.8</td><td>0.6</td><td>0.6</td><td>0.99</td><td>0.06</td><td>0.06</td><td>7.5</td><td>1.6</td><td>1.6</td><td>99.9</td><td>99.9</td><td>99.9</td><td>0.28</td><td>6.9</td><td>1.0</td><td>1.0</td><td>0.0</td><td>0.0</td><td>0.0</td><td>-2.02</td><td>0.05</td><td>0.05</td><td>2.0</td></tr>\n",
       "<tr><td>WLM</td><td>0.49249999999999994,-15.460833333333333</td><td>0.038</td><td>24.85</td><td>0.08</td><td>0.08</td><td>-130.0</td><td>1.0</td><td>1.0</td><td>10.6</td><td>0.1</td><td>0.1</td><td>179.0</td><td>2.0</td><td>2.0</td><td>0.55</td><td>0.05</td><td>0.1</td><td>23.7</td><td>9.9</td><td>9.9</td><td>8.62</td><td>0.26</td><td>0.26</td><td>17.5</td><td>2.0</td><td>2.0</td><td>17.0</td><td>1.0</td><td>1.0</td><td>61.0</td><td>4.5</td><td>1.0</td><td>1.0</td><td>30.0</td><td>3.0</td><td>3.0</td><td>-1.28</td><td>0.02</td><td>0.02</td><td>3.0</td></tr>\n",
       "<tr><td>Andromeda XVIII</td><td>0.5604166666666666,45.08888888888889</td><td>0.106</td><td>25.42</td><td>0.07</td><td>0.08</td><td>-332.1</td><td>2.7</td><td>2.7</td><td>16.0</td><td>9.9</td><td>9.9</td><td>999.9</td><td>99.9</td><td>99.9</td><td>9.99</td><td>9.99</td><td>9.99</td><td>25.6</td><td>9.9</td><td>9.9</td><td>0.92</td><td>0.06</td><td>0.06</td><td>9.7</td><td>2.3</td><td>2.3</td><td>99.9</td><td>99.9</td><td>99.9</td><td>99.9</td><td>99.9</td><td>99.9</td><td>99.9</td><td>99.9</td><td>99.9</td><td>99.9</td><td>-1.4</td><td>0.3</td><td>0.3</td><td>3.0</td></tr>\n",
       "<tr><td>Leo A</td><td>149.86041666666662,30.74638888888889</td><td>0.021</td><td>24.51</td><td>0.12</td><td>0.12</td><td>24.0</td><td>1.5</td><td>1.5</td><td>12.4</td><td>0.2</td><td>0.2</td><td>114.0</td><td>5.0</td><td>5.0</td><td>0.4</td><td>0.03</td><td>0.03</td><td>22.8</td><td>9.9</td><td>9.9</td><td>2.15</td><td>9.99</td><td>9.99</td><td>6.7</td><td>1.4</td><td>1.2</td><td>0.0</td><td>0.0</td><td>0.0</td><td>11.0</td><td>9.3</td><td>1.4</td><td>1.4</td><td>0.0</td><td>0.0</td><td>0.0</td><td>-1.4</td><td>0.2</td><td>0.2</td><td>4.0</td></tr>\n",
       "<tr><td>Aquarius</td><td>311.71583333333325,-12.848055555555556</td><td>0.051</td><td>25.15</td><td>0.08</td><td>0.08</td><td>-137.7</td><td>2.1</td><td>2.1</td><td>14.5</td><td>0.1</td><td>0.1</td><td>98.7</td><td>1.0</td><td>1.0</td><td>0.5</td><td>0.1</td><td>0.1</td><td>23.6</td><td>0.2</td><td>0.2</td><td>1.47</td><td>0.04</td><td>0.04</td><td>7.9</td><td>1.9</td><td>1.6</td><td>99.9</td><td>99.9</td><td>99.9</td><td>4.1</td><td>5.8</td><td>0.1</td><td>0.1</td><td>0.0</td><td>0.0</td><td>0.0</td><td>-1.3</td><td>0.2</td><td>0.2</td><td>5.0</td></tr>\n",
       "<tr><td>Tucana</td><td>340.45666666666665,-64.41944444444445</td><td>0.031</td><td>24.74</td><td>0.12</td><td>0.12</td><td>194.0</td><td>4.3</td><td>4.3</td><td>15.2</td><td>0.2</td><td>0.2</td><td>97.0</td><td>2.0</td><td>2.0</td><td>0.48</td><td>0.03</td><td>0.03</td><td>25.0</td><td>0.1</td><td>0.1</td><td>1.1</td><td>0.2</td><td>0.2</td><td>15.8</td><td>4.1</td><td>3.1</td><td>16.0</td><td>99.9</td><td>99.9</td><td>0.0</td><td>0.0</td><td>0.0</td><td>0.0</td><td>0.0</td><td>0.0</td><td>0.0</td><td>-1.95</td><td>0.15</td><td>0.15</td><td>3.0</td></tr>\n",
       "<tr><td>Sagittarius dIrr</td><td>292.49583333333334,-17.680833333333336</td><td>0.124</td><td>25.14</td><td>0.18</td><td>0.18</td><td>-78.5</td><td>1.0</td><td>1.0</td><td>13.6</td><td>0.2</td><td>0.2</td><td>90.0</td><td>99.9</td><td>99.9</td><td>0.5</td><td>9.99</td><td>9.99</td><td>23.9</td><td>0.2</td><td>0.2</td><td>0.91</td><td>0.05</td><td>0.05</td><td>99.9</td><td>99.9</td><td>99.9</td><td>99.9</td><td>99.9</td><td>99.9</td><td>8.8</td><td>10.0</td><td>1.0</td><td>1.0</td><td>0.0</td><td>0.0</td><td>0.0</td><td>-2.1</td><td>0.2</td><td>0.2</td><td>5.0</td></tr>\n",
       "<tr><td>UGC 4879</td><td>139.00916666666666,52.84</td><td>0.016</td><td>25.67</td><td>0.04</td><td>0.04</td><td>-29.2</td><td>1.6</td><td>1.3</td><td>13.2</td><td>0.2</td><td>0.2</td><td>84.2</td><td>10.5</td><td>10.5</td><td>0.44</td><td>0.04</td><td>0.04</td><td>21.2</td><td>0.2</td><td>0.2</td><td>0.41</td><td>0.04</td><td>0.04</td><td>9.6</td><td>1.3</td><td>1.2</td><td>99.9</td><td>99.9</td><td>99.9</td><td>0.95</td><td>11.0</td><td>1.1</td><td>1.1</td><td>0.0</td><td>0.0</td><td>0.0</td><td>-1.58</td><td>0.06</td><td>0.06</td><td>2.0</td></tr>\n",
       "<tr><td>NGC 3109</td><td>150.77874999999997,-26.15972222222222</td><td>0.067</td><td>25.57</td><td>0.08</td><td>0.08</td><td>403.0</td><td>2.0</td><td>2.0</td><td>10.7</td><td>0.1</td><td>0.1</td><td>91.5</td><td>1.0</td><td>1.0</td><td>0.82</td><td>0.01</td><td>0.01</td><td>22.6</td><td>0.1</td><td>0.1</td><td>4.3</td><td>0.1</td><td>0.1</td><td>99.9</td><td>99.9</td><td>99.9</td><td>99.9</td><td>99.9</td><td>99.9</td><td>450.0</td><td>10.0</td><td>99.9</td><td>99.9</td><td>72.4</td><td>0.5</td><td>0.5</td><td>-1.84</td><td>0.2</td><td>0.2</td><td>6.0</td></tr>\n",
       "<tr><td>Sextans B</td><td>150.00041666666664,5.332222222222222</td><td>0.031</td><td>25.77</td><td>0.03</td><td>0.03</td><td>304.0</td><td>1.0</td><td>1.0</td><td>11.3</td><td>0.2</td><td>0.2</td><td>110.0</td><td>2.0</td><td>2.0</td><td>0.31</td><td>0.03</td><td>0.03</td><td>21.9</td><td>0.3</td><td>0.3</td><td>1.06</td><td>0.1</td><td>0.1</td><td>8.0</td><td>99.9</td><td>99.9</td><td>90.0</td><td>99.9</td><td>99.9</td><td>51.0</td><td>18.0</td><td>99.9</td><td>99.9</td><td>71.0</td><td>99.9</td><td>99.9</td><td>9.99</td><td>9.99</td><td>9.99</td><td>9.0</td></tr>\n",
       "<tr><td>Antlia</td><td>151.01708333333332,-27.33111111111111</td><td>0.079</td><td>25.65</td><td>0.1</td><td>0.1</td><td>362.0</td><td>2.0</td><td>2.0</td><td>15.2</td><td>0.2</td><td>0.2</td><td>135.0</td><td>5.0</td><td>5.0</td><td>0.4</td><td>0.04</td><td>0.04</td><td>23.9</td><td>0.2</td><td>0.2</td><td>1.2</td><td>0.12</td><td>0.12</td><td>99.9</td><td>99.9</td><td>99.9</td><td>99.9</td><td>99.9</td><td>99.9</td><td>0.73</td><td>6.4</td><td>0.7</td><td>0.7</td><td>99.9</td><td>99.9</td><td>99.9</td><td>-1.6</td><td>0.1</td><td>0.1</td><td>6.0</td></tr>\n",
       "<tr><td>Sextans A</td><td>152.7533333333333,-4.692777777777778</td><td>0.045</td><td>25.78</td><td>0.08</td><td>0.08</td><td>324.0</td><td>2.0</td><td>2.0</td><td>11.5</td><td>0.1</td><td>0.1</td><td>0.0</td><td>1.0</td><td>1.0</td><td>0.17</td><td>0.02</td><td>0.02</td><td>22.8</td><td>9.9</td><td>9.9</td><td>2.47</td><td>9.99</td><td>9.99</td><td>99.9</td><td>99.9</td><td>99.9</td><td>99.9</td><td>99.9</td><td>99.9</td><td>77.0</td><td>8.0</td><td>1.0</td><td>1.0</td><td>20.0</td><td>2.0</td><td>2.0</td><td>-1.85</td><td>9.99</td><td>9.99</td><td>6.0</td></tr>\n",
       "<tr><td>HIZSS 3(A)</td><td>105.12208333333331,-4.208333333333334</td><td>1.013</td><td>26.12</td><td>0.14</td><td>0.14</td><td>288.0</td><td>2.5</td><td>2.5</td><td>99.9</td><td>9.9</td><td>9.9</td><td>999.9</td><td>99.9</td><td>99.9</td><td>9.99</td><td>9.99</td><td>9.99</td><td>99.9</td><td>9.9</td><td>9.9</td><td>99.99</td><td>9.99</td><td>9.99</td><td>99.9</td><td>99.9</td><td>99.9</td><td>99.9</td><td>99.9</td><td>99.9</td><td>14.0</td><td>99.9</td><td>99.9</td><td>99.9</td><td>42.0</td><td>4.0</td><td>4.0</td><td>9.99</td><td>9.99</td><td>9.99</td><td>9.0</td></tr>\n",
       "<tr><td>HIZSS 3B</td><td>105.12208333333331,-4.208333333333334</td><td>1.013</td><td>26.12</td><td>0.14</td><td>0.14</td><td>322.6</td><td>1.4</td><td>1.4</td><td>99.9</td><td>9.9</td><td>9.9</td><td>999.9</td><td>99.9</td><td>99.9</td><td>9.99</td><td>9.99</td><td>9.99</td><td>99.9</td><td>9.9</td><td>9.9</td><td>99.99</td><td>9.99</td><td>9.99</td><td>99.9</td><td>99.9</td><td>99.9</td><td>99.9</td><td>99.9</td><td>99.9</td><td>2.6</td><td>99.9</td><td>99.9</td><td>99.9</td><td>99.9</td><td>99.9</td><td>99.9</td><td>9.99</td><td>9.99</td><td>9.99</td><td>9.0</td></tr>\n",
       "<tr><td>ESO 410- G 005</td><td>3.881666666666666,-32.18</td><td>0.014</td><td>26.42</td><td>0.04</td><td>0.04</td><td>999.9</td><td>9.9</td><td>9.9</td><td>14.9</td><td>0.3</td><td>0.3</td><td>57.0</td><td>99.9</td><td>99.9</td><td>0.37</td><td>9.99</td><td>9.99</td><td>22.2</td><td>0.2</td><td>0.2</td><td>0.5</td><td>0.05</td><td>0.05</td><td>99.9</td><td>99.9</td><td>99.9</td><td>99.9</td><td>99.9</td><td>99.9</td><td>0.73</td><td>14.2</td><td>0.6</td><td>0.6</td><td>99.9</td><td>99.9</td><td>99.9</td><td>-1.93</td><td>0.2</td><td>0.2</td><td>6.0</td></tr>\n",
       "<tr><td>KKR 25</td><td>243.44999999999993,54.37111111111111</td><td>0.009</td><td>26.42</td><td>0.07</td><td>0.07</td><td>-65.0</td><td>15.0</td><td>15.0</td><td>15.5</td><td>0.2</td><td>0.2</td><td>999.9</td><td>99.9</td><td>99.9</td><td>0.49</td><td>0.03</td><td>0.03</td><td>24.0</td><td>0.2</td><td>0.2</td><td>0.47</td><td>0.03</td><td>0.03</td><td>99.9</td><td>99.9</td><td>99.9</td><td>99.9</td><td>99.9</td><td>99.9</td><td>99.9</td><td>99.9</td><td>99.9</td><td>99.9</td><td>99.9</td><td>99.9</td><td>99.9</td><td>-2.1</td><td>0.3</td><td>0.3</td><td>6.0</td></tr>\n",
       "<tr><td>NGC 55</td><td>3.723333333333333,-39.196666666666665</td><td>0.013</td><td>26.43</td><td>0.12</td><td>0.12</td><td>129.0</td><td>2.0</td><td>2.0</td><td>7.9</td><td>0.1</td><td>0.1</td><td>108.0</td><td>2.0</td><td>2.0</td><td>0.83</td><td>0.01</td><td>0.01</td><td>19.3</td><td>9.9</td><td>9.9</td><td>5.16</td><td>9.99</td><td>9.99</td><td>99.9</td><td>99.9</td><td>99.9</td><td>99.9</td><td>99.9</td><td>99.9</td><td>1300.0</td><td>99.9</td><td>99.9</td><td>99.9</td><td>86.0</td><td>6.0</td><td>6.0</td><td>9.99</td><td>9.99</td><td>9.99</td><td>9.0</td></tr>\n",
       "<tr><td>Leo P</td><td>155.43791666666667,18.088055555555556</td><td>0.108</td><td>26.2</td><td>9.99</td><td>9.99</td><td>264.0</td><td>2.0</td><td>2.0</td><td>16.9</td><td>0.1</td><td>0.1</td><td>999.9</td><td>99.9</td><td>99.9</td><td>9.99</td><td>9.99</td><td>9.99</td><td>99.9</td><td>9.9</td><td>9.9</td><td>99.99</td><td>9.99</td><td>9.99</td><td>99.9</td><td>9.9</td><td>9.9</td><td>99.9</td><td>99.9</td><td>99.9</td><td>0.94</td><td>99.9</td><td>99.9</td><td>99.9</td><td>9.0</td><td>1.5</td><td>1.5</td><td>9.99</td><td>9.99</td><td>9.99</td><td>9.0</td></tr>\n",
       "<tr><td>ESO 294- G 010</td><td>6.639166666666666,-41.85527777777778</td><td>0.006</td><td>26.54</td><td>0.04</td><td>0.04</td><td>117.0</td><td>5.0</td><td>5.0</td><td>15.3</td><td>0.3</td><td>0.3</td><td>8.0</td><td>99.9</td><td>99.9</td><td>0.51</td><td>9.99</td><td>9.99</td><td>22.3</td><td>0.2</td><td>0.2</td><td>0.42</td><td>0.04</td><td>0.04</td><td>99.9</td><td>99.9</td><td>99.9</td><td>99.9</td><td>99.9</td><td>99.9</td><td>0.34</td><td>9.7</td><td>0.9</td><td>0.9</td><td>99.9</td><td>99.9</td><td>99.9</td><td>-1.48</td><td>0.17</td><td>0.17</td><td>6.0</td></tr>\n",
       "<tr><td>NGC 300</td><td>13.722916666666665,-37.68444444444444</td><td>0.013</td><td>26.59</td><td>0.06</td><td>0.06</td><td>146.0</td><td>2.0</td><td>2.0</td><td>8.1</td><td>0.1</td><td>0.1</td><td>111.0</td><td>2.0</td><td>2.0</td><td>0.29</td><td>0.01</td><td>0.01</td><td>21.0</td><td>9.9</td><td>9.9</td><td>5.0</td><td>9.99</td><td>9.99</td><td>99.9</td><td>99.9</td><td>99.9</td><td>80.0</td><td>5.0</td><td>5.0</td><td>1800.0</td><td>13.0</td><td>5.0</td><td>5.0</td><td>98.8</td><td>3.1</td><td>3.1</td><td>9.99</td><td>9.99</td><td>9.99</td><td>9.0</td></tr>\n",
       "<tr><td>IC 5152</td><td>330.67291666666665,-51.296388888888885</td><td>0.025</td><td>26.45</td><td>0.05</td><td>0.05</td><td>122.0</td><td>2.0</td><td>2.0</td><td>10.9</td><td>9.9</td><td>9.9</td><td>100.0</td><td>2.0</td><td>2.0</td><td>0.38</td><td>0.02</td><td>0.02</td><td>20.1</td><td>9.9</td><td>9.9</td><td>0.97</td><td>9.99</td><td>9.99</td><td>99.9</td><td>99.9</td><td>99.9</td><td>99.9</td><td>99.9</td><td>99.9</td><td>87.0</td><td>99.9</td><td>99.9</td><td>99.9</td><td>99.9</td><td>99.9</td><td>99.9</td><td>9.99</td><td>9.99</td><td>9.99</td><td>9.0</td></tr>\n",
       "<tr><td>KKH 98</td><td>356.3916666666666,38.717777777777776</td><td>0.123</td><td>27.01</td><td>0.09</td><td>0.09</td><td>-136.9</td><td>1.0</td><td>1.0</td><td>15.2</td><td>0.3</td><td>0.3</td><td>175.0</td><td>1.0</td><td>1.0</td><td>0.41</td><td>0.01</td><td>0.01</td><td>22.8</td><td>0.2</td><td>0.2</td><td>0.64</td><td>0.06</td><td>0.06</td><td>99.9</td><td>99.9</td><td>99.9</td><td>99.9</td><td>99.9</td><td>99.9</td><td>6.6</td><td>99.9</td><td>99.9</td><td>99.9</td><td>99.9</td><td>99.9</td><td>99.9</td><td>-1.94</td><td>0.25</td><td>0.25</td><td>6.0</td></tr>\n",
       "<tr><td>UKS 2323-326</td><td>351.61458333333326,-32.388888888888886</td><td>0.015</td><td>26.72</td><td>0.09</td><td>0.09</td><td>62.0</td><td>5.0</td><td>5.0</td><td>13.5</td><td>0.2</td><td>0.2</td><td>120.0</td><td>4.0</td><td>4.0</td><td>0.1</td><td>0.01</td><td>0.01</td><td>22.9</td><td>0.2</td><td>0.2</td><td>0.9</td><td>0.1</td><td>0.1</td><td>99.9</td><td>99.9</td><td>99.9</td><td>99.9</td><td>99.9</td><td>99.9</td><td>17.0</td><td>99.9</td><td>99.9</td><td>99.9</td><td>99.9</td><td>99.9</td><td>99.9</td><td>-1.68</td><td>0.19</td><td>0.19</td><td>6.0</td></tr>\n",
       "<tr><td>KKR 3</td><td>211.79374999999996,35.06027777777778</td><td>0.014</td><td>26.7</td><td>0.12</td><td>0.12</td><td>63.3</td><td>1.8</td><td>1.8</td><td>17.2</td><td>0.3</td><td>0.3</td><td>0.0</td><td>1.0</td><td>1.0</td><td>0.05</td><td>0.01</td><td>0.01</td><td>23.8</td><td>0.2</td><td>0.2</td><td>0.36</td><td>0.04</td><td>0.04</td><td>99.9</td><td>99.9</td><td>99.9</td><td>99.9</td><td>99.9</td><td>99.9</td><td>2.5</td><td>7.5</td><td>0.5</td><td>0.5</td><td>0.0</td><td>0.0</td><td>0.0</td><td>-2.02</td><td>0.25</td><td>0.25</td><td>6.0</td></tr>\n",
       "<tr><td>GR 8</td><td>194.66833333333332,14.2175</td><td>0.026</td><td>26.69</td><td>0.12</td><td>0.12</td><td>213.9</td><td>2.5</td><td>2.5</td><td>14.5</td><td>0.2</td><td>0.2</td><td>61.0</td><td>2.0</td><td>2.0</td><td>0.2</td><td>0.05</td><td>0.05</td><td>22.6</td><td>0.2</td><td>0.2</td><td>0.32</td><td>0.04</td><td>0.04</td><td>99.9</td><td>99.9</td><td>99.9</td><td>99.9</td><td>99.9</td><td>99.9</td><td>11.0</td><td>7.0</td><td>0.2</td><td>0.2</td><td>0.0</td><td>0.0</td><td>0.0</td><td>9.99</td><td>9.99</td><td>9.99</td><td>9.0</td></tr>\n",
       "<tr><td>UGC 9128</td><td>213.98541666666662,23.05527777777778</td><td>0.023</td><td>26.8</td><td>0.04</td><td>0.04</td><td>152.0</td><td>1.0</td><td>1.0</td><td>14.4</td><td>0.3</td><td>0.3</td><td>46.0</td><td>2.0</td><td>2.0</td><td>0.4</td><td>0.05</td><td>0.05</td><td>22.6</td><td>0.2</td><td>0.2</td><td>0.64</td><td>0.07</td><td>0.07</td><td>99.9</td><td>99.9</td><td>99.9</td><td>99.9</td><td>99.9</td><td>99.9</td><td>18.0</td><td>15.0</td><td>99.9</td><td>99.9</td><td>56.0</td><td>99.9</td><td>99.9</td><td>-2.33</td><td>0.24</td><td>0.24</td><td>6.0</td></tr>\n",
       "<tr><td>UGC 8508</td><td>202.685,54.91</td><td>0.015</td><td>27.06</td><td>0.03</td><td>0.03</td><td>56.0</td><td>5.0</td><td>5.0</td><td>13.7</td><td>0.1</td><td>0.1</td><td>120.0</td><td>2.0</td><td>2.0</td><td>0.45</td><td>0.05</td><td>0.05</td><td>21.5</td><td>0.2</td><td>0.2</td><td>0.42</td><td>0.04</td><td>0.04</td><td>99.9</td><td>99.9</td><td>99.9</td><td>99.9</td><td>99.9</td><td>99.9</td><td>29.0</td><td>99.9</td><td>99.9</td><td>99.9</td><td>31.2</td><td>2.3</td><td>2.3</td><td>-1.91</td><td>0.19</td><td>0.19</td><td>6.0</td></tr>\n",
       "<tr><td>IC 3104</td><td>184.69166666666666,-79.72611111111111</td><td>0.41</td><td>26.78</td><td>0.18</td><td>0.18</td><td>429.0</td><td>4.0</td><td>4.0</td><td>12.8</td><td>9.9</td><td>9.9</td><td>45.0</td><td>2.0</td><td>2.0</td><td>0.52</td><td>0.02</td><td>0.02</td><td>23.3</td><td>9.9</td><td>9.9</td><td>2.01</td><td>9.99</td><td>9.99</td><td>99.9</td><td>99.9</td><td>99.9</td><td>99.9</td><td>99.9</td><td>99.9</td><td>13.0</td><td>99.9</td><td>99.9</td><td>99.9</td><td>999.9</td><td>99.9</td><td>99.9</td><td>9.99</td><td>9.99</td><td>9.99</td><td>9.0</td></tr>\n",
       "<tr><td>DDO 125</td><td>186.92041666666663,43.495555555555555</td><td>0.02</td><td>27.06</td><td>0.05</td><td>0.05</td><td>194.9</td><td>0.2</td><td>0.2</td><td>12.7</td><td>0.3</td><td>0.3</td><td>112.0</td><td>4.0</td><td>4.0</td><td>0.41</td><td>0.01</td><td>0.01</td><td>22.1</td><td>0.2</td><td>0.2</td><td>1.04</td><td>0.1</td><td>0.1</td><td>99.9</td><td>99.9</td><td>99.9</td><td>99.9</td><td>99.9</td><td>99.9</td><td>35.0</td><td>7.3</td><td>1.5</td><td>1.5</td><td>11.2</td><td>2.7</td><td>2.7</td><td>-1.73</td><td>0.17</td><td>0.17</td><td>6.0</td></tr>\n",
       "<tr><td>UGCA 86</td><td>59.951249999999995,67.13861111111112</td><td>0.938</td><td>27.36</td><td>0.17</td><td>0.17</td><td>67.0</td><td>4.0</td><td>4.0</td><td>14.2</td><td>9.9</td><td>9.9</td><td>25.0</td><td>1.0</td><td>1.0</td><td>0.32</td><td>0.03</td><td>0.03</td><td>22.8</td><td>9.9</td><td>9.9</td><td>0.94</td><td>9.99</td><td>9.99</td><td>99.9</td><td>99.9</td><td>99.9</td><td>99.9</td><td>99.9</td><td>99.9</td><td>860.0</td><td>8.8</td><td>1.0</td><td>1.0</td><td>122.0</td><td>5.0</td><td>5.0</td><td>9.99</td><td>9.99</td><td>9.99</td><td>9.0</td></tr>\n",
       "<tr><td>DDO 99</td><td>177.7208333333333,38.88027777777778</td><td>0.026</td><td>27.07</td><td>0.14</td><td>0.14</td><td>251.0</td><td>4.0</td><td>4.0</td><td>13.9</td><td>0.1</td><td>0.1</td><td>70.0</td><td>4.0</td><td>4.0</td><td>0.29</td><td>0.01</td><td>0.01</td><td>22.9</td><td>0.2</td><td>0.2</td><td>0.9</td><td>0.09</td><td>0.09</td><td>99.9</td><td>99.9</td><td>99.9</td><td>99.9</td><td>99.9</td><td>99.9</td><td>52.0</td><td>99.9</td><td>99.9</td><td>99.9</td><td>99.9</td><td>99.9</td><td>99.9</td><td>-2.13</td><td>0.22</td><td>0.22</td><td>6.0</td></tr>\n",
       "<tr><td>IC 4662</td><td>266.78666666666663,-64.64166666666668</td><td>0.07</td><td>26.94</td><td>0.17</td><td>0.17</td><td>302.0</td><td>3.0</td><td>3.0</td><td>11.1</td><td>0.3</td><td>0.3</td><td>111.0</td><td>4.0</td><td>4.0</td><td>0.27</td><td>0.01</td><td>0.01</td><td>18.7</td><td>0.2</td><td>0.2</td><td>0.48</td><td>0.05</td><td>0.05</td><td>99.9</td><td>99.9</td><td>99.9</td><td>99.9</td><td>99.9</td><td>99.9</td><td>180.0</td><td>99.9</td><td>99.9</td><td>99.9</td><td>99.9</td><td>99.9</td><td>99.9</td><td>-1.34</td><td>0.13</td><td>0.13</td><td>6.0</td></tr>\n",
       "<tr><td>DDO 190</td><td>216.1808333333333,44.52583333333333</td><td>0.012</td><td>27.23</td><td>0.03</td><td>0.03</td><td>150.0</td><td>4.0</td><td>4.0</td><td>12.8</td><td>0.1</td><td>0.1</td><td>82.0</td><td>5.0</td><td>5.0</td><td>0.1</td><td>0.02</td><td>0.02</td><td>21.4</td><td>0.2</td><td>0.2</td><td>0.64</td><td>0.06</td><td>0.06</td><td>99.9</td><td>99.9</td><td>99.9</td><td>99.9</td><td>99.9</td><td>99.9</td><td>43.0</td><td>10.0</td><td>2.4</td><td>2.4</td><td>24.7</td><td>2.5</td><td>2.5</td><td>-2.0</td><td>0.08</td><td>0.08</td><td>6.0</td></tr>\n",
       "<tr><td>KKH 86</td><td>208.6395833333333,4.243055555555555</td><td>0.027</td><td>27.06</td><td>0.16</td><td>0.16</td><td>287.2</td><td>0.7</td><td>0.7</td><td>17.1</td><td>0.3</td><td>0.3</td><td>177.0</td><td>1.0</td><td>1.0</td><td>0.39</td><td>0.01</td><td>0.01</td><td>23.2</td><td>0.2</td><td>0.2</td><td>0.28</td><td>0.03</td><td>0.03</td><td>99.9</td><td>99.9</td><td>99.9</td><td>99.9</td><td>99.9</td><td>99.9</td><td>0.88</td><td>99.9</td><td>99.9</td><td>99.9</td><td>99.9</td><td>99.9</td><td>99.9</td><td>-2.33</td><td>0.29</td><td>0.29</td><td>6.0</td></tr>\n",
       "<tr><td>NGC 4163</td><td>183.03791666666663,36.16916666666666</td><td>0.02</td><td>27.28</td><td>0.03</td><td>0.03</td><td>165.0</td><td>5.0</td><td>5.0</td><td>13.2</td><td>0.3</td><td>0.3</td><td>11.0</td><td>2.0</td><td>2.0</td><td>0.3</td><td>0.05</td><td>0.05</td><td>21.1</td><td>0.2</td><td>0.2</td><td>0.45</td><td>0.05</td><td>0.05</td><td>99.9</td><td>99.9</td><td>99.9</td><td>99.9</td><td>99.9</td><td>99.9</td><td>7.9</td><td>7.4</td><td>99.9</td><td>99.9</td><td>8.7</td><td>99.9</td><td>99.9</td><td>-1.65</td><td>0.15</td><td>0.15</td><td>6.0</td></tr>\n",
       "<tr><td>DDO 113</td><td>183.74124999999995,36.21888888888889</td><td>0.02</td><td>27.35</td><td>0.06</td><td>0.06</td><td>284.0</td><td>6.0</td><td>6.0</td><td>16.4</td><td>0.3</td><td>0.3</td><td>999.9</td><td>99.9</td><td>99.9</td><td>0.0</td><td>0.09</td><td>0.09</td><td>24.0</td><td>0.2</td><td>0.2</td><td>0.7</td><td>0.07</td><td>0.07</td><td>99.9</td><td>99.9</td><td>99.9</td><td>99.9</td><td>99.9</td><td>99.9</td><td>48.0</td><td>99.9</td><td>99.9</td><td>99.9</td><td>99.9</td><td>99.9</td><td>99.9</td><td>-1.99</td><td>0.21</td><td>0.21</td><td>6.0</td></tr>\n",
       "</table><style>table.dataTable {clear: both; width: auto !important; margin: 0 !important;}\n",
       ".dataTables_info, .dataTables_length, .dataTables_filter, .dataTables_paginate{\n",
       "display: inline-block; margin-right: 1em; }\n",
       ".paginate_button { margin-right: 5px; }\n",
       "</style>\n",
       "<script>\n",
       "require.config({paths: {\n",
       "    datatables: 'https://cdn.datatables.net/1.10.9/js/jquery.dataTables.min'\n",
       "}});\n",
       "require([\"datatables\"], function(){\n",
       "    console.log(\"$('#table4521403392-618234').dataTable()\");\n",
       "    $('#table4521403392-618234').dataTable({\n",
       "        \"iDisplayLength\": 10,\n",
       "        \"aLengthMenu\": [[10, 25, 50, 100, 500, 1000, -1], [10, 25, 50, 100, 500, 1000, 'All']],\n",
       "        \"pagingType\": \"full_numbers\"\n",
       "    });\n",
       "});\n",
       "</script>\n"
      ],
      "text/plain": [
       "<IPython.core.display.HTML object>"
      ]
     },
     "execution_count": 160,
     "metadata": {},
     "output_type": "execute_result"
    }
   ],
   "source": [
    "mcconn_tab = table.Table()\n",
    "mcconn_tab['Name'] = [s.strip() for s in str_tab['GalaxyName']]\n",
    "\n",
    "scs = []\n",
    "for row in str_tab:\n",
    "    scs.append(SkyCoord(row['RA'], row['Dec'], unit=(u.hour, u.deg)))\n",
    "mcconn_tab['Coords'] = SkyCoord(scs)\n",
    "\n",
    "for col in str_tab.colnames[3:]:\n",
    "    if col in ('EB-V', 'F', 'MHI'):\n",
    "        #single number\n",
    "        mcconn_tab[col] = [float(s) for s in str_tab[col]]\n",
    "    else:\n",
    "        # num + -\n",
    "        vals, ps, ms = [], [], []\n",
    "        for s in str_tab[col]:\n",
    "            val, p, m = s.split()\n",
    "            vals.append(float(val))\n",
    "            ps.append(float(p))\n",
    "            ms.append(float(m))\n",
    "        mcconn_tab[col] = vals\n",
    "        mcconn_tab[col + '+'] = ps\n",
    "        mcconn_tab[col + '-'] = ms\n",
    "\n",
    "mcconn_tab.show_in_notebook(display_length=10)"
   ]
  },
  {
   "cell_type": "code",
   "execution_count": 124,
   "metadata": {
    "collapsed": false
   },
   "outputs": [
    {
     "data": {
      "text/html": [
       "&lt;Table length=18&gt;\n",
       "<table id=\"table4498602696-708200\" class=\"table table-striped table-bordered table-condensed\">\n",
       "<thead><tr><th>Name</th><th>D_sun</th><th>V_LSR</th><th>L_V</th><th>r_h</th><th>epsilon</th><th>sigma_*</th><th>H I</th><th>sigma_15</th><th>MHI</th><th>MHIoL</th><th>MHIoMd</th></tr></thead>\n",
       "<tr><td>Segue I</td><td>23</td><td>203</td><td>340.0</td><td>4.4</td><td>0.48</td><td>3.9</td><td>GBT</td><td>1.1</td><td>11.0</td><td>0.031</td><td>4.1e-05</td></tr>\n",
       "<tr><td>Sagittarius dSph</td><td>26</td><td>149</td><td>22000000.0</td><td>340</td><td>0.64</td><td>11.4</td><td>BL99</td><td>23.0</td><td>4430.0</td><td>0.00021</td><td>2.3e-05</td></tr>\n",
       "<tr><td>Ursa Major II</td><td>32</td><td>-113</td><td>41000.0</td><td>16</td><td>0.63</td><td>6.7</td><td>GBT</td><td>2.0</td><td>74.0</td><td>0.0018</td><td>1.9e-05</td></tr>\n",
       "<tr><td>Bootes II</td><td>42</td><td>-107</td><td>1000.0</td><td>4.2</td><td>0.21</td><td>10.5</td><td>GBT</td><td>1.2</td><td>38.0</td><td>0.037</td><td>1.2e-05</td></tr>\n",
       "<tr><td>Coma Berenices</td><td>44</td><td>104</td><td>3700.0</td><td>6.0</td><td>0.38</td><td>4.6</td><td>GBT</td><td>1.8</td><td>62.0</td><td>0.017</td><td>6.5e-05</td></tr>\n",
       "<tr><td>Bootes III</td><td>47</td><td>210</td><td>18000.0</td><td>48^b</td><td>0.50^b</td><td>14.0</td><td>ALFALFA</td><td>2.0</td><td>1080.0</td><td>0.061</td><td>1.5e-05</td></tr>\n",
       "<tr><td>Bootes I</td><td>66</td><td>110</td><td>28000.0</td><td>13</td><td>0.39</td><td>2.4</td><td>GBT</td><td>1.6</td><td>252.0</td><td>0.0089</td><td>0.00031</td></tr>\n",
       "<tr><td>Draco</td><td>76</td><td>-274</td><td>280000.0</td><td>10</td><td>0.31</td><td>9.1</td><td>GBT</td><td>0.75</td><td>133.0</td><td>0.00047</td><td>1.2e-05</td></tr>\n",
       "<tr><td>Ursa Minor</td><td>76</td><td>-233</td><td>280000.0</td><td>8.2</td><td>0.56</td><td>9.5</td><td>GBT</td><td>0.61</td><td>63.0</td><td>0.00022</td><td>6.6e-06</td></tr>\n",
       "<tr><td>Sextans</td><td>86</td><td>216</td><td>450000.0</td><td>28</td><td>0.35</td><td>7.9</td><td>GASS</td><td>29.0</td><td>9430.0</td><td>0.021</td><td>0.00038</td></tr>\n",
       "<tr><td>Carina</td><td>105</td><td>204</td><td>370000.0</td><td>8.2</td><td>0.33</td><td>6.6</td><td>GASS</td><td>24.0</td><td>4780.0</td><td>0.013</td><td>0.00076</td></tr>\n",
       "<tr><td>Leo V</td><td>178</td><td>171</td><td>10000.0</td><td>2.6</td><td>0.50</td><td>3.7</td><td>GBT</td><td>0.72</td><td>403.0</td><td>0.039</td><td>0.00037</td></tr>\n",
       "<tr><td>Canes Venatici I</td><td>218</td><td>42</td><td>240000.0</td><td>8.9</td><td>0.39</td><td>7.6</td><td>GBT</td><td>0.98</td><td>1170.0</td><td>0.0049</td><td>6.1e-05</td></tr>\n",
       "<tr><td>Leo II</td><td>233</td><td>78</td><td>710000.0</td><td>2.6</td><td>0.13</td><td>6.6</td><td>ALFALFA</td><td>2.0</td><td>1960.0</td><td>0.0028</td><td>0.00043</td></tr>\n",
       "<tr><td>Leo I</td><td>254</td><td>277</td><td>5400000.0</td><td>3.4</td><td>0.21</td><td>9.2</td><td>ALFALFA</td><td>2.2</td><td>3560.0</td><td>0.00066</td><td>0.0003</td></tr>\n",
       "<tr><td>Cetus</td><td>755</td><td>-88</td><td>2800000.0</td><td>3.2</td><td>0.33</td><td>8.3</td><td>GASS</td><td>23.0</td><td>230000.0</td><td>0.083</td><td>0.0044</td></tr>\n",
       "<tr><td>Tucana</td><td>887</td><td>188</td><td>560000.0</td><td>1.1</td><td>0.48</td><td>15.8</td><td>GASS</td><td>21.0</td><td>290000.0</td><td>0.52</td><td>0.0035</td></tr>\n",
       "<tr><td>Andromeda XVIII</td><td>1213</td><td>-325</td><td>500000.0</td><td>0.92</td><td>... ^c</td><td>9.7</td><td>LAB</td><td>183.0</td><td>4800000.0</td><td>9.5</td><td>0.27</td></tr>\n",
       "</table><style>table.dataTable {clear: both; width: auto !important; margin: 0 !important;}\n",
       ".dataTables_info, .dataTables_length, .dataTables_filter, .dataTables_paginate{\n",
       "display: inline-block; margin-right: 1em; }\n",
       ".paginate_button { margin-right: 5px; }\n",
       "</style>\n",
       "<script>\n",
       "require.config({paths: {\n",
       "    datatables: 'https://cdn.datatables.net/1.10.9/js/jquery.dataTables.min'\n",
       "}});\n",
       "require([\"datatables\"], function(){\n",
       "    console.log(\"$('#table4498602696-708200').dataTable()\");\n",
       "    $('#table4498602696-708200').dataTable({\n",
       "        \"iDisplayLength\": 10,\n",
       "        \"aLengthMenu\": [[10, 25, 50, 100, 500, 1000, -1], [10, 25, 50, 100, 500, 1000, 'All']],\n",
       "        \"pagingType\": \"full_numbers\"\n",
       "    });\n",
       "});\n",
       "</script>\n"
      ],
      "text/plain": [
       "<IPython.core.display.HTML object>"
      ]
     },
     "execution_count": 124,
     "metadata": {},
     "output_type": "execute_result"
    }
   ],
   "source": [
    "#units\n",
    "# (kpc)\t(km s^-1)\t(L_sun)\t(arcmin)\t(km s^-1)\tSource\t(mJy beam^-1)\t(M_sun)\t(M_sun/L_sun)\t\n",
    "spekkens_tab1=\"\"\"\n",
    "Name\tD_sun\tV_LSR\tL_V\tr_h\tepsilon\tsigma_*\tH I\tsigma_15\tMHI\tMHIoL\tMHIoMd\t\n",
    "Segue I\t23\t203\t3.4E2\t4.4\t0.48\t3.9\tGBT\t1.1\t11\t3.1E-2\t4.1E-5\t\n",
    "Sagittarius dSph\t26\t149\t2.2E7\t340\t0.64\t11.4\tBL99\t23\t4430\t2.1E-4\t2.3E-5\t\n",
    "Ursa Major II\t32\t-113\t4.1E4\t16\t0.63\t6.7\tGBT\t2.0\t74\t1.8E-3\t1.9E-5\t\n",
    "Bootes II\t42\t-107\t1.0E3\t4.2\t0.21\t10.5\tGBT\t1.2\t38\t3.7E-2\t1.2E-5\t\n",
    "Coma Berenices\t44\t104\t3.7E3\t6.0\t0.38\t4.6\tGBT\t1.8\t62\t1.7E-2\t6.5E-5\t\n",
    "Bootes III\t47\t210\t1.8E4\t48^b\t0.50^b\t14.0\tALFALFA\t2.0\t1080\t6.1E-2\t1.5E-5\t\n",
    "Bootes I\t66\t110\t2.8E4\t13\t0.39\t2.4\tGBT\t1.6\t252\t8.9E-3\t3.1E-4\t\n",
    "Draco\t76\t-274\t2.8E5\t10\t0.31\t9.1\tGBT\t0.75\t133\t4.7E-4\t1.2E-5\t\n",
    "Ursa Minor\t76\t-233\t2.8E5\t8.2\t0.56\t9.5\tGBT\t0.61\t63\t2.2E-4\t6.6E-6\t\n",
    "Sextans\t86\t216\t4.5E5\t28\t0.35\t7.9\tGASS\t29\t9430\t2.1E-2\t3.8E-4\t\n",
    "Carina\t105\t204\t3.7E5\t8.2\t0.33\t6.6\tGASS\t24\t4780\t1.3E-2\t7.6E-4\t\n",
    "Leo V\t178\t171\t1.0E4\t2.6\t0.50\t3.7\tGBT\t0.72\t403\t3.9E-2\t3.7E-4\t\n",
    "Canes Venatici I\t218\t42\t2.4E5\t8.9\t0.39\t7.6\tGBT\t0.98\t1170\t4.9E-3\t6.1E-5\t\n",
    "Leo II\t233\t78\t7.1E5\t2.6\t0.13\t6.6\tALFALFA\t2.0\t1960\t2.8E-3\t4.3E-4\t\n",
    "Leo I\t254\t277\t5.4E6\t3.4\t0.21\t9.2\tALFALFA\t2.2\t3560\t6.6E-4\t3.0E-4\t\n",
    "Cetus\t755\t-88\t2.8E6\t3.2\t0.33\t8.3\tGASS\t23\t2.3E5\t8.3E-2\t4.4E-3\t\n",
    "Tucana\t887\t188\t5.6E5\t1.1\t0.48\t15.8\tGASS\t21\t2.9E5\t5.2E-1\t3.5E-3\t\n",
    "Andromeda XVIII\t1213\t-325\t5.0E5\t0.92\t ... ^c\t9.7\tLAB\t183\t4.8E6\t9.5E0\t2.7E-1\t\n",
    "\"\"\"\n",
    "spekkens_tab1 = ascii.read(spekkens_tab1, guess=False, delimiter='\\t')\n",
    "spekkens_tab1.show_in_notebook(display_length=10)"
   ]
  },
  {
   "cell_type": "markdown",
   "metadata": {},
   "source": [
    "# Compare LG objects to Bradford relation "
   ]
  },
  {
   "cell_type": "code",
   "execution_count": 186,
   "metadata": {
    "collapsed": true
   },
   "outputs": [],
   "source": [
    "mtol = 1"
   ]
  },
  {
   "cell_type": "code",
   "execution_count": 187,
   "metadata": {
    "collapsed": false
   },
   "outputs": [],
   "source": [
    "mcc_Vabs = mcconn_tab['Vmag'] + 3.1*mcconn_tab['EB-V'] - mcconn_tab['(m-M)o']\n",
    "mcc_lmstar = (Vabs - 4.83)/-2.5 + np.log10(mtol)"
   ]
  },
  {
   "cell_type": "code",
   "execution_count": 203,
   "metadata": {
    "collapsed": false
   },
   "outputs": [
    {
     "data": {
      "text/plain": [
       "<matplotlib.legend.Legend at 0x11289ef98>"
      ]
     },
     "execution_count": 203,
     "metadata": {},
     "output_type": "execute_result"
    },
    {
     "data": {
      "image/png": "[encoded data removed]",
      "text/plain": [
       "<matplotlib.figure.Figure at 0x112835d30>"
      ]
     },
     "metadata": {},
     "output_type": "display_data"
    }
   ],
   "source": [
    "plt.figure(figsize=(12,6))\n",
    "\n",
    "lgmsk = (mcconn_tab['MHI']!=0)&(mcconn_tab['MHI']!=99.9) & (mcconn_tab['Vmag']!=99.9)\n",
    "plt.scatter(lmstar[lgmsk],  np.log10(mcconn_tab['MHI'][lgmsk])+6, \n",
    "            lw=0, c='b', \n",
    "            label='LG Detections (McConnachie+ 12)')\n",
    "\n",
    "plt.scatter(np.log10(spekkens_tab1['L_V']*mtol),  np.log10(spekkens_tab1['MHI']), \n",
    "            marker='v', s=40, lw=0, c='r', \n",
    "            label=r'Spekkens+ 14 Limits (w/i $R_{\\rm vir}$)')\n",
    "\n",
    "lmsbrad = np.linspace(2,10, 100)\n",
    "lmhi = np.log10(bradford_15_mstar_to_mgas(u.solMass*10**lmsbrad)/1.4/u.solMass) # 1.4 is for the He correction\n",
    "plt.plot(lmsbrad, lmhi, c='k', ls='--', label='Bradford+ 15')\n",
    "plt.plot(lmsbrad, lmhi - np.log10(2), c='k', ls=':', label='0.5x Bradford+ 15')\n",
    "\n",
    "plt.xlabel(r'$\\log(M_*/M_\\odot)$',fontsize=24)\n",
    "plt.ylabel(r'$\\log(M_{\\rm HI}/M_\\odot)$',fontsize=24)\n",
    "\n",
    "plt.xlim(2,10)\n",
    "plt.ylim(0,10)\n",
    "plt.legend(loc=0)"
   ]
  },
  {
   "cell_type": "code",
   "execution_count": null,
   "metadata": {
    "collapsed": true
   },
   "outputs": [],
   "source": []
  }
 ],
 "metadata": {
  "kernelspec": {
   "display_name": "Python 3",
   "language": "python",
   "name": "python3"
  },
  "language_info": {
   "codemirror_mode": {
    "name": "ipython",
    "version": 3
   },
   "file_extension": ".py",
   "mimetype": "text/x-python",
   "name": "python",
   "nbconvert_exporter": "python",
   "pygments_lexer": "ipython3",
   "version": "3.5.1"
  }
 },
 "nbformat": 4,
 "nbformat_minor": 0
}
